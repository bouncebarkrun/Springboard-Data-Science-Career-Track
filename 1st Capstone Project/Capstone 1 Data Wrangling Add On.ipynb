{
 "cells": [
  {
   "cell_type": "markdown",
   "metadata": {},
   "source": [
    "# Capstone Project 1 Data Wrangling\n",
    "### Molly McNamara"
   ]
  },
  {
   "cell_type": "markdown",
   "metadata": {},
   "source": [
    "Weather data for the top 10 cities with 15 years of pollution data has been downloaded from the NOAA website.  This data needs to be cleaned up and formatted and then joined with the pollution data."
   ]
  },
  {
   "cell_type": "markdown",
   "metadata": {},
   "source": [
    "#### Import pandas package"
   ]
  },
  {
   "cell_type": "code",
   "execution_count": 1,
   "metadata": {
    "collapsed": true
   },
   "outputs": [],
   "source": [
    "import pandas as pd\n",
    "pd.set_option(\"display.max_columns\", 500)"
   ]
  },
  {
   "cell_type": "markdown",
   "metadata": {},
   "source": [
    "#### Import the pollution dataset"
   ]
  },
  {
   "cell_type": "code",
   "execution_count": 3,
   "metadata": {},
   "outputs": [
    {
     "data": {
      "text/plain": [
       "Site_Num                    int64\n",
       "Date_Local         datetime64[ns]\n",
       "State                      object\n",
       "County                     object\n",
       "City                       object\n",
       "NO2_Mean                  float64\n",
       "NO2_1stMaxValue           float64\n",
       "NO2_1stMaxHour            float64\n",
       "NO2_AQI                   float64\n",
       "O3_Mean                   float64\n",
       "O3_1stMaxValue            float64\n",
       "O3_1stMaxHour             float64\n",
       "O3_AQI                    float64\n",
       "SO2_Mean                  float64\n",
       "SO2_1stMaxValue           float64\n",
       "SO2_1stMaxHour            float64\n",
       "SO2_AQI                   float64\n",
       "CO_Mean                   float64\n",
       "CO_1stMaxValue            float64\n",
       "CO_1stMaxHour             float64\n",
       "CO_AQI                    float64\n",
       "dtype: object"
      ]
     },
     "execution_count": 3,
     "metadata": {},
     "output_type": "execute_result"
    }
   ],
   "source": [
    "pollution = pd.read_csv('~/Desktop/cleanpollution.csv', index_col='Unnamed: 0')\n",
    "pollution['Date_Local']= pd.to_datetime(pollution['Date_Local'],  errors='raise', format='%Y/%m/%d')\n",
    "pollution.dtypes"
   ]
  },
  {
   "cell_type": "markdown",
   "metadata": {},
   "source": [
    "#### Import the weather dataset"
   ]
  },
  {
   "cell_type": "code",
   "execution_count": 4,
   "metadata": {},
   "outputs": [],
   "source": [
    "weather = pd.read_csv('~/Desktop/Weather7.csv')"
   ]
  },
  {
   "cell_type": "code",
   "execution_count": 5,
   "metadata": {},
   "outputs": [
    {
     "name": "stdout",
     "output_type": "stream",
     "text": [
      "<class 'pandas.core.frame.DataFrame'>\n",
      "RangeIndex: 40770 entries, 0 to 40769\n",
      "Data columns (total 8 columns):\n",
      "NAME         40770 non-null object\n",
      "LATITUDE     40770 non-null float64\n",
      "LONGITUDE    40770 non-null float64\n",
      "ELEVATION    40770 non-null float64\n",
      "DATE         40770 non-null object\n",
      "PRCP         40760 non-null float64\n",
      "TMAX         40739 non-null float64\n",
      "TMIN         40740 non-null float64\n",
      "dtypes: float64(6), object(2)\n",
      "memory usage: 2.5+ MB\n"
     ]
    }
   ],
   "source": [
    "weather.info()"
   ]
  },
  {
   "cell_type": "code",
   "execution_count": 6,
   "metadata": {},
   "outputs": [
    {
     "data": {
      "text/plain": [
       "(40770, 8)"
      ]
     },
     "execution_count": 6,
     "metadata": {},
     "output_type": "execute_result"
    }
   ],
   "source": [
    "weather.shape"
   ]
  },
  {
   "cell_type": "code",
   "execution_count": 7,
   "metadata": {},
   "outputs": [
    {
     "data": {
      "text/plain": [
       "NAME                 object\n",
       "LATITUDE            float64\n",
       "LONGITUDE           float64\n",
       "ELEVATION           float64\n",
       "DATE         datetime64[ns]\n",
       "PRCP                float64\n",
       "TMAX                float64\n",
       "TMIN                float64\n",
       "dtype: object"
      ]
     },
     "execution_count": 7,
     "metadata": {},
     "output_type": "execute_result"
    }
   ],
   "source": [
    "weather['DATE']= pd.to_datetime(weather['DATE'],  errors='raise', format='%Y/%m/%d')\n",
    "weather.dtypes"
   ]
  },
  {
   "cell_type": "markdown",
   "metadata": {},
   "source": [
    "#### Address missing values"
   ]
  },
  {
   "cell_type": "code",
   "execution_count": 8,
   "metadata": {},
   "outputs": [
    {
     "data": {
      "text/plain": [
       "NAME         False\n",
       "LATITUDE     False\n",
       "LONGITUDE    False\n",
       "ELEVATION    False\n",
       "DATE         False\n",
       "PRCP          True\n",
       "TMAX          True\n",
       "TMIN          True\n",
       "dtype: bool"
      ]
     },
     "execution_count": 8,
     "metadata": {},
     "output_type": "execute_result"
    }
   ],
   "source": [
    "weather.isnull().any()"
   ]
  },
  {
   "cell_type": "markdown",
   "metadata": {},
   "source": [
    "While precipitation can be null, the temperature should always be a number.  In this case this will be done by forward-fill."
   ]
  },
  {
   "cell_type": "code",
   "execution_count": 9,
   "metadata": {
    "collapsed": true
   },
   "outputs": [],
   "source": [
    "cols = ['TMAX', 'TMIN']\n",
    "weather[cols] = weather[cols].ffill()"
   ]
  },
  {
   "cell_type": "code",
   "execution_count": 10,
   "metadata": {},
   "outputs": [
    {
     "data": {
      "text/plain": [
       "NAME         False\n",
       "LATITUDE     False\n",
       "LONGITUDE    False\n",
       "ELEVATION    False\n",
       "DATE         False\n",
       "PRCP          True\n",
       "TMAX         False\n",
       "TMIN         False\n",
       "dtype: bool"
      ]
     },
     "execution_count": 10,
     "metadata": {},
     "output_type": "execute_result"
    }
   ],
   "source": [
    "weather.isnull().any()"
   ]
  },
  {
   "cell_type": "markdown",
   "metadata": {},
   "source": [
    "#### Rename columns to match Pollution dataset"
   ]
  },
  {
   "cell_type": "code",
   "execution_count": 11,
   "metadata": {
    "collapsed": true
   },
   "outputs": [],
   "source": [
    "column_labels = ['City', 'Latitude', 'Longitude', 'Elevation', 'Date_Local', 'Precipitation', 'TempMax', 'TempMin']\n",
    "weather.columns = column_labels"
   ]
  },
  {
   "cell_type": "code",
   "execution_count": 15,
   "metadata": {},
   "outputs": [
    {
     "data": {
      "text/html": [
       "<div>\n",
       "<style scoped>\n",
       "    .dataframe tbody tr th:only-of-type {\n",
       "        vertical-align: middle;\n",
       "    }\n",
       "\n",
       "    .dataframe tbody tr th {\n",
       "        vertical-align: top;\n",
       "    }\n",
       "\n",
       "    .dataframe thead th {\n",
       "        text-align: right;\n",
       "    }\n",
       "</style>\n",
       "<table border=\"1\" class=\"dataframe\">\n",
       "  <thead>\n",
       "    <tr style=\"text-align: right;\">\n",
       "      <th></th>\n",
       "      <th>City</th>\n",
       "      <th>Latitude</th>\n",
       "      <th>Longitude</th>\n",
       "      <th>Elevation</th>\n",
       "      <th>Date_Local</th>\n",
       "      <th>Precipitation</th>\n",
       "      <th>TempMax</th>\n",
       "      <th>TempMin</th>\n",
       "    </tr>\n",
       "  </thead>\n",
       "  <tbody>\n",
       "    <tr>\n",
       "      <th>0</th>\n",
       "      <td>Los Angeles</td>\n",
       "      <td>34.0236</td>\n",
       "      <td>-118.2911</td>\n",
       "      <td>54.6</td>\n",
       "      <td>2000-01-01</td>\n",
       "      <td>0.0</td>\n",
       "      <td>58.0</td>\n",
       "      <td>45.0</td>\n",
       "    </tr>\n",
       "    <tr>\n",
       "      <th>1</th>\n",
       "      <td>Los Angeles</td>\n",
       "      <td>34.0236</td>\n",
       "      <td>-118.2911</td>\n",
       "      <td>54.6</td>\n",
       "      <td>2000-01-02</td>\n",
       "      <td>0.0</td>\n",
       "      <td>61.0</td>\n",
       "      <td>44.0</td>\n",
       "    </tr>\n",
       "    <tr>\n",
       "      <th>2</th>\n",
       "      <td>Los Angeles</td>\n",
       "      <td>34.0236</td>\n",
       "      <td>-118.2911</td>\n",
       "      <td>54.6</td>\n",
       "      <td>2000-01-03</td>\n",
       "      <td>0.0</td>\n",
       "      <td>67.0</td>\n",
       "      <td>42.0</td>\n",
       "    </tr>\n",
       "    <tr>\n",
       "      <th>3</th>\n",
       "      <td>Los Angeles</td>\n",
       "      <td>34.0236</td>\n",
       "      <td>-118.2911</td>\n",
       "      <td>54.6</td>\n",
       "      <td>2000-01-04</td>\n",
       "      <td>0.0</td>\n",
       "      <td>69.0</td>\n",
       "      <td>44.0</td>\n",
       "    </tr>\n",
       "    <tr>\n",
       "      <th>4</th>\n",
       "      <td>Los Angeles</td>\n",
       "      <td>34.0236</td>\n",
       "      <td>-118.2911</td>\n",
       "      <td>54.6</td>\n",
       "      <td>2000-01-05</td>\n",
       "      <td>0.0</td>\n",
       "      <td>71.0</td>\n",
       "      <td>42.0</td>\n",
       "    </tr>\n",
       "  </tbody>\n",
       "</table>\n",
       "</div>"
      ],
      "text/plain": [
       "          City  Latitude  Longitude  Elevation Date_Local  Precipitation  \\\n",
       "0  Los Angeles   34.0236  -118.2911       54.6 2000-01-01            0.0   \n",
       "1  Los Angeles   34.0236  -118.2911       54.6 2000-01-02            0.0   \n",
       "2  Los Angeles   34.0236  -118.2911       54.6 2000-01-03            0.0   \n",
       "3  Los Angeles   34.0236  -118.2911       54.6 2000-01-04            0.0   \n",
       "4  Los Angeles   34.0236  -118.2911       54.6 2000-01-05            0.0   \n",
       "\n",
       "   TempMax  TempMin  \n",
       "0     58.0     45.0  \n",
       "1     61.0     44.0  \n",
       "2     67.0     42.0  \n",
       "3     69.0     44.0  \n",
       "4     71.0     42.0  "
      ]
     },
     "execution_count": 15,
     "metadata": {},
     "output_type": "execute_result"
    }
   ],
   "source": [
    "weather.head()"
   ]
  },
  {
   "cell_type": "markdown",
   "metadata": {},
   "source": [
    "#### Join datasets"
   ]
  },
  {
   "cell_type": "code",
   "execution_count": 12,
   "metadata": {},
   "outputs": [],
   "source": [
    "weatherpollution = pd.merge(pollution, weather, how='left', on=['Date_Local', 'City'])"
   ]
  },
  {
   "cell_type": "markdown",
   "metadata": {},
   "source": [
    "The joined dataframe was saved as a new CSV."
   ]
  },
  {
   "cell_type": "code",
   "execution_count": 31,
   "metadata": {
    "collapsed": true
   },
   "outputs": [],
   "source": [
    "weatherpollution.to_csv('weatherpollution.csv')"
   ]
  },
  {
   "cell_type": "code",
   "execution_count": null,
   "metadata": {
    "collapsed": true
   },
   "outputs": [],
   "source": []
  }
 ],
 "metadata": {
  "kernelspec": {
   "display_name": "Python 3",
   "language": "python",
   "name": "python3"
  },
  "language_info": {
   "codemirror_mode": {
    "name": "ipython",
    "version": 3
   },
   "file_extension": ".py",
   "mimetype": "text/x-python",
   "name": "python",
   "nbconvert_exporter": "python",
   "pygments_lexer": "ipython3",
   "version": "3.6.1"
  }
 },
 "nbformat": 4,
 "nbformat_minor": 2
}
