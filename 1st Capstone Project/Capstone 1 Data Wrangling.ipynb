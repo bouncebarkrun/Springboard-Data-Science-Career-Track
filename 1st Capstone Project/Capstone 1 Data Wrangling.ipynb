{
 "cells": [
  {
   "cell_type": "markdown",
   "metadata": {},
   "source": [
    "# Capstone Project 1 Data Wrangling\n",
    "### Molly McNamara"
   ]
  },
  {
   "cell_type": "markdown",
   "metadata": {},
   "source": [
    "The primary dataset consists of daily levels of 4 primary air pollutants (Nitrogen Dioxide, Sulphur \n",
    "Dioxide, Carbon Monoxide and Ozone) and their air quality indices from major cities across the United \n",
    "States between 2000 and 2016. The data is sourced from the United States Environmental Protection \n",
    "Agency. "
   ]
  },
  {
   "cell_type": "markdown",
   "metadata": {},
   "source": [
    "#### Import pandas package"
   ]
  },
  {
   "cell_type": "code",
   "execution_count": 1,
   "metadata": {
    "collapsed": true
   },
   "outputs": [],
   "source": [
    "import pandas as pd\n",
    "pd.set_option(\"display.max_columns\", 500)"
   ]
  },
  {
   "cell_type": "markdown",
   "metadata": {},
   "source": [
    "#### Import the pollution dataset"
   ]
  },
  {
   "cell_type": "code",
   "execution_count": 2,
   "metadata": {},
   "outputs": [
    {
     "name": "stderr",
     "output_type": "stream",
     "text": [
      "C:\\Users\\mmcnamara\\AppData\\Local\\Continuum\\anaconda3\\lib\\site-packages\\numpy\\lib\\arraysetops.py:463: FutureWarning: elementwise comparison failed; returning scalar instead, but in the future will perform elementwise comparison\n",
      "  mask |= (ar1 == a)\n"
     ]
    }
   ],
   "source": [
    "\n",
    "pollution = pd.read_csv('~/Desktop/pollution_us_2000_2016.csv', index_col='Unnamed: 0')"
   ]
  },
  {
   "cell_type": "markdown",
   "metadata": {},
   "source": [
    "#### Initial assessment of dataset"
   ]
  },
  {
   "cell_type": "markdown",
   "metadata": {},
   "source": [
    "A very preliminary assessment of the dataset was performed to look at its current state."
   ]
  },
  {
   "cell_type": "code",
   "execution_count": 3,
   "metadata": {},
   "outputs": [
    {
     "name": "stdout",
     "output_type": "stream",
     "text": [
      "<class 'pandas.core.frame.DataFrame'>\n",
      "Int64Index: 1746661 entries, 0 to 24603\n",
      "Data columns (total 28 columns):\n",
      "State Code           int64\n",
      "County Code          int64\n",
      "Site Num             int64\n",
      "Address              object\n",
      "State                object\n",
      "County               object\n",
      "City                 object\n",
      "Date Local           object\n",
      "NO2 Units            object\n",
      "NO2 Mean             float64\n",
      "NO2 1st Max Value    float64\n",
      "NO2 1st Max Hour     int64\n",
      "NO2 AQI              int64\n",
      "O3 Units             object\n",
      "O3 Mean              float64\n",
      "O3 1st Max Value     float64\n",
      "O3 1st Max Hour      int64\n",
      "O3 AQI               int64\n",
      "SO2 Units            object\n",
      "SO2 Mean             float64\n",
      "SO2 1st Max Value    float64\n",
      "SO2 1st Max Hour     int64\n",
      "SO2 AQI              float64\n",
      "CO Units             object\n",
      "CO Mean              float64\n",
      "CO 1st Max Value     float64\n",
      "CO 1st Max Hour      int64\n",
      "CO AQI               float64\n",
      "dtypes: float64(10), int64(9), object(9)\n",
      "memory usage: 386.5+ MB\n"
     ]
    }
   ],
   "source": [
    "pollution.info()"
   ]
  },
  {
   "cell_type": "markdown",
   "metadata": {},
   "source": [
    "The dataset consists of 1,746,661 observations with 28 columns.  The head of the dataset was next viewed to get a general idea of what the real data looked like."
   ]
  },
  {
   "cell_type": "code",
   "execution_count": 4,
   "metadata": {
    "scrolled": true
   },
   "outputs": [
    {
     "data": {
      "text/html": [
       "<div>\n",
       "<style>\n",
       "    .dataframe thead tr:only-child th {\n",
       "        text-align: right;\n",
       "    }\n",
       "\n",
       "    .dataframe thead th {\n",
       "        text-align: left;\n",
       "    }\n",
       "\n",
       "    .dataframe tbody tr th {\n",
       "        vertical-align: top;\n",
       "    }\n",
       "</style>\n",
       "<table border=\"1\" class=\"dataframe\">\n",
       "  <thead>\n",
       "    <tr style=\"text-align: right;\">\n",
       "      <th></th>\n",
       "      <th>State Code</th>\n",
       "      <th>County Code</th>\n",
       "      <th>Site Num</th>\n",
       "      <th>Address</th>\n",
       "      <th>State</th>\n",
       "      <th>County</th>\n",
       "      <th>City</th>\n",
       "      <th>Date Local</th>\n",
       "      <th>NO2 Units</th>\n",
       "      <th>NO2 Mean</th>\n",
       "      <th>NO2 1st Max Value</th>\n",
       "      <th>NO2 1st Max Hour</th>\n",
       "      <th>NO2 AQI</th>\n",
       "      <th>O3 Units</th>\n",
       "      <th>O3 Mean</th>\n",
       "      <th>O3 1st Max Value</th>\n",
       "      <th>O3 1st Max Hour</th>\n",
       "      <th>O3 AQI</th>\n",
       "      <th>SO2 Units</th>\n",
       "      <th>SO2 Mean</th>\n",
       "      <th>SO2 1st Max Value</th>\n",
       "      <th>SO2 1st Max Hour</th>\n",
       "      <th>SO2 AQI</th>\n",
       "      <th>CO Units</th>\n",
       "      <th>CO Mean</th>\n",
       "      <th>CO 1st Max Value</th>\n",
       "      <th>CO 1st Max Hour</th>\n",
       "      <th>CO AQI</th>\n",
       "    </tr>\n",
       "  </thead>\n",
       "  <tbody>\n",
       "    <tr>\n",
       "      <th>0</th>\n",
       "      <td>4</td>\n",
       "      <td>13</td>\n",
       "      <td>3002</td>\n",
       "      <td>1645 E ROOSEVELT ST-CENTRAL PHOENIX STN</td>\n",
       "      <td>Arizona</td>\n",
       "      <td>Maricopa</td>\n",
       "      <td>Phoenix</td>\n",
       "      <td>2000-01-01</td>\n",
       "      <td>Parts per billion</td>\n",
       "      <td>19.041667</td>\n",
       "      <td>49.0</td>\n",
       "      <td>19</td>\n",
       "      <td>46</td>\n",
       "      <td>Parts per million</td>\n",
       "      <td>0.0225</td>\n",
       "      <td>0.04</td>\n",
       "      <td>10</td>\n",
       "      <td>34</td>\n",
       "      <td>Parts per billion</td>\n",
       "      <td>3.000</td>\n",
       "      <td>9.0</td>\n",
       "      <td>21</td>\n",
       "      <td>13.0</td>\n",
       "      <td>Parts per million</td>\n",
       "      <td>1.145833</td>\n",
       "      <td>4.2</td>\n",
       "      <td>21</td>\n",
       "      <td>NaN</td>\n",
       "    </tr>\n",
       "    <tr>\n",
       "      <th>1</th>\n",
       "      <td>4</td>\n",
       "      <td>13</td>\n",
       "      <td>3002</td>\n",
       "      <td>1645 E ROOSEVELT ST-CENTRAL PHOENIX STN</td>\n",
       "      <td>Arizona</td>\n",
       "      <td>Maricopa</td>\n",
       "      <td>Phoenix</td>\n",
       "      <td>2000-01-01</td>\n",
       "      <td>Parts per billion</td>\n",
       "      <td>19.041667</td>\n",
       "      <td>49.0</td>\n",
       "      <td>19</td>\n",
       "      <td>46</td>\n",
       "      <td>Parts per million</td>\n",
       "      <td>0.0225</td>\n",
       "      <td>0.04</td>\n",
       "      <td>10</td>\n",
       "      <td>34</td>\n",
       "      <td>Parts per billion</td>\n",
       "      <td>3.000</td>\n",
       "      <td>9.0</td>\n",
       "      <td>21</td>\n",
       "      <td>13.0</td>\n",
       "      <td>Parts per million</td>\n",
       "      <td>0.878947</td>\n",
       "      <td>2.2</td>\n",
       "      <td>23</td>\n",
       "      <td>25.0</td>\n",
       "    </tr>\n",
       "    <tr>\n",
       "      <th>2</th>\n",
       "      <td>4</td>\n",
       "      <td>13</td>\n",
       "      <td>3002</td>\n",
       "      <td>1645 E ROOSEVELT ST-CENTRAL PHOENIX STN</td>\n",
       "      <td>Arizona</td>\n",
       "      <td>Maricopa</td>\n",
       "      <td>Phoenix</td>\n",
       "      <td>2000-01-01</td>\n",
       "      <td>Parts per billion</td>\n",
       "      <td>19.041667</td>\n",
       "      <td>49.0</td>\n",
       "      <td>19</td>\n",
       "      <td>46</td>\n",
       "      <td>Parts per million</td>\n",
       "      <td>0.0225</td>\n",
       "      <td>0.04</td>\n",
       "      <td>10</td>\n",
       "      <td>34</td>\n",
       "      <td>Parts per billion</td>\n",
       "      <td>2.975</td>\n",
       "      <td>6.6</td>\n",
       "      <td>23</td>\n",
       "      <td>NaN</td>\n",
       "      <td>Parts per million</td>\n",
       "      <td>1.145833</td>\n",
       "      <td>4.2</td>\n",
       "      <td>21</td>\n",
       "      <td>NaN</td>\n",
       "    </tr>\n",
       "  </tbody>\n",
       "</table>\n",
       "</div>"
      ],
      "text/plain": [
       "   State Code  County Code  Site Num                                  Address  \\\n",
       "0           4           13      3002  1645 E ROOSEVELT ST-CENTRAL PHOENIX STN   \n",
       "1           4           13      3002  1645 E ROOSEVELT ST-CENTRAL PHOENIX STN   \n",
       "2           4           13      3002  1645 E ROOSEVELT ST-CENTRAL PHOENIX STN   \n",
       "\n",
       "     State    County     City  Date Local          NO2 Units   NO2 Mean  \\\n",
       "0  Arizona  Maricopa  Phoenix  2000-01-01  Parts per billion  19.041667   \n",
       "1  Arizona  Maricopa  Phoenix  2000-01-01  Parts per billion  19.041667   \n",
       "2  Arizona  Maricopa  Phoenix  2000-01-01  Parts per billion  19.041667   \n",
       "\n",
       "   NO2 1st Max Value  NO2 1st Max Hour  NO2 AQI           O3 Units  O3 Mean  \\\n",
       "0               49.0                19       46  Parts per million   0.0225   \n",
       "1               49.0                19       46  Parts per million   0.0225   \n",
       "2               49.0                19       46  Parts per million   0.0225   \n",
       "\n",
       "   O3 1st Max Value  O3 1st Max Hour  O3 AQI          SO2 Units  SO2 Mean  \\\n",
       "0              0.04               10      34  Parts per billion     3.000   \n",
       "1              0.04               10      34  Parts per billion     3.000   \n",
       "2              0.04               10      34  Parts per billion     2.975   \n",
       "\n",
       "   SO2 1st Max Value  SO2 1st Max Hour  SO2 AQI           CO Units   CO Mean  \\\n",
       "0                9.0                21     13.0  Parts per million  1.145833   \n",
       "1                9.0                21     13.0  Parts per million  0.878947   \n",
       "2                6.6                23      NaN  Parts per million  1.145833   \n",
       "\n",
       "   CO 1st Max Value  CO 1st Max Hour  CO AQI  \n",
       "0               4.2               21     NaN  \n",
       "1               2.2               23    25.0  \n",
       "2               4.2               21     NaN  "
      ]
     },
     "execution_count": 4,
     "metadata": {},
     "output_type": "execute_result"
    }
   ],
   "source": [
    "pollution.head(3)\n"
   ]
  },
  {
   "cell_type": "markdown",
   "metadata": {},
   "source": [
    "A number of columns will not be used in the analysis; for example, address of the environmental monitor or measurement units.  These were removed to simplify the dataset."
   ]
  },
  {
   "cell_type": "code",
   "execution_count": 5,
   "metadata": {},
   "outputs": [
    {
     "data": {
      "text/html": [
       "<div>\n",
       "<style>\n",
       "    .dataframe thead tr:only-child th {\n",
       "        text-align: right;\n",
       "    }\n",
       "\n",
       "    .dataframe thead th {\n",
       "        text-align: left;\n",
       "    }\n",
       "\n",
       "    .dataframe tbody tr th {\n",
       "        vertical-align: top;\n",
       "    }\n",
       "</style>\n",
       "<table border=\"1\" class=\"dataframe\">\n",
       "  <thead>\n",
       "    <tr style=\"text-align: right;\">\n",
       "      <th></th>\n",
       "      <th>Site Num</th>\n",
       "      <th>State</th>\n",
       "      <th>County</th>\n",
       "      <th>City</th>\n",
       "      <th>Date Local</th>\n",
       "      <th>NO2 Mean</th>\n",
       "      <th>NO2 1st Max Value</th>\n",
       "      <th>NO2 1st Max Hour</th>\n",
       "      <th>NO2 AQI</th>\n",
       "      <th>O3 Mean</th>\n",
       "      <th>O3 1st Max Value</th>\n",
       "      <th>O3 1st Max Hour</th>\n",
       "      <th>O3 AQI</th>\n",
       "      <th>SO2 Mean</th>\n",
       "      <th>SO2 1st Max Value</th>\n",
       "      <th>SO2 1st Max Hour</th>\n",
       "      <th>SO2 AQI</th>\n",
       "      <th>CO Mean</th>\n",
       "      <th>CO 1st Max Value</th>\n",
       "      <th>CO 1st Max Hour</th>\n",
       "      <th>CO AQI</th>\n",
       "    </tr>\n",
       "  </thead>\n",
       "  <tbody>\n",
       "    <tr>\n",
       "      <th>0</th>\n",
       "      <td>3002</td>\n",
       "      <td>Arizona</td>\n",
       "      <td>Maricopa</td>\n",
       "      <td>Phoenix</td>\n",
       "      <td>2000-01-01</td>\n",
       "      <td>19.041667</td>\n",
       "      <td>49.0</td>\n",
       "      <td>19</td>\n",
       "      <td>46</td>\n",
       "      <td>0.0225</td>\n",
       "      <td>0.04</td>\n",
       "      <td>10</td>\n",
       "      <td>34</td>\n",
       "      <td>3.000</td>\n",
       "      <td>9.0</td>\n",
       "      <td>21</td>\n",
       "      <td>13.0</td>\n",
       "      <td>1.145833</td>\n",
       "      <td>4.2</td>\n",
       "      <td>21</td>\n",
       "      <td>NaN</td>\n",
       "    </tr>\n",
       "    <tr>\n",
       "      <th>1</th>\n",
       "      <td>3002</td>\n",
       "      <td>Arizona</td>\n",
       "      <td>Maricopa</td>\n",
       "      <td>Phoenix</td>\n",
       "      <td>2000-01-01</td>\n",
       "      <td>19.041667</td>\n",
       "      <td>49.0</td>\n",
       "      <td>19</td>\n",
       "      <td>46</td>\n",
       "      <td>0.0225</td>\n",
       "      <td>0.04</td>\n",
       "      <td>10</td>\n",
       "      <td>34</td>\n",
       "      <td>3.000</td>\n",
       "      <td>9.0</td>\n",
       "      <td>21</td>\n",
       "      <td>13.0</td>\n",
       "      <td>0.878947</td>\n",
       "      <td>2.2</td>\n",
       "      <td>23</td>\n",
       "      <td>25.0</td>\n",
       "    </tr>\n",
       "    <tr>\n",
       "      <th>2</th>\n",
       "      <td>3002</td>\n",
       "      <td>Arizona</td>\n",
       "      <td>Maricopa</td>\n",
       "      <td>Phoenix</td>\n",
       "      <td>2000-01-01</td>\n",
       "      <td>19.041667</td>\n",
       "      <td>49.0</td>\n",
       "      <td>19</td>\n",
       "      <td>46</td>\n",
       "      <td>0.0225</td>\n",
       "      <td>0.04</td>\n",
       "      <td>10</td>\n",
       "      <td>34</td>\n",
       "      <td>2.975</td>\n",
       "      <td>6.6</td>\n",
       "      <td>23</td>\n",
       "      <td>NaN</td>\n",
       "      <td>1.145833</td>\n",
       "      <td>4.2</td>\n",
       "      <td>21</td>\n",
       "      <td>NaN</td>\n",
       "    </tr>\n",
       "  </tbody>\n",
       "</table>\n",
       "</div>"
      ],
      "text/plain": [
       "   Site Num    State    County     City  Date Local   NO2 Mean  \\\n",
       "0      3002  Arizona  Maricopa  Phoenix  2000-01-01  19.041667   \n",
       "1      3002  Arizona  Maricopa  Phoenix  2000-01-01  19.041667   \n",
       "2      3002  Arizona  Maricopa  Phoenix  2000-01-01  19.041667   \n",
       "\n",
       "   NO2 1st Max Value  NO2 1st Max Hour  NO2 AQI  O3 Mean  O3 1st Max Value  \\\n",
       "0               49.0                19       46   0.0225              0.04   \n",
       "1               49.0                19       46   0.0225              0.04   \n",
       "2               49.0                19       46   0.0225              0.04   \n",
       "\n",
       "   O3 1st Max Hour  O3 AQI  SO2 Mean  SO2 1st Max Value  SO2 1st Max Hour  \\\n",
       "0               10      34     3.000                9.0                21   \n",
       "1               10      34     3.000                9.0                21   \n",
       "2               10      34     2.975                6.6                23   \n",
       "\n",
       "   SO2 AQI   CO Mean  CO 1st Max Value  CO 1st Max Hour  CO AQI  \n",
       "0     13.0  1.145833               4.2               21     NaN  \n",
       "1     13.0  0.878947               2.2               23    25.0  \n",
       "2      NaN  1.145833               4.2               21     NaN  "
      ]
     },
     "execution_count": 5,
     "metadata": {},
     "output_type": "execute_result"
    }
   ],
   "source": [
    "pollution = pollution.drop(['State Code','County Code','Address','NO2 Units','O3 Units','SO2 Units','CO Units'],axis=1)\n",
    "pollution.head(3)"
   ]
  },
  {
   "cell_type": "markdown",
   "metadata": {},
   "source": [
    "#### Removal of duplicate data"
   ]
  },
  {
   "cell_type": "markdown",
   "metadata": {},
   "source": [
    "Further investigation of the dataset reveals that there are duplicate/multiple rows for each site on a given day.  This can be solved by grouping by date and site (and location information) and then keeping only the mean."
   ]
  },
  {
   "cell_type": "code",
   "execution_count": 6,
   "metadata": {},
   "outputs": [
    {
     "data": {
      "text/html": [
       "<div>\n",
       "<style>\n",
       "    .dataframe thead tr:only-child th {\n",
       "        text-align: right;\n",
       "    }\n",
       "\n",
       "    .dataframe thead th {\n",
       "        text-align: left;\n",
       "    }\n",
       "\n",
       "    .dataframe tbody tr th {\n",
       "        vertical-align: top;\n",
       "    }\n",
       "</style>\n",
       "<table border=\"1\" class=\"dataframe\">\n",
       "  <thead>\n",
       "    <tr style=\"text-align: right;\">\n",
       "      <th></th>\n",
       "      <th>Site Num</th>\n",
       "      <th>Date Local</th>\n",
       "      <th>State</th>\n",
       "      <th>County</th>\n",
       "      <th>City</th>\n",
       "      <th>NO2 Mean</th>\n",
       "      <th>NO2 1st Max Value</th>\n",
       "      <th>NO2 1st Max Hour</th>\n",
       "      <th>NO2 AQI</th>\n",
       "      <th>O3 Mean</th>\n",
       "      <th>O3 1st Max Value</th>\n",
       "      <th>O3 1st Max Hour</th>\n",
       "      <th>O3 AQI</th>\n",
       "      <th>SO2 Mean</th>\n",
       "      <th>SO2 1st Max Value</th>\n",
       "      <th>SO2 1st Max Hour</th>\n",
       "      <th>SO2 AQI</th>\n",
       "      <th>CO Mean</th>\n",
       "      <th>CO 1st Max Value</th>\n",
       "      <th>CO 1st Max Hour</th>\n",
       "      <th>CO AQI</th>\n",
       "    </tr>\n",
       "  </thead>\n",
       "  <tbody>\n",
       "    <tr>\n",
       "      <th>0</th>\n",
       "      <td>1</td>\n",
       "      <td>2000-01-01</td>\n",
       "      <td>California</td>\n",
       "      <td>San Diego</td>\n",
       "      <td>Chula Vista</td>\n",
       "      <td>10.913043</td>\n",
       "      <td>20.0</td>\n",
       "      <td>0.0</td>\n",
       "      <td>19.0</td>\n",
       "      <td>0.031625</td>\n",
       "      <td>0.043</td>\n",
       "      <td>9.0</td>\n",
       "      <td>36.0</td>\n",
       "      <td>2.064907</td>\n",
       "      <td>2.65</td>\n",
       "      <td>6.0</td>\n",
       "      <td>4.0</td>\n",
       "      <td>0.603382</td>\n",
       "      <td>0.95</td>\n",
       "      <td>8.0</td>\n",
       "      <td>9.0</td>\n",
       "    </tr>\n",
       "    <tr>\n",
       "      <th>1</th>\n",
       "      <td>1</td>\n",
       "      <td>2000-01-02</td>\n",
       "      <td>California</td>\n",
       "      <td>San Diego</td>\n",
       "      <td>Chula Vista</td>\n",
       "      <td>10.869565</td>\n",
       "      <td>35.0</td>\n",
       "      <td>18.0</td>\n",
       "      <td>33.0</td>\n",
       "      <td>0.026833</td>\n",
       "      <td>0.040</td>\n",
       "      <td>9.0</td>\n",
       "      <td>34.0</td>\n",
       "      <td>1.748136</td>\n",
       "      <td>2.00</td>\n",
       "      <td>1.0</td>\n",
       "      <td>3.0</td>\n",
       "      <td>0.560145</td>\n",
       "      <td>1.15</td>\n",
       "      <td>20.5</td>\n",
       "      <td>10.0</td>\n",
       "    </tr>\n",
       "    <tr>\n",
       "      <th>2</th>\n",
       "      <td>1</td>\n",
       "      <td>2000-01-03</td>\n",
       "      <td>California</td>\n",
       "      <td>San Diego</td>\n",
       "      <td>Chula Vista</td>\n",
       "      <td>27.782609</td>\n",
       "      <td>45.0</td>\n",
       "      <td>17.0</td>\n",
       "      <td>42.0</td>\n",
       "      <td>0.011333</td>\n",
       "      <td>0.022</td>\n",
       "      <td>9.0</td>\n",
       "      <td>19.0</td>\n",
       "      <td>2.172671</td>\n",
       "      <td>3.00</td>\n",
       "      <td>14.0</td>\n",
       "      <td>4.0</td>\n",
       "      <td>1.174003</td>\n",
       "      <td>2.30</td>\n",
       "      <td>21.0</td>\n",
       "      <td>20.0</td>\n",
       "    </tr>\n",
       "  </tbody>\n",
       "</table>\n",
       "</div>"
      ],
      "text/plain": [
       "   Site Num  Date Local       State     County         City   NO2 Mean  \\\n",
       "0         1  2000-01-01  California  San Diego  Chula Vista  10.913043   \n",
       "1         1  2000-01-02  California  San Diego  Chula Vista  10.869565   \n",
       "2         1  2000-01-03  California  San Diego  Chula Vista  27.782609   \n",
       "\n",
       "   NO2 1st Max Value  NO2 1st Max Hour  NO2 AQI   O3 Mean  O3 1st Max Value  \\\n",
       "0               20.0               0.0     19.0  0.031625             0.043   \n",
       "1               35.0              18.0     33.0  0.026833             0.040   \n",
       "2               45.0              17.0     42.0  0.011333             0.022   \n",
       "\n",
       "   O3 1st Max Hour  O3 AQI  SO2 Mean  SO2 1st Max Value  SO2 1st Max Hour  \\\n",
       "0              9.0    36.0  2.064907               2.65               6.0   \n",
       "1              9.0    34.0  1.748136               2.00               1.0   \n",
       "2              9.0    19.0  2.172671               3.00              14.0   \n",
       "\n",
       "   SO2 AQI   CO Mean  CO 1st Max Value  CO 1st Max Hour  CO AQI  \n",
       "0      4.0  0.603382              0.95              8.0     9.0  \n",
       "1      3.0  0.560145              1.15             20.5    10.0  \n",
       "2      4.0  1.174003              2.30             21.0    20.0  "
      ]
     },
     "execution_count": 6,
     "metadata": {},
     "output_type": "execute_result"
    }
   ],
   "source": [
    " pollution = pollution.groupby(['Site Num','Date Local', 'State', 'County', 'City']).mean().reset_index()\n",
    "pollution.head(3)"
   ]
  },
  {
   "cell_type": "markdown",
   "metadata": {},
   "source": [
    "The dataset now shows one row for each date for each site.  The reduced number of observations can be confirmed with another look at the dataset info, which shows there are now 412,855 rows with 21 columns."
   ]
  },
  {
   "cell_type": "code",
   "execution_count": 7,
   "metadata": {},
   "outputs": [
    {
     "name": "stdout",
     "output_type": "stream",
     "text": [
      "<class 'pandas.core.frame.DataFrame'>\n",
      "RangeIndex: 412856 entries, 0 to 412855\n",
      "Data columns (total 21 columns):\n",
      "Site Num             412856 non-null int64\n",
      "Date Local           412856 non-null object\n",
      "State                412856 non-null object\n",
      "County               412856 non-null object\n",
      "City                 412856 non-null object\n",
      "NO2 Mean             412856 non-null float64\n",
      "NO2 1st Max Value    412856 non-null float64\n",
      "NO2 1st Max Hour     412856 non-null float64\n",
      "NO2 AQI              412856 non-null float64\n",
      "O3 Mean              412856 non-null float64\n",
      "O3 1st Max Value     412856 non-null float64\n",
      "O3 1st Max Hour      412856 non-null float64\n",
      "O3 AQI               412856 non-null float64\n",
      "SO2 Mean             412856 non-null float64\n",
      "SO2 1st Max Value    412856 non-null float64\n",
      "SO2 1st Max Hour     412856 non-null float64\n",
      "SO2 AQI              412856 non-null float64\n",
      "CO Mean              412856 non-null float64\n",
      "CO 1st Max Value     412856 non-null float64\n",
      "CO 1st Max Hour      412856 non-null float64\n",
      "CO AQI               412650 non-null float64\n",
      "dtypes: float64(16), int64(1), object(4)\n",
      "memory usage: 66.1+ MB\n"
     ]
    }
   ],
   "source": [
    "pollution.info()"
   ]
  },
  {
   "cell_type": "markdown",
   "metadata": {},
   "source": [
    "#### Conversion of data column"
   ]
  },
  {
   "cell_type": "markdown",
   "metadata": {},
   "source": [
    "Given that this dataset is time-series data, the Date Local column should be converted to a datetime format."
   ]
  },
  {
   "cell_type": "code",
   "execution_count": 8,
   "metadata": {
    "collapsed": true
   },
   "outputs": [],
   "source": [
    "pollution['Date Local'] = pd.to_datetime(pollution['Date Local'])"
   ]
  },
  {
   "cell_type": "code",
   "execution_count": 9,
   "metadata": {},
   "outputs": [
    {
     "name": "stdout",
     "output_type": "stream",
     "text": [
      "<class 'pandas.core.frame.DataFrame'>\n",
      "RangeIndex: 412856 entries, 0 to 412855\n",
      "Data columns (total 21 columns):\n",
      "Site Num             412856 non-null int64\n",
      "Date Local           412856 non-null datetime64[ns]\n",
      "State                412856 non-null object\n",
      "County               412856 non-null object\n",
      "City                 412856 non-null object\n",
      "NO2 Mean             412856 non-null float64\n",
      "NO2 1st Max Value    412856 non-null float64\n",
      "NO2 1st Max Hour     412856 non-null float64\n",
      "NO2 AQI              412856 non-null float64\n",
      "O3 Mean              412856 non-null float64\n",
      "O3 1st Max Value     412856 non-null float64\n",
      "O3 1st Max Hour      412856 non-null float64\n",
      "O3 AQI               412856 non-null float64\n",
      "SO2 Mean             412856 non-null float64\n",
      "SO2 1st Max Value    412856 non-null float64\n",
      "SO2 1st Max Hour     412856 non-null float64\n",
      "SO2 AQI              412856 non-null float64\n",
      "CO Mean              412856 non-null float64\n",
      "CO 1st Max Value     412856 non-null float64\n",
      "CO 1st Max Hour      412856 non-null float64\n",
      "CO AQI               412650 non-null float64\n",
      "dtypes: datetime64[ns](1), float64(16), int64(1), object(3)\n",
      "memory usage: 66.1+ MB\n"
     ]
    }
   ],
   "source": [
    "pollution.info()"
   ]
  },
  {
   "cell_type": "markdown",
   "metadata": {},
   "source": [
    "#### Assessment of missing data"
   ]
  },
  {
   "cell_type": "markdown",
   "metadata": {},
   "source": [
    "Missing data can impact future analysis; the next step is to identify any null/empty fields."
   ]
  },
  {
   "cell_type": "code",
   "execution_count": 10,
   "metadata": {},
   "outputs": [
    {
     "data": {
      "text/plain": [
       "Site Num             False\n",
       "Date Local           False\n",
       "State                False\n",
       "County               False\n",
       "City                 False\n",
       "NO2 Mean             False\n",
       "NO2 1st Max Value    False\n",
       "NO2 1st Max Hour     False\n",
       "NO2 AQI              False\n",
       "O3 Mean              False\n",
       "O3 1st Max Value     False\n",
       "O3 1st Max Hour      False\n",
       "O3 AQI               False\n",
       "SO2 Mean             False\n",
       "SO2 1st Max Value    False\n",
       "SO2 1st Max Hour     False\n",
       "SO2 AQI              False\n",
       "CO Mean              False\n",
       "CO 1st Max Value     False\n",
       "CO 1st Max Hour      False\n",
       "CO AQI                True\n",
       "dtype: bool"
      ]
     },
     "execution_count": 10,
     "metadata": {},
     "output_type": "execute_result"
    }
   ],
   "source": [
    "pollution.isnull().any()"
   ]
  },
  {
   "cell_type": "markdown",
   "metadata": {},
   "source": [
    "It appears only the CO AQI column is misinsg data.  To determine the extent of the missing values, they are summed."
   ]
  },
  {
   "cell_type": "code",
   "execution_count": 11,
   "metadata": {},
   "outputs": [
    {
     "name": "stdout",
     "output_type": "stream",
     "text": [
      "CO AQI    16918\n",
      "dtype: int64\n"
     ]
    }
   ],
   "source": [
    "#Determine the extent of the NA values\n",
    "print((pollution[['CO AQI']] == 0).sum())"
   ]
  },
  {
   "cell_type": "markdown",
   "metadata": {},
   "source": [
    "There appear to be 16,918 null CO AQI values in the dataset.   "
   ]
  },
  {
   "cell_type": "markdown",
   "metadata": {},
   "source": [
    "The rows with missing AQI for CO AQI are subset and investigated.  It appears they cover more than 1 monitoring site and a range of dates."
   ]
  },
  {
   "cell_type": "code",
   "execution_count": 13,
   "metadata": {},
   "outputs": [
    {
     "data": {
      "text/html": [
       "<div>\n",
       "<style>\n",
       "    .dataframe thead tr:only-child th {\n",
       "        text-align: right;\n",
       "    }\n",
       "\n",
       "    .dataframe thead th {\n",
       "        text-align: left;\n",
       "    }\n",
       "\n",
       "    .dataframe tbody tr th {\n",
       "        vertical-align: top;\n",
       "    }\n",
       "</style>\n",
       "<table border=\"1\" class=\"dataframe\">\n",
       "  <thead>\n",
       "    <tr style=\"text-align: right;\">\n",
       "      <th></th>\n",
       "      <th>Site Num</th>\n",
       "      <th>Date Local</th>\n",
       "      <th>State</th>\n",
       "      <th>County</th>\n",
       "      <th>City</th>\n",
       "      <th>NO2 Mean</th>\n",
       "      <th>NO2 1st Max Value</th>\n",
       "      <th>NO2 1st Max Hour</th>\n",
       "      <th>NO2 AQI</th>\n",
       "      <th>O3 Mean</th>\n",
       "      <th>O3 1st Max Value</th>\n",
       "      <th>O3 1st Max Hour</th>\n",
       "      <th>O3 AQI</th>\n",
       "      <th>SO2 Mean</th>\n",
       "      <th>SO2 1st Max Value</th>\n",
       "      <th>SO2 1st Max Hour</th>\n",
       "      <th>SO2 AQI</th>\n",
       "      <th>CO Mean</th>\n",
       "      <th>CO 1st Max Value</th>\n",
       "      <th>CO 1st Max Hour</th>\n",
       "      <th>CO AQI</th>\n",
       "    </tr>\n",
       "  </thead>\n",
       "  <tbody>\n",
       "    <tr>\n",
       "      <th>3990</th>\n",
       "      <td>1</td>\n",
       "      <td>2014-11-04</td>\n",
       "      <td>Pennsylvania</td>\n",
       "      <td>Adams</td>\n",
       "      <td>Not in a city</td>\n",
       "      <td>4.900000</td>\n",
       "      <td>11.0</td>\n",
       "      <td>21.0</td>\n",
       "      <td>10.0</td>\n",
       "      <td>0.033091</td>\n",
       "      <td>0.041</td>\n",
       "      <td>23.0</td>\n",
       "      <td>38.0</td>\n",
       "      <td>0.358334</td>\n",
       "      <td>1.00</td>\n",
       "      <td>1.0</td>\n",
       "      <td>1.0</td>\n",
       "      <td>0.007500</td>\n",
       "      <td>0.05</td>\n",
       "      <td>10.5</td>\n",
       "      <td>0.0</td>\n",
       "    </tr>\n",
       "    <tr>\n",
       "      <th>3991</th>\n",
       "      <td>1</td>\n",
       "      <td>2014-11-05</td>\n",
       "      <td>Pennsylvania</td>\n",
       "      <td>Adams</td>\n",
       "      <td>Not in a city</td>\n",
       "      <td>2.600000</td>\n",
       "      <td>6.0</td>\n",
       "      <td>0.0</td>\n",
       "      <td>6.0</td>\n",
       "      <td>0.033389</td>\n",
       "      <td>0.044</td>\n",
       "      <td>1.0</td>\n",
       "      <td>41.0</td>\n",
       "      <td>0.422619</td>\n",
       "      <td>1.00</td>\n",
       "      <td>4.5</td>\n",
       "      <td>1.0</td>\n",
       "      <td>0.000000</td>\n",
       "      <td>0.00</td>\n",
       "      <td>0.0</td>\n",
       "      <td>0.0</td>\n",
       "    </tr>\n",
       "    <tr>\n",
       "      <th>3993</th>\n",
       "      <td>1</td>\n",
       "      <td>2014-11-07</td>\n",
       "      <td>Pennsylvania</td>\n",
       "      <td>Adams</td>\n",
       "      <td>Not in a city</td>\n",
       "      <td>0.333333</td>\n",
       "      <td>2.0</td>\n",
       "      <td>1.0</td>\n",
       "      <td>2.0</td>\n",
       "      <td>0.028125</td>\n",
       "      <td>0.031</td>\n",
       "      <td>11.0</td>\n",
       "      <td>29.0</td>\n",
       "      <td>0.243750</td>\n",
       "      <td>1.50</td>\n",
       "      <td>4.5</td>\n",
       "      <td>3.0</td>\n",
       "      <td>0.000000</td>\n",
       "      <td>0.00</td>\n",
       "      <td>0.0</td>\n",
       "      <td>0.0</td>\n",
       "    </tr>\n",
       "    <tr>\n",
       "      <th>3994</th>\n",
       "      <td>1</td>\n",
       "      <td>2014-11-08</td>\n",
       "      <td>Pennsylvania</td>\n",
       "      <td>Adams</td>\n",
       "      <td>Not in a city</td>\n",
       "      <td>1.416667</td>\n",
       "      <td>3.0</td>\n",
       "      <td>4.0</td>\n",
       "      <td>3.0</td>\n",
       "      <td>0.027250</td>\n",
       "      <td>0.032</td>\n",
       "      <td>10.0</td>\n",
       "      <td>30.0</td>\n",
       "      <td>0.493750</td>\n",
       "      <td>3.00</td>\n",
       "      <td>4.5</td>\n",
       "      <td>6.0</td>\n",
       "      <td>0.000000</td>\n",
       "      <td>0.00</td>\n",
       "      <td>0.0</td>\n",
       "      <td>0.0</td>\n",
       "    </tr>\n",
       "    <tr>\n",
       "      <th>3995</th>\n",
       "      <td>1</td>\n",
       "      <td>2014-11-09</td>\n",
       "      <td>Pennsylvania</td>\n",
       "      <td>Adams</td>\n",
       "      <td>Not in a city</td>\n",
       "      <td>0.583333</td>\n",
       "      <td>2.0</td>\n",
       "      <td>0.0</td>\n",
       "      <td>2.0</td>\n",
       "      <td>0.027542</td>\n",
       "      <td>0.031</td>\n",
       "      <td>12.0</td>\n",
       "      <td>29.0</td>\n",
       "      <td>0.000000</td>\n",
       "      <td>0.00</td>\n",
       "      <td>1.0</td>\n",
       "      <td>0.0</td>\n",
       "      <td>0.002084</td>\n",
       "      <td>0.05</td>\n",
       "      <td>0.0</td>\n",
       "      <td>0.0</td>\n",
       "    </tr>\n",
       "    <tr>\n",
       "      <th>4029</th>\n",
       "      <td>1</td>\n",
       "      <td>2014-12-16</td>\n",
       "      <td>Pennsylvania</td>\n",
       "      <td>Adams</td>\n",
       "      <td>Not in a city</td>\n",
       "      <td>12.250000</td>\n",
       "      <td>17.0</td>\n",
       "      <td>18.0</td>\n",
       "      <td>16.0</td>\n",
       "      <td>0.007250</td>\n",
       "      <td>0.009</td>\n",
       "      <td>8.0</td>\n",
       "      <td>8.0</td>\n",
       "      <td>0.164583</td>\n",
       "      <td>1.65</td>\n",
       "      <td>1.0</td>\n",
       "      <td>3.0</td>\n",
       "      <td>0.004546</td>\n",
       "      <td>0.05</td>\n",
       "      <td>15.5</td>\n",
       "      <td>0.0</td>\n",
       "    </tr>\n",
       "    <tr>\n",
       "      <th>4030</th>\n",
       "      <td>1</td>\n",
       "      <td>2014-12-17</td>\n",
       "      <td>Pennsylvania</td>\n",
       "      <td>Adams</td>\n",
       "      <td>Not in a city</td>\n",
       "      <td>4.208333</td>\n",
       "      <td>11.0</td>\n",
       "      <td>0.0</td>\n",
       "      <td>10.0</td>\n",
       "      <td>0.013917</td>\n",
       "      <td>0.022</td>\n",
       "      <td>23.0</td>\n",
       "      <td>20.0</td>\n",
       "      <td>0.000000</td>\n",
       "      <td>0.00</td>\n",
       "      <td>1.0</td>\n",
       "      <td>0.0</td>\n",
       "      <td>0.000000</td>\n",
       "      <td>0.00</td>\n",
       "      <td>0.0</td>\n",
       "      <td>0.0</td>\n",
       "    </tr>\n",
       "    <tr>\n",
       "      <th>4033</th>\n",
       "      <td>1</td>\n",
       "      <td>2014-12-20</td>\n",
       "      <td>Pennsylvania</td>\n",
       "      <td>Adams</td>\n",
       "      <td>Not in a city</td>\n",
       "      <td>1.333333</td>\n",
       "      <td>7.0</td>\n",
       "      <td>17.0</td>\n",
       "      <td>7.0</td>\n",
       "      <td>0.030333</td>\n",
       "      <td>0.034</td>\n",
       "      <td>8.0</td>\n",
       "      <td>31.0</td>\n",
       "      <td>0.283334</td>\n",
       "      <td>1.00</td>\n",
       "      <td>9.5</td>\n",
       "      <td>1.0</td>\n",
       "      <td>0.000000</td>\n",
       "      <td>0.00</td>\n",
       "      <td>0.0</td>\n",
       "      <td>0.0</td>\n",
       "    </tr>\n",
       "    <tr>\n",
       "      <th>4034</th>\n",
       "      <td>1</td>\n",
       "      <td>2014-12-21</td>\n",
       "      <td>Pennsylvania</td>\n",
       "      <td>Adams</td>\n",
       "      <td>Not in a city</td>\n",
       "      <td>1.666667</td>\n",
       "      <td>3.0</td>\n",
       "      <td>17.0</td>\n",
       "      <td>3.0</td>\n",
       "      <td>0.027625</td>\n",
       "      <td>0.031</td>\n",
       "      <td>9.0</td>\n",
       "      <td>29.0</td>\n",
       "      <td>0.987500</td>\n",
       "      <td>6.30</td>\n",
       "      <td>10.0</td>\n",
       "      <td>11.0</td>\n",
       "      <td>0.000000</td>\n",
       "      <td>0.00</td>\n",
       "      <td>0.0</td>\n",
       "      <td>0.0</td>\n",
       "    </tr>\n",
       "    <tr>\n",
       "      <th>4035</th>\n",
       "      <td>1</td>\n",
       "      <td>2014-12-22</td>\n",
       "      <td>Pennsylvania</td>\n",
       "      <td>Adams</td>\n",
       "      <td>Not in a city</td>\n",
       "      <td>8.291667</td>\n",
       "      <td>21.0</td>\n",
       "      <td>22.0</td>\n",
       "      <td>20.0</td>\n",
       "      <td>0.015250</td>\n",
       "      <td>0.025</td>\n",
       "      <td>0.0</td>\n",
       "      <td>23.0</td>\n",
       "      <td>0.868750</td>\n",
       "      <td>4.15</td>\n",
       "      <td>10.5</td>\n",
       "      <td>7.0</td>\n",
       "      <td>0.000000</td>\n",
       "      <td>0.00</td>\n",
       "      <td>0.0</td>\n",
       "      <td>0.0</td>\n",
       "    </tr>\n",
       "  </tbody>\n",
       "</table>\n",
       "</div>"
      ],
      "text/plain": [
       "      Site Num Date Local         State County           City   NO2 Mean  \\\n",
       "3990         1 2014-11-04  Pennsylvania  Adams  Not in a city   4.900000   \n",
       "3991         1 2014-11-05  Pennsylvania  Adams  Not in a city   2.600000   \n",
       "3993         1 2014-11-07  Pennsylvania  Adams  Not in a city   0.333333   \n",
       "3994         1 2014-11-08  Pennsylvania  Adams  Not in a city   1.416667   \n",
       "3995         1 2014-11-09  Pennsylvania  Adams  Not in a city   0.583333   \n",
       "4029         1 2014-12-16  Pennsylvania  Adams  Not in a city  12.250000   \n",
       "4030         1 2014-12-17  Pennsylvania  Adams  Not in a city   4.208333   \n",
       "4033         1 2014-12-20  Pennsylvania  Adams  Not in a city   1.333333   \n",
       "4034         1 2014-12-21  Pennsylvania  Adams  Not in a city   1.666667   \n",
       "4035         1 2014-12-22  Pennsylvania  Adams  Not in a city   8.291667   \n",
       "\n",
       "      NO2 1st Max Value  NO2 1st Max Hour  NO2 AQI   O3 Mean  \\\n",
       "3990               11.0              21.0     10.0  0.033091   \n",
       "3991                6.0               0.0      6.0  0.033389   \n",
       "3993                2.0               1.0      2.0  0.028125   \n",
       "3994                3.0               4.0      3.0  0.027250   \n",
       "3995                2.0               0.0      2.0  0.027542   \n",
       "4029               17.0              18.0     16.0  0.007250   \n",
       "4030               11.0               0.0     10.0  0.013917   \n",
       "4033                7.0              17.0      7.0  0.030333   \n",
       "4034                3.0              17.0      3.0  0.027625   \n",
       "4035               21.0              22.0     20.0  0.015250   \n",
       "\n",
       "      O3 1st Max Value  O3 1st Max Hour  O3 AQI  SO2 Mean  SO2 1st Max Value  \\\n",
       "3990             0.041             23.0    38.0  0.358334               1.00   \n",
       "3991             0.044              1.0    41.0  0.422619               1.00   \n",
       "3993             0.031             11.0    29.0  0.243750               1.50   \n",
       "3994             0.032             10.0    30.0  0.493750               3.00   \n",
       "3995             0.031             12.0    29.0  0.000000               0.00   \n",
       "4029             0.009              8.0     8.0  0.164583               1.65   \n",
       "4030             0.022             23.0    20.0  0.000000               0.00   \n",
       "4033             0.034              8.0    31.0  0.283334               1.00   \n",
       "4034             0.031              9.0    29.0  0.987500               6.30   \n",
       "4035             0.025              0.0    23.0  0.868750               4.15   \n",
       "\n",
       "      SO2 1st Max Hour  SO2 AQI   CO Mean  CO 1st Max Value  CO 1st Max Hour  \\\n",
       "3990               1.0      1.0  0.007500              0.05             10.5   \n",
       "3991               4.5      1.0  0.000000              0.00              0.0   \n",
       "3993               4.5      3.0  0.000000              0.00              0.0   \n",
       "3994               4.5      6.0  0.000000              0.00              0.0   \n",
       "3995               1.0      0.0  0.002084              0.05              0.0   \n",
       "4029               1.0      3.0  0.004546              0.05             15.5   \n",
       "4030               1.0      0.0  0.000000              0.00              0.0   \n",
       "4033               9.5      1.0  0.000000              0.00              0.0   \n",
       "4034              10.0     11.0  0.000000              0.00              0.0   \n",
       "4035              10.5      7.0  0.000000              0.00              0.0   \n",
       "\n",
       "      CO AQI  \n",
       "3990     0.0  \n",
       "3991     0.0  \n",
       "3993     0.0  \n",
       "3994     0.0  \n",
       "3995     0.0  \n",
       "4029     0.0  \n",
       "4030     0.0  \n",
       "4033     0.0  \n",
       "4034     0.0  \n",
       "4035     0.0  "
      ]
     },
     "execution_count": 13,
     "metadata": {},
     "output_type": "execute_result"
    }
   ],
   "source": [
    "missing = pollution[pollution['CO AQI'] == 0]\n",
    "missing.head(10)"
   ]
  },
  {
   "cell_type": "markdown",
   "metadata": {},
   "source": [
    "To address these missing values, the data can be interpolated from surrounding values in order to fill in the missing information."
   ]
  },
  {
   "cell_type": "code",
   "execution_count": 16,
   "metadata": {},
   "outputs": [],
   "source": [
    "pollution['CO AQI'].fillna(pollution['CO AQI'].mean(), inplace=True)"
   ]
  },
  {
   "cell_type": "code",
   "execution_count": 17,
   "metadata": {},
   "outputs": [
    {
     "data": {
      "text/plain": [
       "Site Num             False\n",
       "Date Local           False\n",
       "State                False\n",
       "County               False\n",
       "City                 False\n",
       "NO2 Mean             False\n",
       "NO2 1st Max Value    False\n",
       "NO2 1st Max Hour     False\n",
       "NO2 AQI              False\n",
       "O3 Mean              False\n",
       "O3 1st Max Value     False\n",
       "O3 1st Max Hour      False\n",
       "O3 AQI               False\n",
       "SO2 Mean             False\n",
       "SO2 1st Max Value    False\n",
       "SO2 1st Max Hour     False\n",
       "SO2 AQI              False\n",
       "CO Mean              False\n",
       "CO 1st Max Value     False\n",
       "CO 1st Max Hour      False\n",
       "CO AQI               False\n",
       "dtype: bool"
      ]
     },
     "execution_count": 17,
     "metadata": {},
     "output_type": "execute_result"
    }
   ],
   "source": [
    "pollution.isnull().any()"
   ]
  },
  {
   "cell_type": "markdown",
   "metadata": {},
   "source": [
    "Finally a series of boxplots are generated by state for each pollutant's AQI value to look for any strong outliers."
   ]
  },
  {
   "cell_type": "code",
   "execution_count": 18,
   "metadata": {},
   "outputs": [
    {
     "name": "stderr",
     "output_type": "stream",
     "text": [
      "C:\\Users\\mmcnamara\\AppData\\Local\\Continuum\\anaconda3\\lib\\site-packages\\numpy\\core\\fromnumeric.py:57: FutureWarning: reshape is deprecated and will raise in a subsequent release. Please use .values.reshape(...) instead\n",
      "  return getattr(obj, method)(*args, **kwds)\n"
     ]
    },
    {
     "data": {
      "image/png": "[encoded data removed]",
      "text/plain": [
       "<matplotlib.figure.Figure at 0x21574b1ba58>"
      ]
     },
     "metadata": {},
     "output_type": "display_data"
    }
   ],
   "source": [
    "# Import necessary module\n",
    "import matplotlib.pyplot as plt\n",
    "\n",
    "# Create the boxplot for NO2 AQI\n",
    "pollution.boxplot(column='NO2 AQI', by='State', rot=90)\n",
    "# Display the plot\n",
    "plt.show()\n"
   ]
  },
  {
   "cell_type": "code",
   "execution_count": 19,
   "metadata": {},
   "outputs": [
    {
     "name": "stderr",
     "output_type": "stream",
     "text": [
      "C:\\Users\\mmcnamara\\AppData\\Local\\Continuum\\anaconda3\\lib\\site-packages\\numpy\\core\\fromnumeric.py:57: FutureWarning: reshape is deprecated and will raise in a subsequent release. Please use .values.reshape(...) instead\n",
      "  return getattr(obj, method)(*args, **kwds)\n"
     ]
    },
    {
     "data": {
      "image/png": "[encoded data removed]",
      "text/plain": [
       "<matplotlib.figure.Figure at 0x21543124908>"
      ]
     },
     "metadata": {},
     "output_type": "display_data"
    }
   ],
   "source": [
    "# Create the boxplot for O3 AQI\n",
    "pollution.boxplot(column='O3 AQI', by='State', rot=90)\n",
    "# Display the plot\n",
    "plt.show()"
   ]
  },
  {
   "cell_type": "code",
   "execution_count": 20,
   "metadata": {},
   "outputs": [
    {
     "name": "stderr",
     "output_type": "stream",
     "text": [
      "C:\\Users\\mmcnamara\\AppData\\Local\\Continuum\\anaconda3\\lib\\site-packages\\numpy\\core\\fromnumeric.py:57: FutureWarning: reshape is deprecated and will raise in a subsequent release. Please use .values.reshape(...) instead\n",
      "  return getattr(obj, method)(*args, **kwds)\n"
     ]
    },
    {
     "data": {
      "image/png": "[encoded data removed]",
      "text/plain": [
       "<matplotlib.figure.Figure at 0x215446f3780>"
      ]
     },
     "metadata": {},
     "output_type": "display_data"
    }
   ],
   "source": [
    "# Create the boxplot for SO2 AQI\n",
    "pollution.boxplot(column='SO2 AQI', by='State', rot=90)\n",
    "# Display the plot\n",
    "plt.show()"
   ]
  },
  {
   "cell_type": "code",
   "execution_count": 21,
   "metadata": {},
   "outputs": [
    {
     "name": "stderr",
     "output_type": "stream",
     "text": [
      "C:\\Users\\mmcnamara\\AppData\\Local\\Continuum\\anaconda3\\lib\\site-packages\\numpy\\core\\fromnumeric.py:57: FutureWarning: reshape is deprecated and will raise in a subsequent release. Please use .values.reshape(...) instead\n",
      "  return getattr(obj, method)(*args, **kwds)\n"
     ]
    },
    {
     "data": {
      "image/png": "[encoded data removed]",
      "text/plain": [
       "<matplotlib.figure.Figure at 0x21542aa2dd8>"
      ]
     },
     "metadata": {},
     "output_type": "display_data"
    }
   ],
   "source": [
    "# Create the boxplot for CO AQI\n",
    "pollution.boxplot(column='CO AQI', by='State', rot=90)\n",
    "# Display the plot\n",
    "plt.show()"
   ]
  },
  {
   "cell_type": "markdown",
   "metadata": {},
   "source": [
    "While there seem to be regional differences in AQI values, there don't as yet seem to be AQI values that are strong outliers from the entire dataset.\n",
    "\n",
    "Column names are cleaned up to make them easier to manipulate later."
   ]
  },
  {
   "cell_type": "code",
   "execution_count": 22,
   "metadata": {},
   "outputs": [
    {
     "data": {
      "text/html": [
       "<div>\n",
       "<style>\n",
       "    .dataframe thead tr:only-child th {\n",
       "        text-align: right;\n",
       "    }\n",
       "\n",
       "    .dataframe thead th {\n",
       "        text-align: left;\n",
       "    }\n",
       "\n",
       "    .dataframe tbody tr th {\n",
       "        vertical-align: top;\n",
       "    }\n",
       "</style>\n",
       "<table border=\"1\" class=\"dataframe\">\n",
       "  <thead>\n",
       "    <tr style=\"text-align: right;\">\n",
       "      <th></th>\n",
       "      <th>Site_Num</th>\n",
       "      <th>Date_Local</th>\n",
       "      <th>State</th>\n",
       "      <th>County</th>\n",
       "      <th>City</th>\n",
       "      <th>NO2_Mean</th>\n",
       "      <th>NO2_1stMaxValue</th>\n",
       "      <th>NO2_1stMaxHour</th>\n",
       "      <th>NO2_AQI</th>\n",
       "      <th>O3_Mean</th>\n",
       "      <th>O3_1stMaxValue</th>\n",
       "      <th>O3_1stMaxHour</th>\n",
       "      <th>O3_AQI</th>\n",
       "      <th>SO2_Mean</th>\n",
       "      <th>SO2_1stMaxValue</th>\n",
       "      <th>SO2_1stMaxHour</th>\n",
       "      <th>SO2_AQI</th>\n",
       "      <th>CO_Mean</th>\n",
       "      <th>CO_1stMaxValue</th>\n",
       "      <th>CO_1stMaxHour</th>\n",
       "      <th>CO_AQI</th>\n",
       "    </tr>\n",
       "  </thead>\n",
       "  <tbody>\n",
       "    <tr>\n",
       "      <th>0</th>\n",
       "      <td>1</td>\n",
       "      <td>2000-01-01</td>\n",
       "      <td>California</td>\n",
       "      <td>San Diego</td>\n",
       "      <td>Chula Vista</td>\n",
       "      <td>10.913043</td>\n",
       "      <td>20.0</td>\n",
       "      <td>0.0</td>\n",
       "      <td>19.0</td>\n",
       "      <td>0.031625</td>\n",
       "      <td>0.043</td>\n",
       "      <td>9.0</td>\n",
       "      <td>36.0</td>\n",
       "      <td>2.064907</td>\n",
       "      <td>2.65</td>\n",
       "      <td>6.0</td>\n",
       "      <td>4.0</td>\n",
       "      <td>0.603382</td>\n",
       "      <td>0.95</td>\n",
       "      <td>8.0</td>\n",
       "      <td>9.0</td>\n",
       "    </tr>\n",
       "    <tr>\n",
       "      <th>1</th>\n",
       "      <td>1</td>\n",
       "      <td>2000-01-02</td>\n",
       "      <td>California</td>\n",
       "      <td>San Diego</td>\n",
       "      <td>Chula Vista</td>\n",
       "      <td>10.869565</td>\n",
       "      <td>35.0</td>\n",
       "      <td>18.0</td>\n",
       "      <td>33.0</td>\n",
       "      <td>0.026833</td>\n",
       "      <td>0.040</td>\n",
       "      <td>9.0</td>\n",
       "      <td>34.0</td>\n",
       "      <td>1.748136</td>\n",
       "      <td>2.00</td>\n",
       "      <td>1.0</td>\n",
       "      <td>3.0</td>\n",
       "      <td>0.560145</td>\n",
       "      <td>1.15</td>\n",
       "      <td>20.5</td>\n",
       "      <td>10.0</td>\n",
       "    </tr>\n",
       "    <tr>\n",
       "      <th>2</th>\n",
       "      <td>1</td>\n",
       "      <td>2000-01-03</td>\n",
       "      <td>California</td>\n",
       "      <td>San Diego</td>\n",
       "      <td>Chula Vista</td>\n",
       "      <td>27.782609</td>\n",
       "      <td>45.0</td>\n",
       "      <td>17.0</td>\n",
       "      <td>42.0</td>\n",
       "      <td>0.011333</td>\n",
       "      <td>0.022</td>\n",
       "      <td>9.0</td>\n",
       "      <td>19.0</td>\n",
       "      <td>2.172671</td>\n",
       "      <td>3.00</td>\n",
       "      <td>14.0</td>\n",
       "      <td>4.0</td>\n",
       "      <td>1.174003</td>\n",
       "      <td>2.30</td>\n",
       "      <td>21.0</td>\n",
       "      <td>20.0</td>\n",
       "    </tr>\n",
       "  </tbody>\n",
       "</table>\n",
       "</div>"
      ],
      "text/plain": [
       "   Site_Num Date_Local       State     County         City   NO2_Mean  \\\n",
       "0         1 2000-01-01  California  San Diego  Chula Vista  10.913043   \n",
       "1         1 2000-01-02  California  San Diego  Chula Vista  10.869565   \n",
       "2         1 2000-01-03  California  San Diego  Chula Vista  27.782609   \n",
       "\n",
       "   NO2_1stMaxValue  NO2_1stMaxHour  NO2_AQI   O3_Mean  O3_1stMaxValue  \\\n",
       "0             20.0             0.0     19.0  0.031625           0.043   \n",
       "1             35.0            18.0     33.0  0.026833           0.040   \n",
       "2             45.0            17.0     42.0  0.011333           0.022   \n",
       "\n",
       "   O3_1stMaxHour  O3_AQI  SO2_Mean  SO2_1stMaxValue  SO2_1stMaxHour  SO2_AQI  \\\n",
       "0            9.0    36.0  2.064907             2.65             6.0      4.0   \n",
       "1            9.0    34.0  1.748136             2.00             1.0      3.0   \n",
       "2            9.0    19.0  2.172671             3.00            14.0      4.0   \n",
       "\n",
       "    CO_Mean  CO_1stMaxValue  CO_1stMaxHour  CO_AQI  \n",
       "0  0.603382            0.95            8.0     9.0  \n",
       "1  0.560145            1.15           20.5    10.0  \n",
       "2  1.174003            2.30           21.0    20.0  "
      ]
     },
     "execution_count": 22,
     "metadata": {},
     "output_type": "execute_result"
    }
   ],
   "source": [
    "column_labels = ['Site_Num', 'Date_Local', 'State', 'County', 'City', 'NO2_Mean', 'NO2_1stMaxValue', 'NO2_1stMaxHour', 'NO2_AQI', 'O3_Mean', 'O3_1stMaxValue','O3_1stMaxHour', 'O3_AQI', 'SO2_Mean', 'SO2_1stMaxValue', 'SO2_1stMaxHour', 'SO2_AQI', 'CO_Mean', 'CO_1stMaxValue', 'CO_1stMaxHour', 'CO_AQI']\n",
    "pollution.columns = column_labels\n",
    "pollution.head(3)"
   ]
  },
  {
   "cell_type": "markdown",
   "metadata": {},
   "source": [
    "The cleaned dataframe was saved as a new CSV."
   ]
  },
  {
   "cell_type": "code",
   "execution_count": 23,
   "metadata": {
    "collapsed": true
   },
   "outputs": [],
   "source": [
    "pollution.to_csv('cleanpollution.csv')"
   ]
  }
 ],
 "metadata": {
  "kernelspec": {
   "display_name": "Python 3",
   "language": "python",
   "name": "python3"
  },
  "language_info": {
   "codemirror_mode": {
    "name": "ipython",
    "version": 3
   },
   "file_extension": ".py",
   "mimetype": "text/x-python",
   "name": "python",
   "nbconvert_exporter": "python",
   "pygments_lexer": "ipython3",
   "version": "3.6.3"
  }
 },
 "nbformat": 4,
 "nbformat_minor": 2
}
