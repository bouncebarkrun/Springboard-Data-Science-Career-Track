{
 "cells": [
  {
   "cell_type": "markdown",
   "metadata": {},
   "source": [
    "# Building the Predictive Model of Pollution Air Quality Indices\n",
    "# Molly McNamara"
   ]
  },
  {
   "cell_type": "markdown",
   "metadata": {},
   "source": [
    "## Import basic packages and dataset"
   ]
  },
  {
   "cell_type": "code",
   "execution_count": 1,
   "metadata": {},
   "outputs": [
    {
     "name": "stderr",
     "output_type": "stream",
     "text": [
      "/Users/mollymcnamara/anaconda/lib/python3.6/site-packages/sklearn/cross_validation.py:41: DeprecationWarning: This module was deprecated in version 0.18 in favor of the model_selection module into which all the refactored classes and functions are moved. Also note that the interface of the new CV iterators are different from that of this module. This module will be removed in 0.20.\n",
      "  \"This module will be removed in 0.20.\", DeprecationWarning)\n",
      "/Users/mollymcnamara/anaconda/lib/python3.6/site-packages/ggplot/utils.py:81: FutureWarning: pandas.tslib is deprecated and will be removed in a future version.\n",
      "You can access Timestamp as pandas.Timestamp\n",
      "  pd.tslib.Timestamp,\n",
      "/Users/mollymcnamara/anaconda/lib/python3.6/site-packages/ggplot/stats/smoothers.py:4: FutureWarning: The pandas.lib module is deprecated and will be removed in a future version. These are private functions and can be accessed from pandas._libs.lib instead\n",
      "  from pandas.lib import Timestamp\n",
      "/Users/mollymcnamara/anaconda/lib/python3.6/site-packages/statsmodels/compat/pandas.py:56: FutureWarning: The pandas.core.datetools module is deprecated and will be removed in a future version. Please use the pandas.tseries module instead.\n",
      "  from pandas.core import datetools\n",
      "/Users/mollymcnamara/anaconda/lib/python3.6/site-packages/IPython/core/interactiveshell.py:2717: DtypeWarning: Columns (28,29,30,31,35,36,39,40,41,42,45,46,47) have mixed types. Specify dtype option on import or set low_memory=False.\n",
      "  interactivity=interactivity, compiler=compiler, result=result)\n"
     ]
    },
    {
     "data": {
      "text/html": [
       "<div>\n",
       "<style scoped>\n",
       "    .dataframe tbody tr th:only-of-type {\n",
       "        vertical-align: middle;\n",
       "    }\n",
       "\n",
       "    .dataframe tbody tr th {\n",
       "        vertical-align: top;\n",
       "    }\n",
       "\n",
       "    .dataframe thead th {\n",
       "        text-align: right;\n",
       "    }\n",
       "</style>\n",
       "<table border=\"1\" class=\"dataframe\">\n",
       "  <thead>\n",
       "    <tr style=\"text-align: right;\">\n",
       "      <th></th>\n",
       "      <th>Site_Num</th>\n",
       "      <th>NO2_Mean</th>\n",
       "      <th>NO2_1stMaxValue</th>\n",
       "      <th>NO2_1stMaxHour</th>\n",
       "      <th>NO2_AQI</th>\n",
       "      <th>O3_Mean</th>\n",
       "      <th>O3_1stMaxValue</th>\n",
       "      <th>O3_1stMaxHour</th>\n",
       "      <th>O3_AQI</th>\n",
       "      <th>SO2_Mean</th>\n",
       "      <th>SO2_1stMaxValue</th>\n",
       "      <th>SO2_1stMaxHour</th>\n",
       "      <th>SO2_AQI</th>\n",
       "      <th>CO_Mean</th>\n",
       "      <th>CO_1stMaxValue</th>\n",
       "      <th>CO_1stMaxHour</th>\n",
       "      <th>CO_AQI</th>\n",
       "      <th>TempAvg</th>\n",
       "      <th>TempMax</th>\n",
       "      <th>TempMin</th>\n",
       "      <th>Elevation</th>\n",
       "      <th>Latitude</th>\n",
       "      <th>Longitude</th>\n",
       "      <th>AvgRelHumid</th>\n",
       "      <th>AvgDewPointTemp</th>\n",
       "      <th>AvgWetBulbTemp</th>\n",
       "      <th>Sunrise</th>\n",
       "      <th>Sunset</th>\n",
       "      <th>AvgStationPressure</th>\n",
       "      <th>AvgSeaLevelPressure</th>\n",
       "      <th>SustainedWindSpeed</th>\n",
       "      <th>SustainedWindDirection</th>\n",
       "    </tr>\n",
       "  </thead>\n",
       "  <tbody>\n",
       "    <tr>\n",
       "      <th>count</th>\n",
       "      <td>56073.000000</td>\n",
       "      <td>56073.000000</td>\n",
       "      <td>56073.000000</td>\n",
       "      <td>56073.000000</td>\n",
       "      <td>56073.000000</td>\n",
       "      <td>56073.000000</td>\n",
       "      <td>56073.000000</td>\n",
       "      <td>56073.000000</td>\n",
       "      <td>56073.000000</td>\n",
       "      <td>56073.000000</td>\n",
       "      <td>56073.000000</td>\n",
       "      <td>56073.000000</td>\n",
       "      <td>56073.000000</td>\n",
       "      <td>56073.000000</td>\n",
       "      <td>56073.000000</td>\n",
       "      <td>56073.000000</td>\n",
       "      <td>56073.000000</td>\n",
       "      <td>55576.00000</td>\n",
       "      <td>55576.000000</td>\n",
       "      <td>55576.000000</td>\n",
       "      <td>48244.000000</td>\n",
       "      <td>48244.000000</td>\n",
       "      <td>48244.000000</td>\n",
       "      <td>43531.000000</td>\n",
       "      <td>43533.000000</td>\n",
       "      <td>43533.000000</td>\n",
       "      <td>48244.000000</td>\n",
       "      <td>48244.000000</td>\n",
       "      <td>48244.000000</td>\n",
       "      <td>43533.000000</td>\n",
       "      <td>48098.000000</td>\n",
       "      <td>48098.000000</td>\n",
       "    </tr>\n",
       "    <tr>\n",
       "      <th>mean</th>\n",
       "      <td>1705.768445</td>\n",
       "      <td>19.922606</td>\n",
       "      <td>36.264774</td>\n",
       "      <td>11.982469</td>\n",
       "      <td>34.208639</td>\n",
       "      <td>0.022574</td>\n",
       "      <td>0.036400</td>\n",
       "      <td>10.131311</td>\n",
       "      <td>32.910420</td>\n",
       "      <td>2.662308</td>\n",
       "      <td>5.484707</td>\n",
       "      <td>9.945638</td>\n",
       "      <td>8.588099</td>\n",
       "      <td>0.494266</td>\n",
       "      <td>0.862853</td>\n",
       "      <td>8.701354</td>\n",
       "      <td>8.332008</td>\n",
       "      <td>72.51049</td>\n",
       "      <td>73.152458</td>\n",
       "      <td>56.454027</td>\n",
       "      <td>76.495902</td>\n",
       "      <td>34.900695</td>\n",
       "      <td>-99.066550</td>\n",
       "      <td>64.116032</td>\n",
       "      <td>40.550020</td>\n",
       "      <td>49.291572</td>\n",
       "      <td>581.320185</td>\n",
       "      <td>1801.010426</td>\n",
       "      <td>29.652541</td>\n",
       "      <td>30.026183</td>\n",
       "      <td>18.205996</td>\n",
       "      <td>215.329951</td>\n",
       "    </tr>\n",
       "    <tr>\n",
       "      <th>std</th>\n",
       "      <td>2519.681700</td>\n",
       "      <td>10.817550</td>\n",
       "      <td>16.494427</td>\n",
       "      <td>7.769104</td>\n",
       "      <td>15.843286</td>\n",
       "      <td>0.011053</td>\n",
       "      <td>0.015641</td>\n",
       "      <td>3.991167</td>\n",
       "      <td>18.404656</td>\n",
       "      <td>3.407479</td>\n",
       "      <td>7.382645</td>\n",
       "      <td>6.685631</td>\n",
       "      <td>11.776887</td>\n",
       "      <td>0.379911</td>\n",
       "      <td>0.727501</td>\n",
       "      <td>6.736504</td>\n",
       "      <td>6.908859</td>\n",
       "      <td>14.16188</td>\n",
       "      <td>16.696224</td>\n",
       "      <td>14.699040</td>\n",
       "      <td>118.393967</td>\n",
       "      <td>3.774871</td>\n",
       "      <td>17.806223</td>\n",
       "      <td>19.700994</td>\n",
       "      <td>14.711799</td>\n",
       "      <td>11.803444</td>\n",
       "      <td>88.062569</td>\n",
       "      <td>90.918767</td>\n",
       "      <td>0.461684</td>\n",
       "      <td>0.170512</td>\n",
       "      <td>5.831168</td>\n",
       "      <td>90.989462</td>\n",
       "    </tr>\n",
       "    <tr>\n",
       "      <th>min</th>\n",
       "      <td>4.000000</td>\n",
       "      <td>-0.152174</td>\n",
       "      <td>0.000000</td>\n",
       "      <td>0.000000</td>\n",
       "      <td>0.000000</td>\n",
       "      <td>0.000000</td>\n",
       "      <td>0.000000</td>\n",
       "      <td>0.000000</td>\n",
       "      <td>0.000000</td>\n",
       "      <td>-1.725155</td>\n",
       "      <td>-1.300000</td>\n",
       "      <td>0.000000</td>\n",
       "      <td>0.000000</td>\n",
       "      <td>-0.400000</td>\n",
       "      <td>-0.400000</td>\n",
       "      <td>0.000000</td>\n",
       "      <td>0.000000</td>\n",
       "      <td>0.00000</td>\n",
       "      <td>13.000000</td>\n",
       "      <td>2.000000</td>\n",
       "      <td>3.000000</td>\n",
       "      <td>29.980000</td>\n",
       "      <td>-118.388800</td>\n",
       "      <td>5.000000</td>\n",
       "      <td>-11.000000</td>\n",
       "      <td>6.000000</td>\n",
       "      <td>423.000000</td>\n",
       "      <td>1628.000000</td>\n",
       "      <td>28.240000</td>\n",
       "      <td>29.170000</td>\n",
       "      <td>5.000000</td>\n",
       "      <td>10.000000</td>\n",
       "    </tr>\n",
       "    <tr>\n",
       "      <th>25%</th>\n",
       "      <td>124.000000</td>\n",
       "      <td>11.826087</td>\n",
       "      <td>24.300000</td>\n",
       "      <td>6.000000</td>\n",
       "      <td>23.000000</td>\n",
       "      <td>0.014083</td>\n",
       "      <td>0.025000</td>\n",
       "      <td>9.000000</td>\n",
       "      <td>22.000000</td>\n",
       "      <td>0.531677</td>\n",
       "      <td>1.300000</td>\n",
       "      <td>5.000000</td>\n",
       "      <td>1.000000</td>\n",
       "      <td>0.239584</td>\n",
       "      <td>0.389500</td>\n",
       "      <td>3.500000</td>\n",
       "      <td>3.000000</td>\n",
       "      <td>66.00000</td>\n",
       "      <td>63.000000</td>\n",
       "      <td>47.000000</td>\n",
       "      <td>3.400000</td>\n",
       "      <td>32.733600</td>\n",
       "      <td>-117.183100</td>\n",
       "      <td>51.000000</td>\n",
       "      <td>30.000000</td>\n",
       "      <td>42.000000</td>\n",
       "      <td>521.000000</td>\n",
       "      <td>1728.000000</td>\n",
       "      <td>29.510000</td>\n",
       "      <td>29.930000</td>\n",
       "      <td>14.000000</td>\n",
       "      <td>150.000000</td>\n",
       "    </tr>\n",
       "    <tr>\n",
       "      <th>50%</th>\n",
       "      <td>1010.000000</td>\n",
       "      <td>18.375000</td>\n",
       "      <td>36.000000</td>\n",
       "      <td>10.000000</td>\n",
       "      <td>34.000000</td>\n",
       "      <td>0.021958</td>\n",
       "      <td>0.036000</td>\n",
       "      <td>10.000000</td>\n",
       "      <td>31.000000</td>\n",
       "      <td>1.652083</td>\n",
       "      <td>3.000000</td>\n",
       "      <td>8.000000</td>\n",
       "      <td>4.000000</td>\n",
       "      <td>0.393750</td>\n",
       "      <td>0.650000</td>\n",
       "      <td>7.500000</td>\n",
       "      <td>7.000000</td>\n",
       "      <td>73.00000</td>\n",
       "      <td>73.000000</td>\n",
       "      <td>57.000000</td>\n",
       "      <td>29.000000</td>\n",
       "      <td>33.427700</td>\n",
       "      <td>-96.855500</td>\n",
       "      <td>67.000000</td>\n",
       "      <td>37.000000</td>\n",
       "      <td>46.000000</td>\n",
       "      <td>559.000000</td>\n",
       "      <td>1815.000000</td>\n",
       "      <td>29.790000</td>\n",
       "      <td>30.060000</td>\n",
       "      <td>17.000000</td>\n",
       "      <td>250.000000</td>\n",
       "    </tr>\n",
       "    <tr>\n",
       "      <th>75%</th>\n",
       "      <td>2007.000000</td>\n",
       "      <td>26.487500</td>\n",
       "      <td>46.000000</td>\n",
       "      <td>20.000000</td>\n",
       "      <td>43.000000</td>\n",
       "      <td>0.030250</td>\n",
       "      <td>0.046000</td>\n",
       "      <td>11.000000</td>\n",
       "      <td>40.000000</td>\n",
       "      <td>3.467702</td>\n",
       "      <td>6.650000</td>\n",
       "      <td>14.000000</td>\n",
       "      <td>10.000000</td>\n",
       "      <td>0.637500</td>\n",
       "      <td>1.100000</td>\n",
       "      <td>11.500000</td>\n",
       "      <td>10.000000</td>\n",
       "      <td>84.00000</td>\n",
       "      <td>84.000000</td>\n",
       "      <td>67.000000</td>\n",
       "      <td>29.600000</td>\n",
       "      <td>39.873270</td>\n",
       "      <td>-75.226780</td>\n",
       "      <td>83.000000</td>\n",
       "      <td>51.000000</td>\n",
       "      <td>58.000000</td>\n",
       "      <td>646.000000</td>\n",
       "      <td>1859.000000</td>\n",
       "      <td>29.960000</td>\n",
       "      <td>30.100000</td>\n",
       "      <td>21.000000</td>\n",
       "      <td>280.000000</td>\n",
       "    </tr>\n",
       "    <tr>\n",
       "      <th>max</th>\n",
       "      <td>9997.000000</td>\n",
       "      <td>98.130435</td>\n",
       "      <td>163.000000</td>\n",
       "      <td>23.000000</td>\n",
       "      <td>113.000000</td>\n",
       "      <td>0.079458</td>\n",
       "      <td>0.130000</td>\n",
       "      <td>23.000000</td>\n",
       "      <td>206.000000</td>\n",
       "      <td>53.481250</td>\n",
       "      <td>174.500000</td>\n",
       "      <td>23.000000</td>\n",
       "      <td>176.000000</td>\n",
       "      <td>4.111795</td>\n",
       "      <td>7.850000</td>\n",
       "      <td>23.000000</td>\n",
       "      <td>66.000000</td>\n",
       "      <td>106.00000</td>\n",
       "      <td>119.000000</td>\n",
       "      <td>96.000000</td>\n",
       "      <td>337.400000</td>\n",
       "      <td>40.779200</td>\n",
       "      <td>-73.880000</td>\n",
       "      <td>99.000000</td>\n",
       "      <td>78.000000</td>\n",
       "      <td>80.000000</td>\n",
       "      <td>733.000000</td>\n",
       "      <td>1942.000000</td>\n",
       "      <td>30.730000</td>\n",
       "      <td>30.860000</td>\n",
       "      <td>62.000000</td>\n",
       "      <td>360.000000</td>\n",
       "    </tr>\n",
       "  </tbody>\n",
       "</table>\n",
       "</div>"
      ],
      "text/plain": [
       "           Site_Num      NO2_Mean  NO2_1stMaxValue  NO2_1stMaxHour  \\\n",
       "count  56073.000000  56073.000000     56073.000000    56073.000000   \n",
       "mean    1705.768445     19.922606        36.264774       11.982469   \n",
       "std     2519.681700     10.817550        16.494427        7.769104   \n",
       "min        4.000000     -0.152174         0.000000        0.000000   \n",
       "25%      124.000000     11.826087        24.300000        6.000000   \n",
       "50%     1010.000000     18.375000        36.000000       10.000000   \n",
       "75%     2007.000000     26.487500        46.000000       20.000000   \n",
       "max     9997.000000     98.130435       163.000000       23.000000   \n",
       "\n",
       "            NO2_AQI       O3_Mean  O3_1stMaxValue  O3_1stMaxHour  \\\n",
       "count  56073.000000  56073.000000    56073.000000   56073.000000   \n",
       "mean      34.208639      0.022574        0.036400      10.131311   \n",
       "std       15.843286      0.011053        0.015641       3.991167   \n",
       "min        0.000000      0.000000        0.000000       0.000000   \n",
       "25%       23.000000      0.014083        0.025000       9.000000   \n",
       "50%       34.000000      0.021958        0.036000      10.000000   \n",
       "75%       43.000000      0.030250        0.046000      11.000000   \n",
       "max      113.000000      0.079458        0.130000      23.000000   \n",
       "\n",
       "             O3_AQI      SO2_Mean  SO2_1stMaxValue  SO2_1stMaxHour  \\\n",
       "count  56073.000000  56073.000000     56073.000000    56073.000000   \n",
       "mean      32.910420      2.662308         5.484707        9.945638   \n",
       "std       18.404656      3.407479         7.382645        6.685631   \n",
       "min        0.000000     -1.725155        -1.300000        0.000000   \n",
       "25%       22.000000      0.531677         1.300000        5.000000   \n",
       "50%       31.000000      1.652083         3.000000        8.000000   \n",
       "75%       40.000000      3.467702         6.650000       14.000000   \n",
       "max      206.000000     53.481250       174.500000       23.000000   \n",
       "\n",
       "            SO2_AQI       CO_Mean  CO_1stMaxValue  CO_1stMaxHour  \\\n",
       "count  56073.000000  56073.000000    56073.000000   56073.000000   \n",
       "mean       8.588099      0.494266        0.862853       8.701354   \n",
       "std       11.776887      0.379911        0.727501       6.736504   \n",
       "min        0.000000     -0.400000       -0.400000       0.000000   \n",
       "25%        1.000000      0.239584        0.389500       3.500000   \n",
       "50%        4.000000      0.393750        0.650000       7.500000   \n",
       "75%       10.000000      0.637500        1.100000      11.500000   \n",
       "max      176.000000      4.111795        7.850000      23.000000   \n",
       "\n",
       "             CO_AQI      TempAvg       TempMax       TempMin     Elevation  \\\n",
       "count  56073.000000  55576.00000  55576.000000  55576.000000  48244.000000   \n",
       "mean       8.332008     72.51049     73.152458     56.454027     76.495902   \n",
       "std        6.908859     14.16188     16.696224     14.699040    118.393967   \n",
       "min        0.000000      0.00000     13.000000      2.000000      3.000000   \n",
       "25%        3.000000     66.00000     63.000000     47.000000      3.400000   \n",
       "50%        7.000000     73.00000     73.000000     57.000000     29.000000   \n",
       "75%       10.000000     84.00000     84.000000     67.000000     29.600000   \n",
       "max       66.000000    106.00000    119.000000     96.000000    337.400000   \n",
       "\n",
       "           Latitude     Longitude   AvgRelHumid  AvgDewPointTemp  \\\n",
       "count  48244.000000  48244.000000  43531.000000     43533.000000   \n",
       "mean      34.900695    -99.066550     64.116032        40.550020   \n",
       "std        3.774871     17.806223     19.700994        14.711799   \n",
       "min       29.980000   -118.388800      5.000000       -11.000000   \n",
       "25%       32.733600   -117.183100     51.000000        30.000000   \n",
       "50%       33.427700    -96.855500     67.000000        37.000000   \n",
       "75%       39.873270    -75.226780     83.000000        51.000000   \n",
       "max       40.779200    -73.880000     99.000000        78.000000   \n",
       "\n",
       "       AvgWetBulbTemp       Sunrise        Sunset  AvgStationPressure  \\\n",
       "count    43533.000000  48244.000000  48244.000000        48244.000000   \n",
       "mean        49.291572    581.320185   1801.010426           29.652541   \n",
       "std         11.803444     88.062569     90.918767            0.461684   \n",
       "min          6.000000    423.000000   1628.000000           28.240000   \n",
       "25%         42.000000    521.000000   1728.000000           29.510000   \n",
       "50%         46.000000    559.000000   1815.000000           29.790000   \n",
       "75%         58.000000    646.000000   1859.000000           29.960000   \n",
       "max         80.000000    733.000000   1942.000000           30.730000   \n",
       "\n",
       "       AvgSeaLevelPressure  SustainedWindSpeed  SustainedWindDirection  \n",
       "count         43533.000000        48098.000000            48098.000000  \n",
       "mean             30.026183           18.205996              215.329951  \n",
       "std               0.170512            5.831168               90.989462  \n",
       "min              29.170000            5.000000               10.000000  \n",
       "25%              29.930000           14.000000              150.000000  \n",
       "50%              30.060000           17.000000              250.000000  \n",
       "75%              30.100000           21.000000              280.000000  \n",
       "max              30.860000           62.000000              360.000000  "
      ]
     },
     "execution_count": 1,
     "metadata": {},
     "output_type": "execute_result"
    }
   ],
   "source": [
    "import pandas as pd\n",
    "import numpy as np\n",
    "from sklearn.cross_validation import train_test_split\n",
    "from sklearn.metrics import classification_report\n",
    "from sklearn.preprocessing import Imputer\n",
    "from sklearn.pipeline import Pipeline\n",
    "from sklearn.svm import SVC\n",
    "from sklearn import linear_model\n",
    "from sklearn import metrics\n",
    "from sklearn.linear_model import LogisticRegression\n",
    "from sklearn.metrics import accuracy_score\n",
    "from sklearn.linear_model import LogisticRegressionCV\n",
    "from sklearn.feature_selection import RFE\n",
    "from sklearn.metrics import confusion_matrix\n",
    "from sklearn import preprocessing\n",
    "from sklearn.ensemble import RandomForestClassifier\n",
    "from sklearn.metrics import recall_score\n",
    "from ggplot import *\n",
    "from scipy import stats\n",
    "stats.chisqprob = lambda chisq, df: stats.chi2.sf(chisq, df)\n",
    "import statsmodels.api as sm\n",
    "from sklearn.model_selection import GridSearchCV\n",
    "\n",
    "from IPython.display import display,HTML\n",
    "pd.set_option(\"display.max.columns\",500)\n",
    "pd.set_option(\"display.max.rows\",500)\n",
    "%matplotlib inline\n",
    "pollution = pd.read_csv('~/Desktop/weatherpollution.csv', index_col='Unnamed: 0')\n",
    "pollution['Date_Local']= pd.to_datetime(pollution['Date_Local'],  errors='raise', format='%Y/%m/%d')\n",
    "# Select for the cities with corresponding pollution and weather data\n",
    "the7cities = ['New York', 'Los Angeles', 'Houston', 'Phoenix', 'Philadelphia', 'San Diego', 'Dallas']\n",
    "pollution7 = pollution[pollution['City'].isin(the7cities)]\n",
    "pollution7.describe()"
   ]
  },
  {
   "cell_type": "markdown",
   "metadata": {},
   "source": [
    "## Prepare the data"
   ]
  },
  {
   "cell_type": "markdown",
   "metadata": {},
   "source": [
    "AQI values were converted into categorical variables to use in the predictive model.  The categories generated were based on EPA advisory categories for Air Quality Index values."
   ]
  },
  {
   "cell_type": "markdown",
   "metadata": {},
   "source": [
    "### Create AQI categories"
   ]
  },
  {
   "cell_type": "code",
   "execution_count": 2,
   "metadata": {},
   "outputs": [
    {
     "name": "stderr",
     "output_type": "stream",
     "text": [
      "/Users/mollymcnamara/anaconda/lib/python3.6/site-packages/ipykernel_launcher.py:16: SettingWithCopyWarning: \n",
      "A value is trying to be set on a copy of a slice from a DataFrame.\n",
      "Try using .loc[row_indexer,col_indexer] = value instead\n",
      "\n",
      "See the caveats in the documentation: http://pandas.pydata.org/pandas-docs/stable/indexing.html#indexing-view-versus-copy\n",
      "  app.launch_new_instance()\n",
      "/Users/mollymcnamara/anaconda/lib/python3.6/site-packages/ipykernel_launcher.py:17: SettingWithCopyWarning: \n",
      "A value is trying to be set on a copy of a slice from a DataFrame.\n",
      "Try using .loc[row_indexer,col_indexer] = value instead\n",
      "\n",
      "See the caveats in the documentation: http://pandas.pydata.org/pandas-docs/stable/indexing.html#indexing-view-versus-copy\n",
      "/Users/mollymcnamara/anaconda/lib/python3.6/site-packages/ipykernel_launcher.py:18: SettingWithCopyWarning: \n",
      "A value is trying to be set on a copy of a slice from a DataFrame.\n",
      "Try using .loc[row_indexer,col_indexer] = value instead\n",
      "\n",
      "See the caveats in the documentation: http://pandas.pydata.org/pandas-docs/stable/indexing.html#indexing-view-versus-copy\n",
      "/Users/mollymcnamara/anaconda/lib/python3.6/site-packages/ipykernel_launcher.py:19: SettingWithCopyWarning: \n",
      "A value is trying to be set on a copy of a slice from a DataFrame.\n",
      "Try using .loc[row_indexer,col_indexer] = value instead\n",
      "\n",
      "See the caveats in the documentation: http://pandas.pydata.org/pandas-docs/stable/indexing.html#indexing-view-versus-copy\n",
      "/Users/mollymcnamara/anaconda/lib/python3.6/site-packages/ipykernel_launcher.py:24: FutureWarning: specifying 'categories' or 'ordered' in .astype() is deprecated; pass a CategoricalDtype instead\n",
      "/Users/mollymcnamara/anaconda/lib/python3.6/site-packages/ipykernel_launcher.py:24: SettingWithCopyWarning: \n",
      "A value is trying to be set on a copy of a slice from a DataFrame.\n",
      "Try using .loc[row_indexer,col_indexer] = value instead\n",
      "\n",
      "See the caveats in the documentation: http://pandas.pydata.org/pandas-docs/stable/indexing.html#indexing-view-versus-copy\n",
      "/Users/mollymcnamara/anaconda/lib/python3.6/site-packages/ipykernel_launcher.py:26: FutureWarning: specifying 'categories' or 'ordered' in .astype() is deprecated; pass a CategoricalDtype instead\n",
      "/Users/mollymcnamara/anaconda/lib/python3.6/site-packages/ipykernel_launcher.py:26: SettingWithCopyWarning: \n",
      "A value is trying to be set on a copy of a slice from a DataFrame.\n",
      "Try using .loc[row_indexer,col_indexer] = value instead\n",
      "\n",
      "See the caveats in the documentation: http://pandas.pydata.org/pandas-docs/stable/indexing.html#indexing-view-versus-copy\n",
      "/Users/mollymcnamara/anaconda/lib/python3.6/site-packages/ipykernel_launcher.py:28: FutureWarning: specifying 'categories' or 'ordered' in .astype() is deprecated; pass a CategoricalDtype instead\n",
      "/Users/mollymcnamara/anaconda/lib/python3.6/site-packages/ipykernel_launcher.py:28: SettingWithCopyWarning: \n",
      "A value is trying to be set on a copy of a slice from a DataFrame.\n",
      "Try using .loc[row_indexer,col_indexer] = value instead\n",
      "\n",
      "See the caveats in the documentation: http://pandas.pydata.org/pandas-docs/stable/indexing.html#indexing-view-versus-copy\n",
      "/Users/mollymcnamara/anaconda/lib/python3.6/site-packages/ipykernel_launcher.py:30: FutureWarning: specifying 'categories' or 'ordered' in .astype() is deprecated; pass a CategoricalDtype instead\n",
      "/Users/mollymcnamara/anaconda/lib/python3.6/site-packages/ipykernel_launcher.py:30: SettingWithCopyWarning: \n",
      "A value is trying to be set on a copy of a slice from a DataFrame.\n",
      "Try using .loc[row_indexer,col_indexer] = value instead\n",
      "\n",
      "See the caveats in the documentation: http://pandas.pydata.org/pandas-docs/stable/indexing.html#indexing-view-versus-copy\n",
      "/Users/mollymcnamara/anaconda/lib/python3.6/site-packages/ipykernel_launcher.py:33: SettingWithCopyWarning: \n",
      "A value is trying to be set on a copy of a slice from a DataFrame.\n",
      "Try using .loc[row_indexer,col_indexer] = value instead\n",
      "\n",
      "See the caveats in the documentation: http://pandas.pydata.org/pandas-docs/stable/indexing.html#indexing-view-versus-copy\n",
      "/Users/mollymcnamara/anaconda/lib/python3.6/site-packages/ipykernel_launcher.py:34: SettingWithCopyWarning: \n",
      "A value is trying to be set on a copy of a slice from a DataFrame.\n",
      "Try using .loc[row_indexer,col_indexer] = value instead\n",
      "\n",
      "See the caveats in the documentation: http://pandas.pydata.org/pandas-docs/stable/indexing.html#indexing-view-versus-copy\n",
      "/Users/mollymcnamara/anaconda/lib/python3.6/site-packages/ipykernel_launcher.py:35: SettingWithCopyWarning: \n",
      "A value is trying to be set on a copy of a slice from a DataFrame.\n",
      "Try using .loc[row_indexer,col_indexer] = value instead\n",
      "\n",
      "See the caveats in the documentation: http://pandas.pydata.org/pandas-docs/stable/indexing.html#indexing-view-versus-copy\n",
      "/Users/mollymcnamara/anaconda/lib/python3.6/site-packages/ipykernel_launcher.py:36: SettingWithCopyWarning: \n",
      "A value is trying to be set on a copy of a slice from a DataFrame.\n",
      "Try using .loc[row_indexer,col_indexer] = value instead\n",
      "\n",
      "See the caveats in the documentation: http://pandas.pydata.org/pandas-docs/stable/indexing.html#indexing-view-versus-copy\n"
     ]
    },
    {
     "data": {
      "text/plain": [
       "Site_Num                           int64\n",
       "Date_Local                datetime64[ns]\n",
       "State                             object\n",
       "County                            object\n",
       "City                              object\n",
       "NO2_Mean                         float64\n",
       "NO2_1stMaxValue                  float64\n",
       "NO2_1stMaxHour                   float64\n",
       "NO2_AQI                          float64\n",
       "O3_Mean                          float64\n",
       "O3_1stMaxValue                   float64\n",
       "O3_1stMaxHour                    float64\n",
       "O3_AQI                           float64\n",
       "SO2_Mean                         float64\n",
       "SO2_1stMaxValue                  float64\n",
       "SO2_1stMaxHour                   float64\n",
       "SO2_AQI                          float64\n",
       "CO_Mean                          float64\n",
       "CO_1stMaxValue                   float64\n",
       "CO_1stMaxHour                    float64\n",
       "CO_AQI                           float64\n",
       "TempAvg                          float64\n",
       "TempMax                          float64\n",
       "TempMin                          float64\n",
       "Elevation                        float64\n",
       "Latitude                         float64\n",
       "Longitude                        float64\n",
       "MaxTempDryBulb                    object\n",
       "MinTempDryBulb                    object\n",
       "AvgTempDryBulb                    object\n",
       "DeptfromNormAvgTemp               object\n",
       "AvgRelHumid                      float64\n",
       "AvgDewPointTemp                  float64\n",
       "AvgWetBulbTemp                   float64\n",
       "HeatingDegDays                    object\n",
       "CoolingDegDays                    object\n",
       "Sunrise                          float64\n",
       "Sunset                           float64\n",
       "DaysWeather                       object\n",
       "Precip                            object\n",
       "Snowfall                          object\n",
       "SnowDepth                         object\n",
       "AvgStationPressure               float64\n",
       "AvgSeaLevelPressure              float64\n",
       "AvgWindSpeed                      object\n",
       "PeakWindSpeed                     object\n",
       "PeakWindDirection                 object\n",
       "SustainedWindSpeed               float64\n",
       "SustainedWindDirection           float64\n",
       "OzoneAQI                        category\n",
       "NitrogenDioxideAQI              category\n",
       "CarbonMonoxideAQI               category\n",
       "SulfurDioxideAQI                category\n",
       "dtype: object"
      ]
     },
     "execution_count": 2,
     "metadata": {},
     "output_type": "execute_result"
    }
   ],
   "source": [
    "def AQI(x):\n",
    "    if 0 <= x <= 50:\n",
    "        return 'Good'\n",
    "    elif 50 < x <= 100:\n",
    "        return 'Moderate'\n",
    "    elif 100 < x <= 150:\n",
    "        return 'Unhealthy for Sensitive Groups'\n",
    "    elif 150 < x <= 200:\n",
    "        return 'Unhealthy'\n",
    "    elif 200 < x <= 300:\n",
    "        return 'Very Unhealthy'\n",
    "    elif 300 < x <= 500:\n",
    "        return 'Hazardous'\n",
    "    \n",
    "# Apply the function to create the new categories\n",
    "pollution7['OzoneAQI'] = pollution7['O3_AQI'].apply(AQI)\n",
    "pollution7['NitrogenDioxideAQI'] = pollution7['NO2_AQI'].apply(AQI)\n",
    "pollution7['CarbonMonoxideAQI'] = pollution7['CO_AQI'].apply(AQI)\n",
    "pollution7['SulfurDioxideAQI'] = pollution7['SO2_AQI'].apply(AQI)\n",
    "\n",
    "# Convert them to category type and code numerically\n",
    "ordered_AQI = ['Good', 'Moderate', 'Unhealthy for Sensitive Groups', 'Unhealthy', 'Very Unhealthy', 'Hazardous']\n",
    "pollution7['OzoneAQI'] = pollution7['OzoneAQI'].astype('category', ordered=True,\n",
    "  categories=ordered_AQI).cat.codes\n",
    "pollution7['NitrogenDioxideAQI'] = pollution7['NitrogenDioxideAQI'].astype('category', ordered=True,\n",
    "  categories=ordered_AQI).cat.codes\n",
    "pollution7['CarbonMonoxideAQI'] = pollution7['CarbonMonoxideAQI'].astype('category', ordered=True,\n",
    "  categories=ordered_AQI).cat.codes\n",
    "pollution7['SulfurDioxideAQI'] = pollution7['SulfurDioxideAQI'].astype('category', ordered=True,\n",
    "  categories=ordered_AQI).cat.codes\n",
    "\n",
    "# Ensure the numerical codes are category type\n",
    "pollution7['OzoneAQI'] = pollution7['OzoneAQI'].astype('category')\n",
    "pollution7['NitrogenDioxideAQI'] = pollution7['NitrogenDioxideAQI'].astype('category')\n",
    "pollution7['CarbonMonoxideAQI'] = pollution7['CarbonMonoxideAQI'].astype('category')\n",
    "pollution7['SulfurDioxideAQI'] = pollution7['SulfurDioxideAQI'].astype('category')\n",
    "pollution7.dtypes"
   ]
  },
  {
   "cell_type": "markdown",
   "metadata": {},
   "source": [
    "### Define the features of interest\n",
    "### Create train and test sets for each pollutant"
   ]
  },
  {
   "cell_type": "code",
   "execution_count": 3,
   "metadata": {
    "collapsed": true
   },
   "outputs": [],
   "source": [
    "# Specify features of interest\n",
    "X = pollution7[['TempAvg', 'TempMax', 'TempMin', 'Elevation', 'AvgRelHumid', 'AvgDewPointTemp', 'Sunrise', 'Sunset', 'AvgStationPressure', 'AvgSeaLevelPressure', 'SustainedWindSpeed']]\n",
    "feat_labels = ['TempAvg', 'TempMax', 'TempMin', 'Elevation', 'AvgRelHumid', 'AvgDewPointTemp', 'Sunrise', 'Sunset', 'AvgStationPressure', 'AvgSeaLevelPressure', 'SustainedWindSpeed']\n",
    "y_oz = pollution7['OzoneAQI']\n",
    "y_no = pollution7['NitrogenDioxideAQI']\n",
    "y_co = pollution7['CarbonMonoxideAQI']\n",
    "y_so = pollution7['SulfurDioxideAQI']\n",
    "\n",
    "# Preprocess with Imputer\n",
    "imp = Imputer(missing_values='NaN', strategy='mean', axis=0)\n",
    "X_imp = imp.fit_transform(X)\n",
    "\n",
    "# Create train and test sets\n",
    "X_train_oz, X_test_oz, y_train_oz, y_test_oz = train_test_split(X_imp, y_oz, test_size=0.2, random_state=42)\n",
    "X_train_no, X_test_no, y_train_no, y_test_no = train_test_split(X_imp, y_no, test_size=0.2, random_state=42)\n",
    "X_train_co, X_test_co, y_train_co, y_test_co = train_test_split(X_imp, y_co, test_size=0.2, random_state=42)\n",
    "X_train_so, X_test_so, y_train_so, y_test_so = train_test_split(X_imp, y_so, test_size=0.2, random_state=42)"
   ]
  },
  {
   "cell_type": "markdown",
   "metadata": {},
   "source": [
    "## Modeling"
   ]
  },
  {
   "cell_type": "markdown",
   "metadata": {},
   "source": [
    "In order to predict the outcome variable, logistic regression will be used to develop the model. "
   ]
  },
  {
   "cell_type": "markdown",
   "metadata": {},
   "source": [
    "### Logistic Regression"
   ]
  },
  {
   "cell_type": "code",
   "execution_count": 4,
   "metadata": {
    "collapsed": true,
    "scrolled": false
   },
   "outputs": [],
   "source": [
    "# Setup the regression object\n",
    "lr = LogisticRegression()"
   ]
  },
  {
   "cell_type": "markdown",
   "metadata": {},
   "source": [
    "#### Ozone"
   ]
  },
  {
   "cell_type": "code",
   "execution_count": 5,
   "metadata": {},
   "outputs": [
    {
     "name": "stdout",
     "output_type": "stream",
     "text": [
      "Ozone Model Accuracy 0.913776192599\n",
      "             precision    recall  f1-score   support\n",
      "\n",
      "          0       0.92      0.99      0.96     10248\n",
      "          1       0.47      0.14      0.21       821\n",
      "          2       0.00      0.00      0.00       135\n",
      "          3       0.00      0.00      0.00        10\n",
      "          4       0.00      0.00      0.00         1\n",
      "\n",
      "avg / total       0.88      0.91      0.89     11215\n",
      "\n"
     ]
    },
    {
     "name": "stderr",
     "output_type": "stream",
     "text": [
      "/Users/mollymcnamara/anaconda/lib/python3.6/site-packages/sklearn/metrics/classification.py:1135: UndefinedMetricWarning: Precision and F-score are ill-defined and being set to 0.0 in labels with no predicted samples.\n",
      "  'precision', 'predicted', average, warn_for)\n"
     ]
    }
   ],
   "source": [
    "# Fit the regression to the train set\n",
    "lr.fit(X_train_oz, y_train_oz)\n",
    "# Predict the labels of the test set\n",
    "y_pred_oz = lr.predict(X_test_oz)\n",
    "# Compute metrics\n",
    "print('Ozone Model Accuracy', metrics.accuracy_score(y_test_oz, y_pred_oz))\n",
    "print(metrics.classification_report(y_test_oz, y_pred_oz))"
   ]
  },
  {
   "cell_type": "code",
   "execution_count": 6,
   "metadata": {},
   "outputs": [
    {
     "data": {
      "text/plain": [
       "array([[10136,   112,     0,     0,     0],\n",
       "       [  709,   112,     0,     0,     0],\n",
       "       [  120,    15,     0,     0,     0],\n",
       "       [   10,     0,     0,     0,     0],\n",
       "       [    1,     0,     0,     0,     0]])"
      ]
     },
     "execution_count": 6,
     "metadata": {},
     "output_type": "execute_result"
    }
   ],
   "source": [
    "confusion_matrix(y_test_oz, y_pred_oz)"
   ]
  },
  {
   "cell_type": "markdown",
   "metadata": {},
   "source": [
    "#### Nitrogen Dioxide"
   ]
  },
  {
   "cell_type": "code",
   "execution_count": 7,
   "metadata": {},
   "outputs": [
    {
     "name": "stdout",
     "output_type": "stream",
     "text": [
      "Nitrogen Dioxide Model Accuracy 0.880606330807\n",
      "             precision    recall  f1-score   support\n",
      "\n",
      "          0       0.89      0.99      0.94      9798\n",
      "          1       0.60      0.16      0.26      1369\n",
      "          2       0.00      0.00      0.00        48\n",
      "\n",
      "avg / total       0.85      0.88      0.85     11215\n",
      "\n"
     ]
    },
    {
     "name": "stderr",
     "output_type": "stream",
     "text": [
      "/Users/mollymcnamara/anaconda/lib/python3.6/site-packages/sklearn/metrics/classification.py:1135: UndefinedMetricWarning: Precision and F-score are ill-defined and being set to 0.0 in labels with no predicted samples.\n",
      "  'precision', 'predicted', average, warn_for)\n"
     ]
    }
   ],
   "source": [
    "# Fit the regression to the train set\n",
    "lr.fit(X_train_no, y_train_no)\n",
    "# Predict the labels of the test set\n",
    "y_pred_no = lr.predict(X_test_no)\n",
    "# Compute metrics\n",
    "print('Nitrogen Dioxide Model Accuracy', metrics.accuracy_score(y_test_no, y_pred_no))\n",
    "print(metrics.classification_report(y_test_no, y_pred_no))"
   ]
  },
  {
   "cell_type": "code",
   "execution_count": 8,
   "metadata": {},
   "outputs": [
    {
     "data": {
      "text/plain": [
       "array([[9652,  146,    0],\n",
       "       [1145,  224,    0],\n",
       "       [  45,    3,    0]])"
      ]
     },
     "execution_count": 8,
     "metadata": {},
     "output_type": "execute_result"
    }
   ],
   "source": [
    "confusion_matrix(y_test_no, y_pred_no)"
   ]
  },
  {
   "cell_type": "markdown",
   "metadata": {},
   "source": [
    "#### Carbon Monoxide"
   ]
  },
  {
   "cell_type": "code",
   "execution_count": 9,
   "metadata": {},
   "outputs": [
    {
     "name": "stdout",
     "output_type": "stream",
     "text": [
      "Carbon Monoxide Model Accuracy 0.998395006687\n",
      "             precision    recall  f1-score   support\n",
      "\n",
      "          0       1.00      1.00      1.00     11197\n",
      "          1       0.00      0.00      0.00        18\n",
      "\n",
      "avg / total       1.00      1.00      1.00     11215\n",
      "\n"
     ]
    },
    {
     "name": "stderr",
     "output_type": "stream",
     "text": [
      "/Users/mollymcnamara/anaconda/lib/python3.6/site-packages/sklearn/metrics/classification.py:1135: UndefinedMetricWarning: Precision and F-score are ill-defined and being set to 0.0 in labels with no predicted samples.\n",
      "  'precision', 'predicted', average, warn_for)\n"
     ]
    }
   ],
   "source": [
    "# Fit the regression to the train set\n",
    "lr.fit(X_train_co, y_train_co)\n",
    "# Predict the labels of the test set\n",
    "y_pred_co = lr.predict(X_test_co)\n",
    "# Compute metrics\n",
    "print('Carbon Monoxide Model Accuracy', metrics.accuracy_score(y_test_co, y_pred_co))\n",
    "print(metrics.classification_report(y_test_co, y_pred_co))"
   ]
  },
  {
   "cell_type": "code",
   "execution_count": 10,
   "metadata": {},
   "outputs": [
    {
     "data": {
      "text/plain": [
       "array([[11197,     0],\n",
       "       [   18,     0]])"
      ]
     },
     "execution_count": 10,
     "metadata": {},
     "output_type": "execute_result"
    }
   ],
   "source": [
    "confusion_matrix(y_test_co, y_pred_co)"
   ]
  },
  {
   "cell_type": "markdown",
   "metadata": {},
   "source": [
    "#### Sulfur Dioxide"
   ]
  },
  {
   "cell_type": "code",
   "execution_count": 11,
   "metadata": {},
   "outputs": [
    {
     "name": "stdout",
     "output_type": "stream",
     "text": [
      "Sulfur Dioxide Model Accuracy 0.984663397236\n",
      "             precision    recall  f1-score   support\n",
      "\n",
      "          0       0.98      1.00      0.99     11043\n",
      "          1       0.00      0.00      0.00       159\n",
      "          2       0.00      0.00      0.00        13\n",
      "\n",
      "avg / total       0.97      0.98      0.98     11215\n",
      "\n"
     ]
    },
    {
     "name": "stderr",
     "output_type": "stream",
     "text": [
      "/Users/mollymcnamara/anaconda/lib/python3.6/site-packages/sklearn/metrics/classification.py:1135: UndefinedMetricWarning: Precision and F-score are ill-defined and being set to 0.0 in labels with no predicted samples.\n",
      "  'precision', 'predicted', average, warn_for)\n"
     ]
    }
   ],
   "source": [
    "# Fit the regression to the train set\n",
    "lr.fit(X_train_so, y_train_so)\n",
    "# Predict the labels of the test set\n",
    "y_pred_so = lr.predict(X_test_so)\n",
    "# Compute metrics\n",
    "print('Sulfur Dioxide Model Accuracy', metrics.accuracy_score(y_test_so, y_pred_so))\n",
    "print(metrics.classification_report(y_test_so, y_pred_so))"
   ]
  },
  {
   "cell_type": "code",
   "execution_count": 12,
   "metadata": {},
   "outputs": [
    {
     "data": {
      "text/plain": [
       "array([[11043,     0,     0],\n",
       "       [  159,     0,     0],\n",
       "       [   13,     0,     0]])"
      ]
     },
     "execution_count": 12,
     "metadata": {},
     "output_type": "execute_result"
    }
   ],
   "source": [
    "confusion_matrix(y_test_so, y_pred_so)"
   ]
  },
  {
   "cell_type": "markdown",
   "metadata": {},
   "source": [
    "These models might appear to have high accuracies but when the confusion matrices are evaluated, they are actually fairly poor at discriminating the less populated classes.  Cross validation with balanced class weighting may help address this."
   ]
  },
  {
   "cell_type": "markdown",
   "metadata": {},
   "source": [
    "### Logistic Regression with Cross Validation"
   ]
  },
  {
   "cell_type": "code",
   "execution_count": 13,
   "metadata": {
    "collapsed": true,
    "scrolled": false
   },
   "outputs": [],
   "source": [
    "# Setup the regression object\n",
    "lrcv = LogisticRegressionCV(class_weight='balanced', multi_class = 'multinomial')"
   ]
  },
  {
   "cell_type": "markdown",
   "metadata": {},
   "source": [
    "#### Ozone"
   ]
  },
  {
   "cell_type": "code",
   "execution_count": 14,
   "metadata": {
    "scrolled": true
   },
   "outputs": [
    {
     "name": "stdout",
     "output_type": "stream",
     "text": [
      "Ozone Model Accuracy 0.726348640214\n",
      "             precision    recall  f1-score   support\n",
      "\n",
      "          0       0.98      0.76      0.85     10248\n",
      "          1       0.22      0.42      0.29       821\n",
      "          2       0.09      0.34      0.14       135\n",
      "          3       0.01      0.70      0.02        10\n",
      "          4       0.00      1.00      0.00         1\n",
      "\n",
      "avg / total       0.91      0.73      0.80     11215\n",
      "\n"
     ]
    }
   ],
   "source": [
    "# Fit the regression to the train set\n",
    "lrcv.fit(X_train_oz, y_train_oz)\n",
    "# Predict the labels of the test set\n",
    "y_pred_oz = lrcv.predict(X_test_oz)\n",
    "# Compute metrics\n",
    "print('Ozone Model Accuracy', metrics.accuracy_score(y_test_oz, y_pred_oz))\n",
    "print(metrics.classification_report(y_test_oz, y_pred_oz))"
   ]
  },
  {
   "cell_type": "code",
   "execution_count": 15,
   "metadata": {},
   "outputs": [
    {
     "data": {
      "text/plain": [
       "array([[7750, 1151,  327,  622,  398],\n",
       "       [ 146,  342,  139,  138,   56],\n",
       "       [   4,   33,   46,   21,   31],\n",
       "       [   0,    1,    1,    7,    1],\n",
       "       [   0,    0,    0,    0,    1]])"
      ]
     },
     "execution_count": 15,
     "metadata": {},
     "output_type": "execute_result"
    }
   ],
   "source": [
    "confusion_matrix(y_test_oz, y_pred_oz)"
   ]
  },
  {
   "cell_type": "markdown",
   "metadata": {},
   "source": [
    "#### Nitrogen Dioxide"
   ]
  },
  {
   "cell_type": "code",
   "execution_count": 16,
   "metadata": {},
   "outputs": [
    {
     "name": "stdout",
     "output_type": "stream",
     "text": [
      "Nitrogen Dioxide Model Accuracy 0.640927329469\n",
      "             precision    recall  f1-score   support\n",
      "\n",
      "          0       0.95      0.66      0.78      9798\n",
      "          1       0.25      0.49      0.33      1369\n",
      "          2       0.02      0.77      0.04        48\n",
      "\n",
      "avg / total       0.86      0.64      0.72     11215\n",
      "\n"
     ]
    }
   ],
   "source": [
    "# Fit the regression to the train set\n",
    "lrcv.fit(X_train_no, y_train_no)\n",
    "# Predict the labels of the test set\n",
    "y_pred_no = lrcv.predict(X_test_no)\n",
    "# Compute metrics\n",
    "print('Nitrogen Dioxide Model Accuracy', metrics.accuracy_score(y_test_no, y_pred_no))\n",
    "print(metrics.classification_report(y_test_no, y_pred_no))"
   ]
  },
  {
   "cell_type": "code",
   "execution_count": 17,
   "metadata": {},
   "outputs": [
    {
     "data": {
      "text/plain": [
       "array([[6476, 1993, 1329],\n",
       "       [ 326,  675,  368],\n",
       "       [   4,    7,   37]])"
      ]
     },
     "execution_count": 17,
     "metadata": {},
     "output_type": "execute_result"
    }
   ],
   "source": [
    "confusion_matrix(y_test_no, y_pred_no)"
   ]
  },
  {
   "cell_type": "markdown",
   "metadata": {},
   "source": [
    "#### Carbon Monoxide"
   ]
  },
  {
   "cell_type": "code",
   "execution_count": 18,
   "metadata": {},
   "outputs": [
    {
     "name": "stdout",
     "output_type": "stream",
     "text": [
      "Carbon Monoxide Model Accuracy 0.813285777976\n",
      "             precision    recall  f1-score   support\n",
      "\n",
      "          0       1.00      0.81      0.90     11197\n",
      "          1       0.01      1.00      0.02        18\n",
      "\n",
      "avg / total       1.00      0.81      0.90     11215\n",
      "\n"
     ]
    }
   ],
   "source": [
    "# Fit the regression to the train set\n",
    "lrcv.fit(X_train_co, y_train_co)\n",
    "# Predict the labels of the test set\n",
    "y_pred_co = lrcv.predict(X_test_co)\n",
    "# Compute metrics\n",
    "print('Carbon Monoxide Model Accuracy', metrics.accuracy_score(y_test_co, y_pred_co))\n",
    "print(metrics.classification_report(y_test_co, y_pred_co))"
   ]
  },
  {
   "cell_type": "code",
   "execution_count": 19,
   "metadata": {},
   "outputs": [
    {
     "data": {
      "text/plain": [
       "array([[9103, 2094],\n",
       "       [   0,   18]])"
      ]
     },
     "execution_count": 19,
     "metadata": {},
     "output_type": "execute_result"
    }
   ],
   "source": [
    "confusion_matrix(y_test_co, y_pred_co)"
   ]
  },
  {
   "cell_type": "markdown",
   "metadata": {},
   "source": [
    "#### Sulfur Dioxide"
   ]
  },
  {
   "cell_type": "code",
   "execution_count": 20,
   "metadata": {},
   "outputs": [
    {
     "name": "stderr",
     "output_type": "stream",
     "text": [
      "/Users/mollymcnamara/anaconda/lib/python3.6/site-packages/sklearn/model_selection/_split.py:605: Warning: The least populated class in y has only 2 members, which is too few. The minimum number of members in any class cannot be less than n_splits=3.\n",
      "  % (min_groups, self.n_splits)), Warning)\n"
     ]
    },
    {
     "name": "stdout",
     "output_type": "stream",
     "text": [
      "Sulfur Dioxide Model Accuracy 0.667944716897\n",
      "             precision    recall  f1-score   support\n",
      "\n",
      "          0       1.00      0.67      0.80     11043\n",
      "          1       0.03      0.47      0.06       159\n",
      "          2       0.01      0.46      0.01        13\n",
      "          3       0.00      0.00      0.00         0\n",
      "\n",
      "avg / total       0.98      0.67      0.79     11215\n",
      "\n"
     ]
    },
    {
     "name": "stderr",
     "output_type": "stream",
     "text": [
      "/Users/mollymcnamara/anaconda/lib/python3.6/site-packages/sklearn/metrics/classification.py:1137: UndefinedMetricWarning: Recall and F-score are ill-defined and being set to 0.0 in labels with no true samples.\n",
      "  'recall', 'true', average, warn_for)\n"
     ]
    }
   ],
   "source": [
    "# Fit the regression to the train set\n",
    "lrcv.fit(X_train_so, y_train_so)\n",
    "# Predict the labels of the test set\n",
    "y_pred_so = lrcv.predict(X_test_so)\n",
    "# Compute metrics\n",
    "print('Sulfur Dioxide Model Accuracy', metrics.accuracy_score(y_test_so, y_pred_so))\n",
    "print(metrics.classification_report(y_test_so, y_pred_so))"
   ]
  },
  {
   "cell_type": "code",
   "execution_count": 21,
   "metadata": {},
   "outputs": [
    {
     "data": {
      "text/plain": [
       "array([[7410, 2133,  936,  564],\n",
       "       [  34,   75,   35,   15],\n",
       "       [   3,    1,    6,    3],\n",
       "       [   0,    0,    0,    0]])"
      ]
     },
     "execution_count": 21,
     "metadata": {},
     "output_type": "execute_result"
    }
   ],
   "source": [
    "confusion_matrix(y_test_so, y_pred_so)"
   ]
  },
  {
   "cell_type": "markdown",
   "metadata": {},
   "source": [
    "The accuracy of the cross validated models are lower but perhaps slightly better in terms of predicting the classes.  The imbalance between the classes is still an issue."
   ]
  },
  {
   "cell_type": "code",
   "execution_count": 22,
   "metadata": {},
   "outputs": [
    {
     "data": {
      "text/plain": [
       "0    51301\n",
       "1     4059\n",
       "2      645\n",
       "3       57\n",
       "4       11\n",
       "Name: OzoneAQI, dtype: int64"
      ]
     },
     "execution_count": 22,
     "metadata": {},
     "output_type": "execute_result"
    }
   ],
   "source": [
    "pollution7.OzoneAQI.value_counts()"
   ]
  },
  {
   "cell_type": "code",
   "execution_count": 23,
   "metadata": {},
   "outputs": [
    {
     "data": {
      "text/plain": [
       "0    56005\n",
       "1       68\n",
       "Name: CarbonMonoxideAQI, dtype: int64"
      ]
     },
     "execution_count": 23,
     "metadata": {},
     "output_type": "execute_result"
    }
   ],
   "source": [
    "pollution7.CarbonMonoxideAQI.value_counts()"
   ]
  },
  {
   "cell_type": "code",
   "execution_count": 24,
   "metadata": {},
   "outputs": [
    {
     "data": {
      "text/plain": [
       "0    55189\n",
       "1      823\n",
       "2       59\n",
       "3        2\n",
       "Name: SulfurDioxideAQI, dtype: int64"
      ]
     },
     "execution_count": 24,
     "metadata": {},
     "output_type": "execute_result"
    }
   ],
   "source": [
    "pollution7.SulfurDioxideAQI.value_counts()"
   ]
  },
  {
   "cell_type": "code",
   "execution_count": 25,
   "metadata": {},
   "outputs": [
    {
     "data": {
      "text/plain": [
       "0    48855\n",
       "1     7010\n",
       "2      208\n",
       "Name: NitrogenDioxideAQI, dtype: int64"
      ]
     },
     "execution_count": 25,
     "metadata": {},
     "output_type": "execute_result"
    }
   ],
   "source": [
    "pollution7.NitrogenDioxideAQI.value_counts()"
   ]
  },
  {
   "cell_type": "markdown",
   "metadata": {},
   "source": [
    "These breakdowns show just how imbalanced the classes are.  From here, we can begin to tweak the models to improve the prediction."
   ]
  },
  {
   "cell_type": "markdown",
   "metadata": {},
   "source": [
    "## Improving the Models"
   ]
  },
  {
   "cell_type": "markdown",
   "metadata": {},
   "source": [
    "#### Normalization of data"
   ]
  },
  {
   "cell_type": "code",
   "execution_count": 26,
   "metadata": {
    "collapsed": true
   },
   "outputs": [],
   "source": [
    "# First we normalize the X inputs\n",
    "normalized_X = preprocessing.normalize(X_imp)"
   ]
  },
  {
   "cell_type": "markdown",
   "metadata": {},
   "source": [
    "To better power the smaller classes, the air quality categories are reconfigured as a binary outcome of \"Good\" (AQI 0-50) and \"Elevated\" (greater than 50)."
   ]
  },
  {
   "cell_type": "markdown",
   "metadata": {},
   "source": [
    "#### New Air Quality Categories"
   ]
  },
  {
   "cell_type": "code",
   "execution_count": 27,
   "metadata": {},
   "outputs": [
    {
     "name": "stderr",
     "output_type": "stream",
     "text": [
      "/Users/mollymcnamara/anaconda/lib/python3.6/site-packages/ipykernel_launcher.py:7: SettingWithCopyWarning: \n",
      "A value is trying to be set on a copy of a slice from a DataFrame.\n",
      "Try using .loc[row_indexer,col_indexer] = value instead\n",
      "\n",
      "See the caveats in the documentation: http://pandas.pydata.org/pandas-docs/stable/indexing.html#indexing-view-versus-copy\n",
      "  import sys\n",
      "/Users/mollymcnamara/anaconda/lib/python3.6/site-packages/ipykernel_launcher.py:8: SettingWithCopyWarning: \n",
      "A value is trying to be set on a copy of a slice from a DataFrame.\n",
      "Try using .loc[row_indexer,col_indexer] = value instead\n",
      "\n",
      "See the caveats in the documentation: http://pandas.pydata.org/pandas-docs/stable/indexing.html#indexing-view-versus-copy\n",
      "  \n",
      "/Users/mollymcnamara/anaconda/lib/python3.6/site-packages/ipykernel_launcher.py:9: SettingWithCopyWarning: \n",
      "A value is trying to be set on a copy of a slice from a DataFrame.\n",
      "Try using .loc[row_indexer,col_indexer] = value instead\n",
      "\n",
      "See the caveats in the documentation: http://pandas.pydata.org/pandas-docs/stable/indexing.html#indexing-view-versus-copy\n",
      "  if __name__ == '__main__':\n",
      "/Users/mollymcnamara/anaconda/lib/python3.6/site-packages/ipykernel_launcher.py:10: SettingWithCopyWarning: \n",
      "A value is trying to be set on a copy of a slice from a DataFrame.\n",
      "Try using .loc[row_indexer,col_indexer] = value instead\n",
      "\n",
      "See the caveats in the documentation: http://pandas.pydata.org/pandas-docs/stable/indexing.html#indexing-view-versus-copy\n",
      "  # Remove the CWD from sys.path while we load stuff.\n",
      "/Users/mollymcnamara/anaconda/lib/python3.6/site-packages/ipykernel_launcher.py:14: FutureWarning: specifying 'categories' or 'ordered' in .astype() is deprecated; pass a CategoricalDtype instead\n",
      "  \n",
      "/Users/mollymcnamara/anaconda/lib/python3.6/site-packages/ipykernel_launcher.py:14: SettingWithCopyWarning: \n",
      "A value is trying to be set on a copy of a slice from a DataFrame.\n",
      "Try using .loc[row_indexer,col_indexer] = value instead\n",
      "\n",
      "See the caveats in the documentation: http://pandas.pydata.org/pandas-docs/stable/indexing.html#indexing-view-versus-copy\n",
      "  \n",
      "/Users/mollymcnamara/anaconda/lib/python3.6/site-packages/ipykernel_launcher.py:16: FutureWarning: specifying 'categories' or 'ordered' in .astype() is deprecated; pass a CategoricalDtype instead\n",
      "  app.launch_new_instance()\n",
      "/Users/mollymcnamara/anaconda/lib/python3.6/site-packages/ipykernel_launcher.py:16: SettingWithCopyWarning: \n",
      "A value is trying to be set on a copy of a slice from a DataFrame.\n",
      "Try using .loc[row_indexer,col_indexer] = value instead\n",
      "\n",
      "See the caveats in the documentation: http://pandas.pydata.org/pandas-docs/stable/indexing.html#indexing-view-versus-copy\n",
      "  app.launch_new_instance()\n",
      "/Users/mollymcnamara/anaconda/lib/python3.6/site-packages/ipykernel_launcher.py:18: FutureWarning: specifying 'categories' or 'ordered' in .astype() is deprecated; pass a CategoricalDtype instead\n",
      "/Users/mollymcnamara/anaconda/lib/python3.6/site-packages/ipykernel_launcher.py:18: SettingWithCopyWarning: \n",
      "A value is trying to be set on a copy of a slice from a DataFrame.\n",
      "Try using .loc[row_indexer,col_indexer] = value instead\n",
      "\n",
      "See the caveats in the documentation: http://pandas.pydata.org/pandas-docs/stable/indexing.html#indexing-view-versus-copy\n",
      "/Users/mollymcnamara/anaconda/lib/python3.6/site-packages/ipykernel_launcher.py:20: FutureWarning: specifying 'categories' or 'ordered' in .astype() is deprecated; pass a CategoricalDtype instead\n",
      "/Users/mollymcnamara/anaconda/lib/python3.6/site-packages/ipykernel_launcher.py:20: SettingWithCopyWarning: \n",
      "A value is trying to be set on a copy of a slice from a DataFrame.\n",
      "Try using .loc[row_indexer,col_indexer] = value instead\n",
      "\n",
      "See the caveats in the documentation: http://pandas.pydata.org/pandas-docs/stable/indexing.html#indexing-view-versus-copy\n",
      "/Users/mollymcnamara/anaconda/lib/python3.6/site-packages/ipykernel_launcher.py:22: SettingWithCopyWarning: \n",
      "A value is trying to be set on a copy of a slice from a DataFrame.\n",
      "Try using .loc[row_indexer,col_indexer] = value instead\n",
      "\n",
      "See the caveats in the documentation: http://pandas.pydata.org/pandas-docs/stable/indexing.html#indexing-view-versus-copy\n",
      "/Users/mollymcnamara/anaconda/lib/python3.6/site-packages/ipykernel_launcher.py:23: SettingWithCopyWarning: \n",
      "A value is trying to be set on a copy of a slice from a DataFrame.\n",
      "Try using .loc[row_indexer,col_indexer] = value instead\n",
      "\n",
      "See the caveats in the documentation: http://pandas.pydata.org/pandas-docs/stable/indexing.html#indexing-view-versus-copy\n",
      "/Users/mollymcnamara/anaconda/lib/python3.6/site-packages/ipykernel_launcher.py:24: SettingWithCopyWarning: \n",
      "A value is trying to be set on a copy of a slice from a DataFrame.\n",
      "Try using .loc[row_indexer,col_indexer] = value instead\n",
      "\n",
      "See the caveats in the documentation: http://pandas.pydata.org/pandas-docs/stable/indexing.html#indexing-view-versus-copy\n",
      "/Users/mollymcnamara/anaconda/lib/python3.6/site-packages/ipykernel_launcher.py:25: SettingWithCopyWarning: \n",
      "A value is trying to be set on a copy of a slice from a DataFrame.\n",
      "Try using .loc[row_indexer,col_indexer] = value instead\n",
      "\n",
      "See the caveats in the documentation: http://pandas.pydata.org/pandas-docs/stable/indexing.html#indexing-view-versus-copy\n"
     ]
    },
    {
     "data": {
      "text/plain": [
       "Site_Num                           int64\n",
       "Date_Local                datetime64[ns]\n",
       "State                             object\n",
       "County                            object\n",
       "City                              object\n",
       "NO2_Mean                         float64\n",
       "NO2_1stMaxValue                  float64\n",
       "NO2_1stMaxHour                   float64\n",
       "NO2_AQI                          float64\n",
       "O3_Mean                          float64\n",
       "O3_1stMaxValue                   float64\n",
       "O3_1stMaxHour                    float64\n",
       "O3_AQI                           float64\n",
       "SO2_Mean                         float64\n",
       "SO2_1stMaxValue                  float64\n",
       "SO2_1stMaxHour                   float64\n",
       "SO2_AQI                          float64\n",
       "CO_Mean                          float64\n",
       "CO_1stMaxValue                   float64\n",
       "CO_1stMaxHour                    float64\n",
       "CO_AQI                           float64\n",
       "TempAvg                          float64\n",
       "TempMax                          float64\n",
       "TempMin                          float64\n",
       "Elevation                        float64\n",
       "Latitude                         float64\n",
       "Longitude                        float64\n",
       "MaxTempDryBulb                    object\n",
       "MinTempDryBulb                    object\n",
       "AvgTempDryBulb                    object\n",
       "DeptfromNormAvgTemp               object\n",
       "AvgRelHumid                      float64\n",
       "AvgDewPointTemp                  float64\n",
       "AvgWetBulbTemp                   float64\n",
       "HeatingDegDays                    object\n",
       "CoolingDegDays                    object\n",
       "Sunrise                          float64\n",
       "Sunset                           float64\n",
       "DaysWeather                       object\n",
       "Precip                            object\n",
       "Snowfall                          object\n",
       "SnowDepth                         object\n",
       "AvgStationPressure               float64\n",
       "AvgSeaLevelPressure              float64\n",
       "AvgWindSpeed                      object\n",
       "PeakWindSpeed                     object\n",
       "PeakWindDirection                 object\n",
       "SustainedWindSpeed               float64\n",
       "SustainedWindDirection           float64\n",
       "OzoneAQI                        category\n",
       "NitrogenDioxideAQI              category\n",
       "CarbonMonoxideAQI               category\n",
       "SulfurDioxideAQI                category\n",
       "O3Quality                       category\n",
       "NO2Quality                      category\n",
       "COQuality                       category\n",
       "SO2Quality                      category\n",
       "dtype: object"
      ]
     },
     "execution_count": 27,
     "metadata": {},
     "output_type": "execute_result"
    }
   ],
   "source": [
    "def AirQuality(x):\n",
    "    if 0 <= x <= 50:\n",
    "        return 'Good'\n",
    "    elif 50 < x <= 500:\n",
    "        return 'Elevated' \n",
    "\n",
    "pollution7['O3Quality'] = pollution7['O3_AQI'].apply(AirQuality)\n",
    "pollution7['NO2Quality'] = pollution7['NO2_AQI'].apply(AirQuality)\n",
    "pollution7['COQuality'] = pollution7['CO_AQI'].apply(AirQuality)\n",
    "pollution7['SO2Quality'] = pollution7['SO2_AQI'].apply(AirQuality)\n",
    "\n",
    "ordered = ['Good', 'Elevated']\n",
    "pollution7['O3Quality'] = pollution7['O3Quality'].astype('category', ordered=True,\n",
    "  categories=ordered).cat.codes\n",
    "pollution7['NO2Quality'] = pollution7['NO2Quality'].astype('category', ordered=True,\n",
    "  categories=ordered).cat.codes\n",
    "pollution7['COQuality'] = pollution7['COQuality'].astype('category', ordered=True,\n",
    "  categories=ordered).cat.codes\n",
    "pollution7['SO2Quality'] = pollution7['SO2Quality'].astype('category', ordered=True,\n",
    "  categories=ordered).cat.codes\n",
    "\n",
    "pollution7['O3Quality'] = pollution7['O3Quality'].astype('category')\n",
    "pollution7['NO2Quality'] = pollution7['NO2Quality'].astype('category')\n",
    "pollution7['COQuality'] = pollution7['COQuality'].astype('category')\n",
    "pollution7['SO2Quality'] = pollution7['SO2Quality'].astype('category')\n",
    "pollution7.dtypes"
   ]
  },
  {
   "cell_type": "code",
   "execution_count": 28,
   "metadata": {},
   "outputs": [
    {
     "data": {
      "text/plain": [
       "0    51301\n",
       "1     4772\n",
       "Name: O3Quality, dtype: int64"
      ]
     },
     "execution_count": 28,
     "metadata": {},
     "output_type": "execute_result"
    }
   ],
   "source": [
    "pollution7.O3Quality.value_counts()"
   ]
  },
  {
   "cell_type": "code",
   "execution_count": 29,
   "metadata": {},
   "outputs": [
    {
     "data": {
      "text/plain": [
       "0    48855\n",
       "1     7218\n",
       "Name: NO2Quality, dtype: int64"
      ]
     },
     "execution_count": 29,
     "metadata": {},
     "output_type": "execute_result"
    }
   ],
   "source": [
    "pollution7.NO2Quality.value_counts()"
   ]
  },
  {
   "cell_type": "code",
   "execution_count": 30,
   "metadata": {},
   "outputs": [
    {
     "data": {
      "text/plain": [
       "0    56005\n",
       "1       68\n",
       "Name: COQuality, dtype: int64"
      ]
     },
     "execution_count": 30,
     "metadata": {},
     "output_type": "execute_result"
    }
   ],
   "source": [
    "pollution7.COQuality.value_counts()"
   ]
  },
  {
   "cell_type": "code",
   "execution_count": 31,
   "metadata": {},
   "outputs": [
    {
     "data": {
      "text/plain": [
       "0    55189\n",
       "1      884\n",
       "Name: SO2Quality, dtype: int64"
      ]
     },
     "execution_count": 31,
     "metadata": {},
     "output_type": "execute_result"
    }
   ],
   "source": [
    "pollution7.SO2Quality.value_counts()"
   ]
  },
  {
   "cell_type": "markdown",
   "metadata": {},
   "source": [
    "Even with this combination of pollutant categories, the dataset is simply underpowered when it comes to elevated Carbon Monoxide levels. In over 50,000 observations, there are not enough to sufficiently power a predictive model.  The analysis going forward will focus on pollutants with a larger number of high levels observed."
   ]
  },
  {
   "cell_type": "markdown",
   "metadata": {},
   "source": [
    "#### Define outcome variables and new train/test sets"
   ]
  },
  {
   "cell_type": "code",
   "execution_count": 32,
   "metadata": {
    "collapsed": true
   },
   "outputs": [],
   "source": [
    "# Specify new outcome variables:\n",
    "y_ozq = pollution7['O3Quality']\n",
    "y_noq = pollution7['NO2Quality']\n",
    "y_soq = pollution7['SO2Quality']"
   ]
  },
  {
   "cell_type": "code",
   "execution_count": 33,
   "metadata": {
    "collapsed": true
   },
   "outputs": [],
   "source": [
    "# Set up new test and train sets\n",
    "X_train_oz, X_test_oz, y_train_oz, y_test_oz = train_test_split(normalized_X, y_ozq, test_size=0.2, random_state=42)\n",
    "X_train_no, X_test_no, y_train_no, y_test_no = train_test_split(normalized_X, y_noq, test_size=0.2, random_state=42)\n",
    "X_train_so, X_test_so, y_train_so, y_test_so = train_test_split(normalized_X, y_soq, test_size=0.2, random_state=42)"
   ]
  },
  {
   "cell_type": "code",
   "execution_count": 34,
   "metadata": {
    "collapsed": true
   },
   "outputs": [],
   "source": [
    "# Setup the regression object (no longer multinomial)\n",
    "lrcvb = LogisticRegressionCV(class_weight='balanced')"
   ]
  },
  {
   "cell_type": "markdown",
   "metadata": {},
   "source": [
    "### Logistic Regression - Ozone"
   ]
  },
  {
   "cell_type": "code",
   "execution_count": 35,
   "metadata": {},
   "outputs": [
    {
     "name": "stdout",
     "output_type": "stream",
     "text": [
      "Ozone Model Accuracy 0.789567543469\n",
      "             precision    recall  f1-score   support\n",
      "\n",
      "          0       0.98      0.78      0.87     10248\n",
      "          1       0.27      0.85      0.41       967\n",
      "\n",
      "avg / total       0.92      0.79      0.83     11215\n",
      "\n"
     ]
    }
   ],
   "source": [
    "# Fit the regression to the train set\n",
    "lrcvb.fit(X_train_oz, y_train_oz)\n",
    "# Predict the labels of the test set\n",
    "y_pred_oz = lrcvb.predict(X_test_oz)\n",
    "# Compute metrics\n",
    "print('Ozone Model Accuracy', metrics.accuracy_score(y_test_oz, y_pred_oz))\n",
    "print(metrics.classification_report(y_test_oz, y_pred_oz))"
   ]
  },
  {
   "cell_type": "code",
   "execution_count": 36,
   "metadata": {},
   "outputs": [
    {
     "data": {
      "text/plain": [
       "array([[8029, 2219],\n",
       "       [ 141,  826]])"
      ]
     },
     "execution_count": 36,
     "metadata": {},
     "output_type": "execute_result"
    }
   ],
   "source": [
    "confusion_matrix(y_test_oz, y_pred_oz)"
   ]
  },
  {
   "cell_type": "code",
   "execution_count": 37,
   "metadata": {
    "scrolled": false
   },
   "outputs": [
    {
     "data": {
      "image/png": "[encoded data removed]",
      "text/plain": [
       "<matplotlib.figure.Figure at 0x11d4d5a58>"
      ]
     },
     "metadata": {},
     "output_type": "display_data"
    },
    {
     "data": {
      "text/plain": [
       "<ggplot: (299160896)>"
      ]
     },
     "execution_count": 37,
     "metadata": {},
     "output_type": "execute_result"
    }
   ],
   "source": [
    "preds = lrcvb.predict_proba(X_test_oz)[:,1]\n",
    "fpr, tpr, _ = metrics.roc_curve(y_test_oz, preds)\n",
    "\n",
    "df = pd.DataFrame(dict(fpr=fpr, tpr=tpr))\n",
    "ggplot(df, aes(x='fpr', y='tpr')) +\\\n",
    "    geom_line() +\\\n",
    "    geom_abline(linetype='dashed') +\\\n",
    "    ggtitle(\"ROC Curve for Ozone Model\")\n"
   ]
  },
  {
   "cell_type": "code",
   "execution_count": 38,
   "metadata": {},
   "outputs": [
    {
     "name": "stdout",
     "output_type": "stream",
     "text": [
      "AUC =  0.891798041457\n"
     ]
    }
   ],
   "source": [
    "print('AUC = ', metrics.auc(fpr,tpr))"
   ]
  },
  {
   "cell_type": "markdown",
   "metadata": {},
   "source": [
    "#### Hyperparameter Tuning with GridsearchCV"
   ]
  },
  {
   "cell_type": "code",
   "execution_count": 39,
   "metadata": {},
   "outputs": [
    {
     "name": "stdout",
     "output_type": "stream",
     "text": [
      "Tuned Logistic Regression Parameters: {'C': 100}\n",
      "Best score is 0.7501827974247856\n"
     ]
    }
   ],
   "source": [
    "# Setup the hyperparameter grid\n",
    "c_space = [0.00001, 0.0001, 0.001, 0.1, 1, 10, 100]\n",
    "param_grid = {'C': c_space}\n",
    "\n",
    "# Instantiate a logistic regression classifier: logreg\n",
    "logreg = LogisticRegression(class_weight='balanced')\n",
    "\n",
    "# Instantiate the GridSearchCV object: logreg_cv\n",
    "logreg_cv = GridSearchCV(logreg, param_grid, cv=5)\n",
    "\n",
    "# Fit it to the data\n",
    "logreg_cv.fit(normalized_X, y_ozq)\n",
    "\n",
    "# Print the tuned parameters and score\n",
    "print(\"Tuned Logistic Regression Parameters: {}\".format(logreg_cv.best_params_)) \n",
    "print(\"Best score is {}\".format(logreg_cv.best_score_))"
   ]
  },
  {
   "cell_type": "code",
   "execution_count": 40,
   "metadata": {},
   "outputs": [
    {
     "name": "stdout",
     "output_type": "stream",
     "text": [
      "0.91431119037\n"
     ]
    }
   ],
   "source": [
    "clf = LogisticRegression(C=100)\n",
    "# Fit the model on the trainng data.\n",
    "clf.fit(X_train_oz, y_train_oz)\n",
    "# Print the accuracy from the testing data.\n",
    "print(accuracy_score(clf.predict(X_test_oz), y_test_oz))"
   ]
  },
  {
   "cell_type": "code",
   "execution_count": 41,
   "metadata": {},
   "outputs": [
    {
     "data": {
      "image/png": "[encoded data removed]",
      "text/plain": [
       "<matplotlib.figure.Figure at 0x121783898>"
      ]
     },
     "metadata": {},
     "output_type": "display_data"
    },
    {
     "data": {
      "text/plain": [
       "<ggplot: (-9223372036549971056)>"
      ]
     },
     "execution_count": 41,
     "metadata": {},
     "output_type": "execute_result"
    }
   ],
   "source": [
    "preds = clf.predict_proba(X_test_oz)[:,1]\n",
    "fpr, tpr, _ = metrics.roc_curve(y_test_oz, preds)\n",
    "\n",
    "df = pd.DataFrame(dict(fpr=fpr, tpr=tpr))\n",
    "ggplot(df, aes(x='fpr', y='tpr')) +\\\n",
    "    geom_line() +\\\n",
    "    geom_abline(linetype='dashed') +\\\n",
    "    ggtitle(\"ROC Curve for Ozone Model\")"
   ]
  },
  {
   "cell_type": "code",
   "execution_count": 42,
   "metadata": {},
   "outputs": [
    {
     "name": "stdout",
     "output_type": "stream",
     "text": [
      "AUC =  0.881931864325\n"
     ]
    }
   ],
   "source": [
    "print('AUC = ', metrics.auc(fpr,tpr))"
   ]
  },
  {
   "cell_type": "markdown",
   "metadata": {},
   "source": [
    "### Logistic Regression - Nitrogen Dioxide"
   ]
  },
  {
   "cell_type": "code",
   "execution_count": 43,
   "metadata": {},
   "outputs": [
    {
     "name": "stdout",
     "output_type": "stream",
     "text": [
      "Nitrogen Dioxide Model Accuracy 0.718769505127\n",
      "             precision    recall  f1-score   support\n",
      "\n",
      "          0       0.95      0.72      0.82      9798\n",
      "          1       0.27      0.74      0.40      1417\n",
      "\n",
      "avg / total       0.87      0.72      0.76     11215\n",
      "\n"
     ]
    }
   ],
   "source": [
    "# Fit the regression to the train set\n",
    "lrcvb.fit(X_train_no, y_train_no)\n",
    "# Predict the labels of the test set\n",
    "y_pred_no = lrcvb.predict(X_test_no)\n",
    "# Compute metrics\n",
    "print('Nitrogen Dioxide Model Accuracy', metrics.accuracy_score(y_test_no, y_pred_no))\n",
    "print(metrics.classification_report(y_test_no, y_pred_no))"
   ]
  },
  {
   "cell_type": "code",
   "execution_count": 44,
   "metadata": {},
   "outputs": [
    {
     "data": {
      "text/plain": [
       "array([[7006, 2792],\n",
       "       [ 362, 1055]])"
      ]
     },
     "execution_count": 44,
     "metadata": {},
     "output_type": "execute_result"
    }
   ],
   "source": [
    "confusion_matrix(y_test_no, y_pred_no)"
   ]
  },
  {
   "cell_type": "code",
   "execution_count": 45,
   "metadata": {},
   "outputs": [
    {
     "data": {
      "image/png": "[encoded data removed]",
      "text/plain": [
       "<matplotlib.figure.Figure at 0x11e28a1d0>"
      ]
     },
     "metadata": {},
     "output_type": "display_data"
    },
    {
     "data": {
      "text/plain": [
       "<ggplot: (303971918)>"
      ]
     },
     "execution_count": 45,
     "metadata": {},
     "output_type": "execute_result"
    }
   ],
   "source": [
    "preds = lrcvb.predict_proba(X_test_no)[:,1]\n",
    "fpr, tpr, _ = metrics.roc_curve(y_test_no, preds)\n",
    "\n",
    "df = pd.DataFrame(dict(fpr=fpr, tpr=tpr))\n",
    "ggplot(df, aes(x='fpr', y='tpr')) +\\\n",
    "    geom_line() +\\\n",
    "    geom_abline(linetype='dashed') +\\\n",
    "    ggtitle(\"ROC Curve for Nitrogen Dioxide Model\")"
   ]
  },
  {
   "cell_type": "code",
   "execution_count": 46,
   "metadata": {},
   "outputs": [
    {
     "name": "stdout",
     "output_type": "stream",
     "text": [
      "AUC =  0.806232797355\n"
     ]
    }
   ],
   "source": [
    "print('AUC = ', metrics.auc(fpr,tpr))"
   ]
  },
  {
   "cell_type": "markdown",
   "metadata": {},
   "source": [
    "#### Hyperparameter Tuning with GridsearchCV"
   ]
  },
  {
   "cell_type": "code",
   "execution_count": 47,
   "metadata": {},
   "outputs": [
    {
     "name": "stdout",
     "output_type": "stream",
     "text": [
      "Tuned Logistic Regression Parameters: {'C': 100}\n",
      "Best score is 0.6983039965758921\n"
     ]
    }
   ],
   "source": [
    "# Setup the hyperparameter grid\n",
    "c_space = [0.00001, 0.0001, 0.001, 0.1, 1, 10, 100]\n",
    "param_grid = {'C': c_space}\n",
    "\n",
    "# Instantiate a logistic regression classifier: logreg\n",
    "logreg = LogisticRegression(class_weight='balanced')\n",
    "\n",
    "# Instantiate the GridSearchCV object: logreg_cv\n",
    "logreg_cv = GridSearchCV(logreg, param_grid, cv=5)\n",
    "\n",
    "# Fit it to the data\n",
    "logreg_cv.fit(normalized_X, y_noq)\n",
    "\n",
    "# Print the tuned parameters and score\n",
    "print(\"Tuned Logistic Regression Parameters: {}\".format(logreg_cv.best_params_)) \n",
    "print(\"Best score is {}\".format(logreg_cv.best_score_))"
   ]
  },
  {
   "cell_type": "code",
   "execution_count": 48,
   "metadata": {},
   "outputs": [
    {
     "name": "stdout",
     "output_type": "stream",
     "text": [
      "0.878377173428\n"
     ]
    }
   ],
   "source": [
    "clf = LogisticRegression(C=100)\n",
    "# Fit the model on the trainng data.\n",
    "clf.fit(X_train_no, y_train_no)\n",
    "# Print the accuracy from the testing data.\n",
    "print(accuracy_score(clf.predict(X_test_no), y_test_no))"
   ]
  },
  {
   "cell_type": "code",
   "execution_count": 49,
   "metadata": {},
   "outputs": [
    {
     "data": {
      "image/png": "[encoded data removed]",
      "text/plain": [
       "<matplotlib.figure.Figure at 0x11e2540b8>"
      ]
     },
     "metadata": {},
     "output_type": "display_data"
    },
    {
     "data": {
      "text/plain": [
       "<ggplot: (-9223372036552564848)>"
      ]
     },
     "execution_count": 49,
     "metadata": {},
     "output_type": "execute_result"
    }
   ],
   "source": [
    "preds = clf.predict_proba(X_test_no)[:,1]\n",
    "fpr, tpr, _ = metrics.roc_curve(y_test_no, preds)\n",
    "\n",
    "df = pd.DataFrame(dict(fpr=fpr, tpr=tpr))\n",
    "ggplot(df, aes(x='fpr', y='tpr')) +\\\n",
    "    geom_line() +\\\n",
    "    geom_abline(linetype='dashed') +\\\n",
    "    ggtitle(\"ROC Curve for Nitrogen Dioxide Model\")"
   ]
  },
  {
   "cell_type": "code",
   "execution_count": 50,
   "metadata": {},
   "outputs": [
    {
     "name": "stdout",
     "output_type": "stream",
     "text": [
      "AUC =  0.791968295922\n"
     ]
    }
   ],
   "source": [
    "print('AUC = ', metrics.auc(fpr,tpr))"
   ]
  },
  {
   "cell_type": "markdown",
   "metadata": {},
   "source": [
    "### Logistic Regression - Sulfur Dioxide "
   ]
  },
  {
   "cell_type": "code",
   "execution_count": 51,
   "metadata": {},
   "outputs": [
    {
     "name": "stdout",
     "output_type": "stream",
     "text": [
      "Ozone Model Accuracy 0.73963441819\n",
      "             precision    recall  f1-score   support\n",
      "\n",
      "          0       0.99      0.74      0.85     11043\n",
      "          1       0.04      0.74      0.08       172\n",
      "\n",
      "avg / total       0.98      0.74      0.84     11215\n",
      "\n"
     ]
    }
   ],
   "source": [
    "# Fit the regression to the train set\n",
    "lrcvb.fit(X_train_so, y_train_so)\n",
    "# Predict the labels of the test set\n",
    "y_pred_so = lrcvb.predict(X_test_so)\n",
    "# Compute metrics\n",
    "print('Ozone Model Accuracy', metrics.accuracy_score(y_test_so, y_pred_so))\n",
    "print(metrics.classification_report(y_test_so, y_pred_so))"
   ]
  },
  {
   "cell_type": "code",
   "execution_count": 52,
   "metadata": {},
   "outputs": [
    {
     "data": {
      "text/plain": [
       "array([[8167, 2876],\n",
       "       [  44,  128]])"
      ]
     },
     "execution_count": 52,
     "metadata": {},
     "output_type": "execute_result"
    }
   ],
   "source": [
    "confusion_matrix(y_test_so, y_pred_so)"
   ]
  },
  {
   "cell_type": "code",
   "execution_count": 53,
   "metadata": {},
   "outputs": [
    {
     "data": {
      "image/png": "[encoded data removed]",
      "text/plain": [
       "<matplotlib.figure.Figure at 0x11efbc518>"
      ]
     },
     "metadata": {},
     "output_type": "display_data"
    },
    {
     "data": {
      "text/plain": [
       "<ggplot: (300921790)>"
      ]
     },
     "execution_count": 53,
     "metadata": {},
     "output_type": "execute_result"
    }
   ],
   "source": [
    "preds = lrcvb.predict_proba(X_test_so)[:,1]\n",
    "fpr, tpr, _ = metrics.roc_curve(y_test_so, preds)\n",
    "\n",
    "df = pd.DataFrame(dict(fpr=fpr, tpr=tpr))\n",
    "ggplot(df, aes(x='fpr', y='tpr')) +\\\n",
    "    geom_line() +\\\n",
    "    geom_abline(linetype='dashed') +\\\n",
    "    ggtitle(\"ROC Curve for Sulfur Dioxide Model\")"
   ]
  },
  {
   "cell_type": "code",
   "execution_count": 54,
   "metadata": {},
   "outputs": [
    {
     "name": "stdout",
     "output_type": "stream",
     "text": [
      "AUC =  0.805292313978\n"
     ]
    }
   ],
   "source": [
    "print('AUC = ', metrics.auc(fpr,tpr))"
   ]
  },
  {
   "cell_type": "markdown",
   "metadata": {},
   "source": [
    "#### Hyperparameter Tuning with GridsearchCV"
   ]
  },
  {
   "cell_type": "code",
   "execution_count": 55,
   "metadata": {},
   "outputs": [
    {
     "name": "stdout",
     "output_type": "stream",
     "text": [
      "Tuned Logistic Regression Parameters: {'C': 10}\n",
      "Best score is 0.6778841866852139\n"
     ]
    }
   ],
   "source": [
    "# Setup the hyperparameter grid\n",
    "c_space = [0.00001, 0.0001, 0.001, 0.1, 1, 10, 100]\n",
    "param_grid = {'C': c_space}\n",
    "\n",
    "# Instantiate a logistic regression classifier: logreg\n",
    "logreg = LogisticRegression(class_weight='balanced')\n",
    "\n",
    "# Instantiate the GridSearchCV object: logreg_cv\n",
    "logreg_cv = GridSearchCV(logreg, param_grid, cv=5)\n",
    "\n",
    "# Fit it to the data\n",
    "logreg_cv.fit(normalized_X, y_soq)\n",
    "\n",
    "# Print the tuned parameters and score\n",
    "print(\"Tuned Logistic Regression Parameters: {}\".format(logreg_cv.best_params_)) \n",
    "print(\"Best score is {}\".format(logreg_cv.best_score_))"
   ]
  },
  {
   "cell_type": "code",
   "execution_count": 56,
   "metadata": {},
   "outputs": [
    {
     "name": "stdout",
     "output_type": "stream",
     "text": [
      "0.984663397236\n"
     ]
    }
   ],
   "source": [
    "clf = LogisticRegression(C=10)\n",
    "# Fit the model on the trainng data.\n",
    "clf.fit(X_train_so, y_train_so)\n",
    "# Print the accuracy from the testing data.\n",
    "print(accuracy_score(clf.predict(X_test_so), y_test_so))"
   ]
  },
  {
   "cell_type": "code",
   "execution_count": 57,
   "metadata": {},
   "outputs": [
    {
     "data": {
      "image/png": "[encoded data removed]",
      "text/plain": [
       "<matplotlib.figure.Figure at 0x11ce5e0f0>"
      ]
     },
     "metadata": {},
     "output_type": "display_data"
    },
    {
     "data": {
      "text/plain": [
       "<ggplot: (-9223372036554295138)>"
      ]
     },
     "execution_count": 57,
     "metadata": {},
     "output_type": "execute_result"
    }
   ],
   "source": [
    "preds = clf.predict_proba(X_test_so)[:,1]\n",
    "fpr, tpr, _ = metrics.roc_curve(y_test_so, preds)\n",
    "\n",
    "df = pd.DataFrame(dict(fpr=fpr, tpr=tpr))\n",
    "ggplot(df, aes(x='fpr', y='tpr')) +\\\n",
    "    geom_line() +\\\n",
    "    geom_abline(linetype='dashed') +\\\n",
    "    ggtitle(\"ROC Curve for Sulfur Dioxide Model\")"
   ]
  },
  {
   "cell_type": "code",
   "execution_count": 58,
   "metadata": {},
   "outputs": [
    {
     "name": "stdout",
     "output_type": "stream",
     "text": [
      "AUC =  0.757218084065\n"
     ]
    }
   ],
   "source": [
    "print('AUC = ', metrics.auc(fpr,tpr))"
   ]
  },
  {
   "cell_type": "markdown",
   "metadata": {},
   "source": [
    "Normalizing the features of interest and recategorizing the outcome variables have improved the predictive power of these models.  Hyperparameter tuning did not substantially improve the accuracy of the models or ROC curve/AUC.  The next step is to determine what the most influential features are. "
   ]
  },
  {
   "cell_type": "markdown",
   "metadata": {},
   "source": [
    "## Feature Importance"
   ]
  },
  {
   "cell_type": "markdown",
   "metadata": {},
   "source": [
    "###  Recursive Feature Elimination"
   ]
  },
  {
   "cell_type": "markdown",
   "metadata": {},
   "source": [
    "Recursive feature elimination can be used to evaluate the features of greatest importance to the model.  "
   ]
  },
  {
   "cell_type": "code",
   "execution_count": 59,
   "metadata": {
    "collapsed": true
   },
   "outputs": [],
   "source": [
    "#Define the recursive feature elimination object\n",
    "rfe = RFE(lrcvb)"
   ]
  },
  {
   "cell_type": "markdown",
   "metadata": {},
   "source": [
    "### Ozone"
   ]
  },
  {
   "cell_type": "code",
   "execution_count": 60,
   "metadata": {},
   "outputs": [
    {
     "name": "stdout",
     "output_type": "stream",
     "text": [
      "Features sorted by their rank:\n",
      "[(1, 'AvgSeaLevelPressure'), (1, 'AvgStationPressure'), (1, 'SustainedWindSpeed'), (1, 'TempAvg'), (1, 'TempMax'), (2, 'TempMin'), (3, 'Sunrise'), (4, 'Sunset'), (5, 'Elevation'), (6, 'AvgRelHumid'), (7, 'AvgDewPointTemp')]\n"
     ]
    }
   ],
   "source": [
    "rfe.fit(normalized_X, y_ozq)\n",
    "print(\"Features sorted by their rank:\")\n",
    "print(sorted(zip(map(lambda x: round(x, 4), rfe.ranking_), feat_labels)))"
   ]
  },
  {
   "cell_type": "markdown",
   "metadata": {},
   "source": [
    "### Nitrogen Dioxide"
   ]
  },
  {
   "cell_type": "code",
   "execution_count": 61,
   "metadata": {},
   "outputs": [
    {
     "name": "stdout",
     "output_type": "stream",
     "text": [
      "Features sorted by their rank:\n",
      "[(1, 'AvgSeaLevelPressure'), (1, 'AvgStationPressure'), (1, 'SustainedWindSpeed'), (1, 'TempMax'), (1, 'TempMin'), (2, 'AvgDewPointTemp'), (3, 'AvgRelHumid'), (4, 'TempAvg'), (5, 'Sunset'), (6, 'Sunrise'), (7, 'Elevation')]\n"
     ]
    }
   ],
   "source": [
    "rfe.fit(normalized_X, y_noq)\n",
    "print(\"Features sorted by their rank:\")\n",
    "print(sorted(zip(map(lambda x: round(x, 4), rfe.ranking_), feat_labels)))"
   ]
  },
  {
   "cell_type": "markdown",
   "metadata": {},
   "source": [
    "### Sulfur Dioxide"
   ]
  },
  {
   "cell_type": "code",
   "execution_count": 62,
   "metadata": {},
   "outputs": [
    {
     "name": "stdout",
     "output_type": "stream",
     "text": [
      "Features sorted by their rank:\n",
      "[(1, 'AvgRelHumid'), (1, 'Elevation'), (1, 'SustainedWindSpeed'), (1, 'TempMax'), (1, 'TempMin'), (2, 'AvgSeaLevelPressure'), (3, 'Sunset'), (4, 'Sunrise'), (5, 'AvgStationPressure'), (6, 'TempAvg'), (7, 'AvgDewPointTemp')]\n"
     ]
    }
   ],
   "source": [
    "rfe.fit(normalized_X, y_soq)\n",
    "print(\"Features sorted by their rank:\")\n",
    "print(sorted(zip(map(lambda x: round(x, 4), rfe.ranking_), feat_labels)))"
   ]
  },
  {
   "cell_type": "markdown",
   "metadata": {},
   "source": [
    "The highest ranked features for each pollutant appear to be:\n",
    "* Ozone: AvgSeaLevelPressure, AvgStationPressure, SustainedWindSpeed, TempAvg and TempMax\n",
    "* Nitrogen Dioxide: AvgSeaLevelPressure, AvgStationPressure, SustainedWindSpeed, TempMax and TempMin\n",
    "* Sulfur Dioxide: AvgRelHumid, Elevation, SustainedWindSpeed, TempMax, and TempMin"
   ]
  },
  {
   "cell_type": "markdown",
   "metadata": {},
   "source": [
    "### Random Forest Classification"
   ]
  },
  {
   "cell_type": "markdown",
   "metadata": {},
   "source": [
    "For a different comparison, random forest classification was also tested to see if the same features would prove critical in a different type of model."
   ]
  },
  {
   "cell_type": "code",
   "execution_count": 63,
   "metadata": {
    "collapsed": true
   },
   "outputs": [],
   "source": [
    "clf_rf = RandomForestClassifier(n_estimators=10, random_state=12)"
   ]
  },
  {
   "cell_type": "markdown",
   "metadata": {},
   "source": [
    "#### Ozone"
   ]
  },
  {
   "cell_type": "code",
   "execution_count": 64,
   "metadata": {},
   "outputs": [
    {
     "data": {
      "text/plain": [
       "0.93437360677663839"
      ]
     },
     "execution_count": 64,
     "metadata": {},
     "output_type": "execute_result"
    }
   ],
   "source": [
    "clf_rf.fit(X_train_oz, y_train_oz)\n",
    "clf_rf.score(X_test_oz, y_test_oz)"
   ]
  },
  {
   "cell_type": "code",
   "execution_count": 65,
   "metadata": {},
   "outputs": [
    {
     "name": "stdout",
     "output_type": "stream",
     "text": [
      "('TempAvg', 0.077040274358739197)\n",
      "('TempMax', 0.19212779875039709)\n",
      "('TempMin', 0.088707063870663738)\n",
      "('Elevation', 0.070831571654457776)\n",
      "('AvgRelHumid', 0.080530483465874908)\n",
      "('AvgDewPointTemp', 0.075230286186803275)\n",
      "('Sunrise', 0.080857784249928802)\n",
      "('Sunset', 0.086731832834799211)\n",
      "('AvgStationPressure', 0.10199515661898609)\n",
      "('AvgSeaLevelPressure', 0.062155332981250769)\n",
      "('SustainedWindSpeed', 0.083792415028099129)\n"
     ]
    }
   ],
   "source": [
    "for feature in zip(feat_labels, clf_rf.feature_importances_):\n",
    "    print(feature)"
   ]
  },
  {
   "cell_type": "markdown",
   "metadata": {},
   "source": [
    "Highest ranked features: TempMax, AvgStationPressure, TempMin, Sunset, and SustainedWindSpeed"
   ]
  },
  {
   "cell_type": "markdown",
   "metadata": {},
   "source": [
    "#### Nitrogen Dioxide"
   ]
  },
  {
   "cell_type": "code",
   "execution_count": 66,
   "metadata": {},
   "outputs": [
    {
     "data": {
      "text/plain": [
       "0.8924654480606331"
      ]
     },
     "execution_count": 66,
     "metadata": {},
     "output_type": "execute_result"
    }
   ],
   "source": [
    "clf_rf.fit(X_train_no, y_train_no)\n",
    "clf_rf.score(X_test_no, y_test_no)"
   ]
  },
  {
   "cell_type": "code",
   "execution_count": 67,
   "metadata": {},
   "outputs": [
    {
     "name": "stdout",
     "output_type": "stream",
     "text": [
      "('TempAvg', 0.093088021626089007)\n",
      "('TempMax', 0.14829841443605218)\n",
      "('TempMin', 0.093493736944101374)\n",
      "('Elevation', 0.076094569009489965)\n",
      "('AvgRelHumid', 0.10366758828846967)\n",
      "('AvgDewPointTemp', 0.092527333377484672)\n",
      "('Sunrise', 0.070169907319250394)\n",
      "('Sunset', 0.07842315287060489)\n",
      "('AvgStationPressure', 0.072560916532078343)\n",
      "('AvgSeaLevelPressure', 0.064629616229876979)\n",
      "('SustainedWindSpeed', 0.10704674336650252)\n"
     ]
    }
   ],
   "source": [
    "for feature in zip(feat_labels, clf_rf.feature_importances_):\n",
    "    print(feature)"
   ]
  },
  {
   "cell_type": "markdown",
   "metadata": {},
   "source": [
    "Highest ranked features: TempAvg, TempMax, TempMin, AvgRelHumid, and SustainedWindSpeed"
   ]
  },
  {
   "cell_type": "markdown",
   "metadata": {},
   "source": [
    "#### Sulfur Dioxide"
   ]
  },
  {
   "cell_type": "code",
   "execution_count": 68,
   "metadata": {},
   "outputs": [
    {
     "data": {
      "text/plain": [
       "0.98154257690592961"
      ]
     },
     "execution_count": 68,
     "metadata": {},
     "output_type": "execute_result"
    }
   ],
   "source": [
    "clf_rf.fit(X_train_so, y_train_so)\n",
    "clf_rf.score(X_test_so, y_test_so)"
   ]
  },
  {
   "cell_type": "code",
   "execution_count": 69,
   "metadata": {},
   "outputs": [
    {
     "name": "stdout",
     "output_type": "stream",
     "text": [
      "('TempAvg', 0.10932668917330482)\n",
      "('TempMax', 0.11051082396207323)\n",
      "('TempMin', 0.098841778819401524)\n",
      "('Elevation', 0.079532505676933457)\n",
      "('AvgRelHumid', 0.087323541931335097)\n",
      "('AvgDewPointTemp', 0.10075610403355513)\n",
      "('Sunrise', 0.081862336677464717)\n",
      "('Sunset', 0.078748087021520183)\n",
      "('AvgStationPressure', 0.081727208476947755)\n",
      "('AvgSeaLevelPressure', 0.073661211347374231)\n",
      "('SustainedWindSpeed', 0.097709712880089811)\n"
     ]
    }
   ],
   "source": [
    "for feature in zip(feat_labels, clf_rf.feature_importances_):\n",
    "    print(feature)"
   ]
  },
  {
   "cell_type": "markdown",
   "metadata": {},
   "source": [
    "Highest ranked features: TempAvg, TempMax, AvgDewPointTemp, TempMin, and SustainedWindSpeed"
   ]
  },
  {
   "cell_type": "markdown",
   "metadata": {},
   "source": [
    "## Reduced Models"
   ]
  },
  {
   "cell_type": "code",
   "execution_count": 70,
   "metadata": {
    "collapsed": true
   },
   "outputs": [],
   "source": [
    "# Reduce features to a more limited model based on input from both methods of evaluating feature importance\n",
    "reduced_X_oz = pollution7[['TempMax', 'TempAvg', 'AvgStationPressure', 'SustainedWindSpeed']]\n",
    "reduced_X_no = pollution7[['TempMax', 'TempMin', 'SustainedWindSpeed', 'AvgStationPressure']]\n",
    "reduced_X_so = pollution7[['AvgRelHumid', 'Elevation', 'TempMax', 'TempMin', 'SustainedWindSpeed']]\n",
    "red_X_imp_oz = imp.fit_transform(reduced_X_oz)\n",
    "red_X_imp_no = imp.fit_transform(reduced_X_no)\n",
    "red_X_imp_so = imp.fit_transform(reduced_X_so)\n",
    "red_normalized_X_oz = preprocessing.normalize(red_X_imp_oz)\n",
    "red_normalized_X_no = preprocessing.normalize(red_X_imp_no)\n",
    "red_normalized_X_so = preprocessing.normalize(red_X_imp_so)\n",
    "X_train_oz, X_test_oz, y_train_oz, y_test_oz = train_test_split(red_normalized_X_oz, y_ozq, test_size=0.2, random_state=42)\n",
    "X_train_no, X_test_no, y_train_no, y_test_no = train_test_split(red_normalized_X_no, y_noq, test_size=0.2, random_state=42)\n",
    "X_train_so, X_test_so, y_train_so, y_test_so = train_test_split(red_normalized_X_so, y_soq, test_size=0.2, random_state=42)"
   ]
  },
  {
   "cell_type": "markdown",
   "metadata": {},
   "source": [
    "### Ozone"
   ]
  },
  {
   "cell_type": "code",
   "execution_count": 71,
   "metadata": {},
   "outputs": [
    {
     "name": "stdout",
     "output_type": "stream",
     "text": [
      "Ozone Model Accuracy 0.757735176103\n",
      "             precision    recall  f1-score   support\n",
      "\n",
      "          0       0.98      0.75      0.85     10248\n",
      "          1       0.24      0.84      0.37       967\n",
      "\n",
      "avg / total       0.92      0.76      0.81     11215\n",
      "\n"
     ]
    }
   ],
   "source": [
    "# Fit the regression to the train set\n",
    "lrcvb.fit(X_train_oz, y_train_oz)\n",
    "# Predict the labels of the test set\n",
    "y_pred_oz = lrcvb.predict(X_test_oz)\n",
    "# Compute metrics\n",
    "print('Ozone Model Accuracy', metrics.accuracy_score(y_test_oz, y_pred_oz))\n",
    "print(metrics.classification_report(y_test_oz, y_pred_oz))"
   ]
  },
  {
   "cell_type": "code",
   "execution_count": 72,
   "metadata": {},
   "outputs": [
    {
     "data": {
      "image/png": "[encoded data removed]",
      "text/plain": [
       "<matplotlib.figure.Figure at 0x1267419b0>"
      ]
     },
     "metadata": {},
     "output_type": "display_data"
    },
    {
     "data": {
      "text/plain": [
       "<ggplot: (298740982)>"
      ]
     },
     "execution_count": 72,
     "metadata": {},
     "output_type": "execute_result"
    }
   ],
   "source": [
    "preds = lrcvb.predict_proba(X_test_oz)[:,1]\n",
    "fpr, tpr, _ = metrics.roc_curve(y_test_oz, preds)\n",
    "\n",
    "df = pd.DataFrame(dict(fpr=fpr, tpr=tpr))\n",
    "ggplot(df, aes(x='fpr', y='tpr')) +\\\n",
    "    geom_line() +\\\n",
    "    geom_abline(linetype='dashed') +\\\n",
    "    ggtitle(\"ROC Curve for Ozone Model\")"
   ]
  },
  {
   "cell_type": "code",
   "execution_count": 73,
   "metadata": {},
   "outputs": [
    {
     "name": "stdout",
     "output_type": "stream",
     "text": [
      "AUC =  0.870558242454\n"
     ]
    }
   ],
   "source": [
    "print('AUC = ', metrics.auc(fpr,tpr))"
   ]
  },
  {
   "cell_type": "markdown",
   "metadata": {},
   "source": [
    "### Nitrogen Dioxide"
   ]
  },
  {
   "cell_type": "code",
   "execution_count": 74,
   "metadata": {},
   "outputs": [
    {
     "name": "stdout",
     "output_type": "stream",
     "text": [
      "Nitrogen Dioxide Model Accuracy 0.701738742755\n",
      "             precision    recall  f1-score   support\n",
      "\n",
      "          0       0.94      0.70      0.80      9798\n",
      "          1       0.25      0.69      0.37      1417\n",
      "\n",
      "avg / total       0.85      0.70      0.75     11215\n",
      "\n"
     ]
    }
   ],
   "source": [
    "# Fit the regression to the train set\n",
    "lrcvb.fit(X_train_no, y_train_no)\n",
    "# Predict the labels of the test set\n",
    "y_pred_no = lrcvb.predict(X_test_no)\n",
    "# Compute metrics\n",
    "print('Nitrogen Dioxide Model Accuracy', metrics.accuracy_score(y_test_no, y_pred_no))\n",
    "print(metrics.classification_report(y_test_no, y_pred_no))"
   ]
  },
  {
   "cell_type": "code",
   "execution_count": 75,
   "metadata": {},
   "outputs": [
    {
     "data": {
      "image/png": "[encoded data removed]",
      "text/plain": [
       "<matplotlib.figure.Figure at 0x114d9df28>"
      ]
     },
     "metadata": {},
     "output_type": "display_data"
    },
    {
     "data": {
      "text/plain": [
       "<ggplot: (290296710)>"
      ]
     },
     "execution_count": 75,
     "metadata": {},
     "output_type": "execute_result"
    }
   ],
   "source": [
    "preds = lrcvb.predict_proba(X_test_no)[:,1]\n",
    "fpr, tpr, _ = metrics.roc_curve(y_test_no, preds)\n",
    "\n",
    "df = pd.DataFrame(dict(fpr=fpr, tpr=tpr))\n",
    "ggplot(df, aes(x='fpr', y='tpr')) +\\\n",
    "    geom_line() +\\\n",
    "    geom_abline(linetype='dashed') +\\\n",
    "    ggtitle(\"ROC Curve for Nitrogen Dioxide Model\")"
   ]
  },
  {
   "cell_type": "code",
   "execution_count": 76,
   "metadata": {},
   "outputs": [
    {
     "name": "stdout",
     "output_type": "stream",
     "text": [
      "AUC =  0.75299969043\n"
     ]
    }
   ],
   "source": [
    "print('AUC = ', metrics.auc(fpr,tpr))"
   ]
  },
  {
   "cell_type": "markdown",
   "metadata": {},
   "source": [
    "## Sulfur Dioxide"
   ]
  },
  {
   "cell_type": "code",
   "execution_count": 77,
   "metadata": {},
   "outputs": [
    {
     "name": "stdout",
     "output_type": "stream",
     "text": [
      "Sulfur Dioxide Model Accuracy 0.73963441819\n",
      "             precision    recall  f1-score   support\n",
      "\n",
      "          0       0.99      0.74      0.85     11043\n",
      "          1       0.04      0.74      0.08       172\n",
      "\n",
      "avg / total       0.98      0.74      0.84     11215\n",
      "\n"
     ]
    }
   ],
   "source": [
    "# Fit the regression to the train set\n",
    "lrcvb.fit(X_train_so, y_train_so)\n",
    "# Predict the labels of the test set\n",
    "y_pred_no = lrcvb.predict(X_test_so)\n",
    "# Compute metrics\n",
    "print('Sulfur Dioxide Model Accuracy', metrics.accuracy_score(y_test_so, y_pred_so))\n",
    "print(metrics.classification_report(y_test_so, y_pred_so))"
   ]
  },
  {
   "cell_type": "code",
   "execution_count": 80,
   "metadata": {},
   "outputs": [
    {
     "data": {
      "image/png": "[encoded data removed]",
      "text/plain": [
       "<matplotlib.figure.Figure at 0x114e192e8>"
      ]
     },
     "metadata": {},
     "output_type": "display_data"
    },
    {
     "data": {
      "text/plain": [
       "<ggplot: (-9223372036564444742)>"
      ]
     },
     "execution_count": 80,
     "metadata": {},
     "output_type": "execute_result"
    }
   ],
   "source": [
    "preds = lrcvb.predict_proba(X_test_so)[:,1]\n",
    "fpr, tpr, _ = metrics.roc_curve(y_test_so, preds)\n",
    "\n",
    "df = pd.DataFrame(dict(fpr=fpr, tpr=tpr))\n",
    "ggplot(df, aes(x='fpr', y='tpr')) +\\\n",
    "    geom_line() +\\\n",
    "    geom_abline(linetype='dashed') +\\\n",
    "    ggtitle(\"ROC Curve for Sulfur Dioxide Model\")"
   ]
  },
  {
   "cell_type": "code",
   "execution_count": 79,
   "metadata": {},
   "outputs": [
    {
     "name": "stdout",
     "output_type": "stream",
     "text": [
      "AUC =  0.725929716605\n"
     ]
    }
   ],
   "source": [
    "print('AUC = ', metrics.auc(fpr,tpr))"
   ]
  },
  {
   "cell_type": "markdown",
   "metadata": {},
   "source": [
    "With a reduction from 11 to only 4-5 features, the reduced models still perform well with only a small loss in accuracy."
   ]
  }
 ],
 "metadata": {
  "kernelspec": {
   "display_name": "Python 3",
   "language": "python",
   "name": "python3"
  },
  "language_info": {
   "codemirror_mode": {
    "name": "ipython",
    "version": 3
   },
   "file_extension": ".py",
   "mimetype": "text/x-python",
   "name": "python",
   "nbconvert_exporter": "python",
   "pygments_lexer": "ipython3",
   "version": "3.6.1"
  }
 },
 "nbformat": 4,
 "nbformat_minor": 2
}
