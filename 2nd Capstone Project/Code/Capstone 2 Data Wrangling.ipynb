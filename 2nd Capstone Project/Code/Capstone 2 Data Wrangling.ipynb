{
 "cells": [
  {
   "cell_type": "markdown",
   "metadata": {},
   "source": [
    "### Import of json files with tweet data"
   ]
  },
  {
   "cell_type": "code",
   "execution_count": 1,
   "metadata": {},
   "outputs": [],
   "source": [
    "import json\n",
    "\n",
    "tweet_files = ['#NetNeutrality/#NetNeutrality_2018-01-22.json', 'net/net_2018-01-22.json', '#NetNeutrality/#NetNeutrality_2018-01-23.json', 'net/net_2018-01-23.json', '#NetNeutrality/#NetNeutrality_2018-01-24.json', 'net/net_2018-01-24.json', '#NetNeutrality/#NetNeutrality_2018-01-25.json', 'net/net_2018-01-25.json', '#NetNeutrality/#NetNeutrality_2018-01-26.json', 'net/net_2018-01-26.json', '#NetNeutrality/#NetNeutrality_2018-01-27.json', 'net/net_2018-01-27.json', '#NetNeutrality/#NetNeutrality_2018-01-28.json', 'net/net_2018-01-28.json', '#NetNeutrality/#NetNeutrality_2018-01-29.json', 'net/net_2018-01-29.json', '#NetNeutrality/#NetNeutrality_2018-01-30.json', 'net/net_2018-01-30.json', '#NetNeutrality/#NetNeutrality_2018-01-31.json', 'net/net_2018-01-31.json']\n",
    "tweets = []\n",
    "for file in tweet_files:\n",
    "    with open(file, 'r') as f:\n",
    "        for line in f.readlines():\n",
    "            tweets.append(json.loads(line))"
   ]
  },
  {
   "cell_type": "markdown",
   "metadata": {},
   "source": [
    "#### Definition of fields to be created in dataframe from json files"
   ]
  },
  {
   "cell_type": "code",
   "execution_count": 2,
   "metadata": {},
   "outputs": [],
   "source": [
    "import pandas as pd\n",
    "\n",
    "def populate_tweet_df(tweets):\n",
    "    df = pd.DataFrame()\n",
    "    df['tweet_id'] = list(map(lambda tweet: tweet['id'], tweets))                \n",
    "    df['tweet_date'] = list(map(lambda tweet: tweet['created_at'], tweets))\n",
    "    df['user_id'] = list(map(lambda tweet: tweet['user']['id'], tweets))                      \n",
    "    df['screen_name'] = list(map(lambda tweet: tweet['user']['screen_name'], tweets))                \n",
    "    df['name'] = list(map(lambda tweet: tweet['user']['name'], tweets))               \n",
    "    df['description'] = list(map(lambda tweet: tweet['user']['description'], tweets))                \n",
    "    df['text'] = list(map(lambda tweet: tweet['text'], tweets))\n",
    "    df['retweet_count'] = list(map(lambda tweet: tweet['retweet_count'], tweets))\n",
    "    df['favorite_count'] = list(map(lambda tweet: tweet['favorite_count'], tweets))               \n",
    "    df['user_location'] = list(map(lambda tweet: tweet['user']['location'] \n",
    "                        if tweet['place'] != None else '', tweets))\n",
    "    df['tweet_location'] = list(map(lambda tweet: tweet['place']['name'] \n",
    "                        if tweet['place'] != None else '', tweets))\n",
    "    df['long'] = list(map(lambda tweet: tweet['coordinates']['coordinates'][0]\n",
    "                        if tweet['coordinates'] != None else 'NaN', tweets))\n",
    "    df['latt'] = list(map(lambda tweet: tweet['coordinates']['coordinates'][1]\n",
    "                        if tweet['coordinates'] != None else 'NaN', tweets))\n",
    "    return df"
   ]
  },
  {
   "cell_type": "code",
   "execution_count": 3,
   "metadata": {},
   "outputs": [],
   "source": [
    "# Create pandas dataframe\n",
    "df = populate_tweet_df(tweets)"
   ]
  },
  {
   "cell_type": "code",
   "execution_count": 4,
   "metadata": {},
   "outputs": [
    {
     "data": {
      "text/plain": [
       "(207250, 13)"
      ]
     },
     "execution_count": 4,
     "metadata": {},
     "output_type": "execute_result"
    }
   ],
   "source": [
    "df.shape"
   ]
  },
  {
   "cell_type": "code",
   "execution_count": 5,
   "metadata": {},
   "outputs": [
    {
     "data": {
      "text/plain": [
       "190723"
      ]
     },
     "execution_count": 5,
     "metadata": {},
     "output_type": "execute_result"
    }
   ],
   "source": [
    "df.tweet_id.nunique()"
   ]
  },
  {
   "cell_type": "code",
   "execution_count": 6,
   "metadata": {},
   "outputs": [
    {
     "data": {
      "text/plain": [
       "(190723, 13)"
      ]
     },
     "execution_count": 6,
     "metadata": {},
     "output_type": "execute_result"
    }
   ],
   "source": [
    "# Remove duplicate tweets\n",
    "df = df.drop_duplicates([\"tweet_id\"])\n",
    "df.shape"
   ]
  },
  {
   "cell_type": "code",
   "execution_count": 7,
   "metadata": {},
   "outputs": [
    {
     "data": {
      "text/plain": [
       "tweet_id           int64\n",
       "tweet_date        object\n",
       "user_id            int64\n",
       "screen_name       object\n",
       "name              object\n",
       "description       object\n",
       "text              object\n",
       "retweet_count      int64\n",
       "favorite_count     int64\n",
       "user_location     object\n",
       "tweet_location    object\n",
       "long              object\n",
       "latt              object\n",
       "dtype: object"
      ]
     },
     "execution_count": 7,
     "metadata": {},
     "output_type": "execute_result"
    }
   ],
   "source": [
    "# Look at data types\n",
    "df.dtypes"
   ]
  },
  {
   "cell_type": "code",
   "execution_count": 9,
   "metadata": {},
   "outputs": [
    {
     "data": {
      "text/plain": [
       "tweet_id                   int64\n",
       "tweet_date        datetime64[ns]\n",
       "user_id                    int64\n",
       "screen_name               object\n",
       "name                      object\n",
       "description               object\n",
       "text                      object\n",
       "retweet_count              int64\n",
       "favorite_count             int64\n",
       "user_location             object\n",
       "tweet_location            object\n",
       "long                      object\n",
       "latt                      object\n",
       "dtype: object"
      ]
     },
     "execution_count": 9,
     "metadata": {},
     "output_type": "execute_result"
    }
   ],
   "source": [
    "# Convert tweet date to a datetime object\n",
    "df['tweet_date'] = pd.to_datetime(df['tweet_date'],  errors='raise')\n",
    "df.dtypes"
   ]
  },
  {
   "cell_type": "code",
   "execution_count": 10,
   "metadata": {},
   "outputs": [
    {
     "data": {
      "text/html": [
       "<div>\n",
       "<style scoped>\n",
       "    .dataframe tbody tr th:only-of-type {\n",
       "        vertical-align: middle;\n",
       "    }\n",
       "\n",
       "    .dataframe tbody tr th {\n",
       "        vertical-align: top;\n",
       "    }\n",
       "\n",
       "    .dataframe thead th {\n",
       "        text-align: right;\n",
       "    }\n",
       "</style>\n",
       "<table border=\"1\" class=\"dataframe\">\n",
       "  <thead>\n",
       "    <tr style=\"text-align: right;\">\n",
       "      <th></th>\n",
       "      <th>tweet_id</th>\n",
       "      <th>tweet_date</th>\n",
       "      <th>user_id</th>\n",
       "      <th>screen_name</th>\n",
       "      <th>name</th>\n",
       "      <th>description</th>\n",
       "      <th>text</th>\n",
       "      <th>retweet_count</th>\n",
       "      <th>favorite_count</th>\n",
       "      <th>user_location</th>\n",
       "      <th>tweet_location</th>\n",
       "      <th>long</th>\n",
       "      <th>latt</th>\n",
       "    </tr>\n",
       "  </thead>\n",
       "  <tbody>\n",
       "    <tr>\n",
       "      <th>0</th>\n",
       "      <td>955590854734958592</td>\n",
       "      <td>2018-01-22 23:59:48</td>\n",
       "      <td>813084079180709888</td>\n",
       "      <td>SamanthaRblxYT</td>\n",
       "      <td>sam🦄</td>\n",
       "      <td>I LOVE MA GURPS!! @YourLilPotato &amp; @Little_Sno...</td>\n",
       "      <td>RT @MatthewBender9: #NetNeutrality How it’s go...</td>\n",
       "      <td>1291</td>\n",
       "      <td>0</td>\n",
       "      <td></td>\n",
       "      <td></td>\n",
       "      <td>NaN</td>\n",
       "      <td>NaN</td>\n",
       "    </tr>\n",
       "    <tr>\n",
       "      <th>1</th>\n",
       "      <td>955590762271526912</td>\n",
       "      <td>2018-01-22 23:59:26</td>\n",
       "      <td>830465545275371521</td>\n",
       "      <td>margeholmes6162</td>\n",
       "      <td>Marj</td>\n",
       "      <td></td>\n",
       "      <td>RT @DeadpoolResists: Montana becomes first sta...</td>\n",
       "      <td>475</td>\n",
       "      <td>0</td>\n",
       "      <td></td>\n",
       "      <td></td>\n",
       "      <td>NaN</td>\n",
       "      <td>NaN</td>\n",
       "    </tr>\n",
       "    <tr>\n",
       "      <th>2</th>\n",
       "      <td>955590754033946634</td>\n",
       "      <td>2018-01-22 23:59:24</td>\n",
       "      <td>3246707126</td>\n",
       "      <td>AllMghtyLantern</td>\n",
       "      <td>AllMightyLantern</td>\n",
       "      <td>Lover of all things comics, games, animation, ...</td>\n",
       "      <td>RT @fightfortheftr: We are ONE VOTE AWAY from ...</td>\n",
       "      <td>839</td>\n",
       "      <td>0</td>\n",
       "      <td></td>\n",
       "      <td></td>\n",
       "      <td>NaN</td>\n",
       "      <td>NaN</td>\n",
       "    </tr>\n",
       "    <tr>\n",
       "      <th>3</th>\n",
       "      <td>955590534789124096</td>\n",
       "      <td>2018-01-22 23:58:32</td>\n",
       "      <td>786420072730333184</td>\n",
       "      <td>pyrrpro55</td>\n",
       "      <td>Pyrrhis Productions</td>\n",
       "      <td>Formerly Simulation Studios!</td>\n",
       "      <td>RT @freepress: Don't be fooled: Your activism ...</td>\n",
       "      <td>35</td>\n",
       "      <td>0</td>\n",
       "      <td></td>\n",
       "      <td></td>\n",
       "      <td>NaN</td>\n",
       "      <td>NaN</td>\n",
       "    </tr>\n",
       "    <tr>\n",
       "      <th>4</th>\n",
       "      <td>955590495950041088</td>\n",
       "      <td>2018-01-22 23:58:22</td>\n",
       "      <td>1603164476</td>\n",
       "      <td>bzaenglein</td>\n",
       "      <td>Barbara Zaenglein</td>\n",
       "      <td>#Resist #Notmypresident. #NetNeutrality #Pence...</td>\n",
       "      <td>RT @freepress: We're suing the FCC to save #Ne...</td>\n",
       "      <td>36</td>\n",
       "      <td>0</td>\n",
       "      <td></td>\n",
       "      <td></td>\n",
       "      <td>NaN</td>\n",
       "      <td>NaN</td>\n",
       "    </tr>\n",
       "  </tbody>\n",
       "</table>\n",
       "</div>"
      ],
      "text/plain": [
       "             tweet_id          tweet_date             user_id  \\\n",
       "0  955590854734958592 2018-01-22 23:59:48  813084079180709888   \n",
       "1  955590762271526912 2018-01-22 23:59:26  830465545275371521   \n",
       "2  955590754033946634 2018-01-22 23:59:24          3246707126   \n",
       "3  955590534789124096 2018-01-22 23:58:32  786420072730333184   \n",
       "4  955590495950041088 2018-01-22 23:58:22          1603164476   \n",
       "\n",
       "       screen_name                 name  \\\n",
       "0   SamanthaRblxYT                 sam🦄   \n",
       "1  margeholmes6162                 Marj   \n",
       "2  AllMghtyLantern     AllMightyLantern   \n",
       "3        pyrrpro55  Pyrrhis Productions   \n",
       "4       bzaenglein    Barbara Zaenglein   \n",
       "\n",
       "                                         description  \\\n",
       "0  I LOVE MA GURPS!! @YourLilPotato & @Little_Sno...   \n",
       "1                                                      \n",
       "2  Lover of all things comics, games, animation, ...   \n",
       "3                       Formerly Simulation Studios!   \n",
       "4  #Resist #Notmypresident. #NetNeutrality #Pence...   \n",
       "\n",
       "                                                text  retweet_count  \\\n",
       "0  RT @MatthewBender9: #NetNeutrality How it’s go...           1291   \n",
       "1  RT @DeadpoolResists: Montana becomes first sta...            475   \n",
       "2  RT @fightfortheftr: We are ONE VOTE AWAY from ...            839   \n",
       "3  RT @freepress: Don't be fooled: Your activism ...             35   \n",
       "4  RT @freepress: We're suing the FCC to save #Ne...             36   \n",
       "\n",
       "   favorite_count user_location tweet_location long latt  \n",
       "0               0                               NaN  NaN  \n",
       "1               0                               NaN  NaN  \n",
       "2               0                               NaN  NaN  \n",
       "3               0                               NaN  NaN  \n",
       "4               0                               NaN  NaN  "
      ]
     },
     "execution_count": 10,
     "metadata": {},
     "output_type": "execute_result"
    }
   ],
   "source": [
    "df.head()"
   ]
  },
  {
   "cell_type": "code",
   "execution_count": 11,
   "metadata": {},
   "outputs": [],
   "source": [
    "# Save CSV file\n",
    "df.to_csv('~/Desktop/df.csv')"
   ]
  }
 ],
 "metadata": {
  "kernelspec": {
   "display_name": "Python 3",
   "language": "python",
   "name": "python3"
  },
  "language_info": {
   "codemirror_mode": {
    "name": "ipython",
    "version": 3
   },
   "file_extension": ".py",
   "mimetype": "text/x-python",
   "name": "python",
   "nbconvert_exporter": "python",
   "pygments_lexer": "ipython3",
   "version": "3.6.1"
  }
 },
 "nbformat": 4,
 "nbformat_minor": 2
}
