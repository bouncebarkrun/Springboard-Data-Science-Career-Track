{
 "cells": [
  {
   "cell_type": "markdown",
   "metadata": {},
   "source": [
    "Text analysis of the FCC public commentary was performed in several ways. A sample of the full dataset was pulled for analysis using ~10% of the data (300,000 public comments) in the interest of analysis time. The text data was imported and processed for analysis including tokenizing and vectorizing the tweets. Kmeans clustering was used to evaluate what clusters exist in the text, which was followed by sentiment analysis.  \n",
    "\n",
    "* [Import of packages and data](#section1)\n",
    "* [Clean, Tokenize and Vectorize Text Data for Analysis](#section2)\n",
    "* [Clustering - What are the top text clusters?](#section3)\n",
    "* [Sentiment Analysis](#section4)"
   ]
  },
  {
   "cell_type": "markdown",
   "metadata": {},
   "source": [
    "<a id='section1'></a>"
   ]
  },
  {
   "cell_type": "markdown",
   "metadata": {},
   "source": [
    "### Import of Packages and Data"
   ]
  },
  {
   "cell_type": "markdown",
   "metadata": {},
   "source": [
    "#### Import needed packages"
   ]
  },
  {
   "cell_type": "code",
   "execution_count": 1,
   "metadata": {},
   "outputs": [],
   "source": [
    "import json\n",
    "import numpy as np\n",
    "import pandas as pd\n",
    "import pylab as pl\n",
    "import re\n",
    "import string\n",
    "import nltk\n",
    "from collections import Counter\n",
    "stopwords = nltk.corpus.stopwords.words('english')\n",
    "from nltk.collocations import BigramCollocationFinder, BigramAssocMeasures\n",
    "from nltk.tokenize import TweetTokenizer\n",
    "from sklearn.cluster import KMeans\n",
    "from sklearn.feature_extraction.text import TfidfVectorizer\n",
    "import matplotlib.pyplot as plt\n",
    "from sklearn.decomposition import NMF\n",
    "from gensim import corpora, models\n",
    "from nltk.stem.wordnet import WordNetLemmatizer\n",
    "from textblob import TextBlob"
   ]
  },
  {
   "cell_type": "markdown",
   "metadata": {},
   "source": [
    "#### Import and prepare FCC data"
   ]
  },
  {
   "cell_type": "code",
   "execution_count": 2,
   "metadata": {},
   "outputs": [],
   "source": [
    "fcc = pd.read_csv('~/Desktop/fcc_sample.csv', index_col='docid')"
   ]
  },
  {
   "cell_type": "code",
   "execution_count": 3,
   "metadata": {},
   "outputs": [
    {
     "data": {
      "text/plain": [
       "(300000, 2)"
      ]
     },
     "execution_count": 3,
     "metadata": {},
     "output_type": "execute_result"
    }
   ],
   "source": [
    "fcc.shape"
   ]
  },
  {
   "cell_type": "markdown",
   "metadata": {},
   "source": [
    "<a id='section2'></a>"
   ]
  },
  {
   "cell_type": "markdown",
   "metadata": {},
   "source": [
    "### Clean, Tokenize and Vectorize Text Data for Analysis"
   ]
  },
  {
   "cell_type": "code",
   "execution_count": 4,
   "metadata": {},
   "outputs": [],
   "source": [
    "text = fcc.text_data.tolist()"
   ]
  },
  {
   "cell_type": "code",
   "execution_count": 5,
   "metadata": {},
   "outputs": [],
   "source": [
    "def clean_text(text_data):\n",
    "    # Remove RT (retweet signal)\n",
    "    text_data = re.sub('RT @', '@', text_data)\n",
    "    # Remove tickers\n",
    "    text_data = re.sub(r'\\$\\w*','', text_data)\n",
    "    # Remove URLs\n",
    "    text_data = re.sub(r'https?:\\/\\/.*\\/\\w*','', text_data)\n",
    "    # Remove puncutation\n",
    "    text_data = re.sub(r'[' + string.punctuation + ']+', ' ', text_data)\n",
    "    # Tokenize text\n",
    "    tokenizer = TweetTokenizer(strip_handles=True, reduce_len=True)\n",
    "    tokens = tokenizer.tokenize(text_data)\n",
    "    # Remove stopwords and single characters\n",
    "    tokens = [i.lower() for i in tokens if i not in stopwords and len(i) > 1]\n",
    "    return tokens"
   ]
  },
  {
   "cell_type": "code",
   "execution_count": 6,
   "metadata": {},
   "outputs": [],
   "source": [
    "cleaned_text = []\n",
    "for text_data in text:\n",
    "    cleaned_text.append(clean_text(text_data))"
   ]
  },
  {
   "cell_type": "code",
   "execution_count": 7,
   "metadata": {},
   "outputs": [
    {
     "data": {
      "text/plain": [
       "(300000, 300000)"
      ]
     },
     "execution_count": 7,
     "metadata": {},
     "output_type": "execute_result"
    }
   ],
   "source": [
    "len(cleaned_text), len(fcc)"
   ]
  },
  {
   "cell_type": "code",
   "execution_count": 8,
   "metadata": {},
   "outputs": [],
   "source": [
    "fcc['cleaned_text'] = cleaned_text"
   ]
  },
  {
   "cell_type": "code",
   "execution_count": 9,
   "metadata": {},
   "outputs": [],
   "source": [
    "cleaned_texts = fcc.cleaned_text.apply(lambda x: ' '.join(x))"
   ]
  },
  {
   "cell_type": "code",
   "execution_count": 10,
   "metadata": {},
   "outputs": [],
   "source": [
    "vectorizer = TfidfVectorizer(use_idf=True, ngram_range=(1, 2))  \n",
    "transformed = vectorizer.fit_transform(cleaned_texts.values)\n",
    "features = vectorizer.get_feature_names()"
   ]
  },
  {
   "cell_type": "code",
   "execution_count": 11,
   "metadata": {},
   "outputs": [
    {
     "data": {
      "text/plain": [
       "(300000, 1051724)"
      ]
     },
     "execution_count": 11,
     "metadata": {},
     "output_type": "execute_result"
    }
   ],
   "source": [
    "transformed.shape"
   ]
  },
  {
   "cell_type": "markdown",
   "metadata": {},
   "source": [
    "<a id='section3'></a>"
   ]
  },
  {
   "cell_type": "markdown",
   "metadata": {},
   "source": [
    "### Clustering - What are the top text clusters?"
   ]
  },
  {
   "cell_type": "code",
   "execution_count": 41,
   "metadata": {},
   "outputs": [
    {
     "data": {
      "text/plain": [
       "4    97974\n",
       "1    79247\n",
       "0    56649\n",
       "3    48003\n",
       "2    18127\n",
       "Name: cluster_id, dtype: int64"
      ]
     },
     "execution_count": 41,
     "metadata": {},
     "output_type": "execute_result"
    }
   ],
   "source": [
    "n_clusters = 5\n",
    "\n",
    "kmeans = KMeans(n_clusters=n_clusters, n_jobs=-1)\n",
    "kmeans.fit(transformed)\n",
    "clusters = kmeans.labels_.tolist()\n",
    "fcc['cluster_id'] = clusters\n",
    "\n",
    "fcc.cluster_id.value_counts()"
   ]
  },
  {
   "cell_type": "code",
   "execution_count": 42,
   "metadata": {},
   "outputs": [
    {
     "name": "stdout",
     "output_type": "stream",
     "text": [
      "\n",
      "\n",
      "Top terms in cluster 0:\n",
      "\n",
      "\ttake\n",
      "\tobama\n",
      "\tinternet\n",
      "\tregulate\n",
      "\ttake internet\n",
      "\twheeler\n",
      "\tregulate internet\n",
      "\tit\n",
      "\tinternet access\n",
      "\tbroadband\n",
      "\n",
      "\n",
      "Top terms in cluster 1:\n",
      "\n",
      "\tisps\n",
      "\tpay\n",
      "\tlanes\n",
      "\tfcc\n",
      "\table\n",
      "\trules\n",
      "\tmade\n",
      "\tchairman pai\n",
      "\tpai\n",
      "\tfast\n",
      "\n",
      "\n",
      "Top terms in cluster 2:\n",
      "\n",
      "\tusers\n",
      "\tinternet\n",
      "\tinternet users\n",
      "\tthat\n",
      "\tcertain\n",
      "\tensure\n",
      "\tcreate internet\n",
      "\tright\n",
      "\tcreate\n",
      "\tprotections\n",
      "\n",
      "\n",
      "Top terms in cluster 3:\n",
      "\n",
      "\tcontrol\n",
      "\tobama\n",
      "\tcontrol internet\n",
      "\tinternet\n",
      "\tweb\n",
      "\twheeler\n",
      "\tit\n",
      "\tpower grab\n",
      "\tgrab\n",
      "\tpolicy\n",
      "\n",
      "\n",
      "Top terms in cluster 4:\n",
      "\n",
      "\tnet\n",
      "\tneutrality\n",
      "\tnet neutrality\n",
      "\ttitle\n",
      "\tstrong\n",
      "\tstrong net\n",
      "\tinternet\n",
      "\tkeep\n",
      "\tneutrality title\n",
      "\tii\n"
     ]
    }
   ],
   "source": [
    "# sort cluster centers by proximity to centroid\n",
    "centroids_order = kmeans.cluster_centers_.argsort()[:, ::-1]\n",
    "\n",
    "for i in range(n_clusters):\n",
    "    print('\\n\\nTop terms in cluster {}:\\n'.format(i))\n",
    "    for idx in centroids_order[i, :10]:\n",
    "        print('\\t{}'.format(features[idx]))"
   ]
  },
  {
   "cell_type": "markdown",
   "metadata": {},
   "source": [
    "For this dataset, the clusters seem to focus on different aspects of net neutrality. Cluster 0 appears to relate to the institution of net neutrality under former FCC Chairman Wheeler during the Obama administration. Cluster 1 covers the current chair of the FCC and the possible pay lanes ISPs could institute without net neutrality.  Cluster 2 seems to involve protections for internet users. Cluster 3 appears to be about control. And Cluster 4 is related to strong net neutrality. "
   ]
  },
  {
   "cell_type": "markdown",
   "metadata": {},
   "source": [
    "<a id='section4'></a>"
   ]
  },
  {
   "cell_type": "markdown",
   "metadata": {},
   "source": [
    "### Sentiment Analysis"
   ]
  },
  {
   "cell_type": "markdown",
   "metadata": {},
   "source": [
    "#### Sentiment Analysis using TextBlob Pattern Analyzer"
   ]
  },
  {
   "cell_type": "code",
   "execution_count": 23,
   "metadata": {},
   "outputs": [],
   "source": [
    "def get_sentiment(tweet):\n",
    "    return TextBlob(tweet).sentiment.polarity"
   ]
  },
  {
   "cell_type": "code",
   "execution_count": 24,
   "metadata": {},
   "outputs": [],
   "source": [
    "fcc['sentiment'] = fcc.cleaned_text.apply(lambda x: get_sentiment(' '.join(x)))"
   ]
  },
  {
   "cell_type": "code",
   "execution_count": 25,
   "metadata": {},
   "outputs": [],
   "source": [
    "hist, edges = np.histogram(fcc.sentiment.values, bins=np.arange(-1, 1, 0.1))"
   ]
  },
  {
   "cell_type": "code",
   "execution_count": 26,
   "metadata": {},
   "outputs": [
    {
     "data": {
      "image/png": "[encoded data removed]",
      "text/plain": [
       "<matplotlib.figure.Figure at 0x188bd37f0>"
      ]
     },
     "metadata": {},
     "output_type": "display_data"
    }
   ],
   "source": [
    "from scipy.stats import norm\n",
    "\n",
    "fig, ax = pl.subplots(figsize=(16, 9))\n",
    "fcc.sentiment.hist(ax=ax, bins=20, color='k', alpha=0.5)\n",
    "# ax.bar(edges, hist, width=width, color='k', alpha=0.5)\n",
    "ax.set_xticks(range(-1, 2))\n",
    "ax.set_xticklabels(['negative', 'neutral', 'positive'], fontsize=24)\n",
    "ax.set_ylabel('# tweets', fontsize=24)\n",
    "x = np.arange(-1, 1, 0.001)\n",
    "ax.plot(x, norm.pdf(x, 0, 0.35) * 500000, '--', linewidth=4, alpha=0.8)\n",
    "ax.vlines(0, 0, 1140000, color='r', linewidth=4, linestyle='-', alpha=0.8)\n",
    "pl.tight_layout()\n",
    "pl.show()"
   ]
  },
  {
   "cell_type": "markdown",
   "metadata": {},
   "source": [
    "#### Most Negative Comments"
   ]
  },
  {
   "cell_type": "code",
   "execution_count": 36,
   "metadata": {},
   "outputs": [
    {
     "name": "stdout",
     "output_type": "stream",
     "text": [
      "Please no, this is an awful idea which providers will take advantage of. Internet providers already have monopolies in some areas and this is against what capitalism is all for which is competition.\n",
      "\n",
      "THIS IS A TERRIBLE IDEA.\n",
      "\n",
      "Horrible decision\n",
      "\n",
      "This is outrageous. Stop infringing on our rights.\n",
      "\n",
      "We already have some of the worst service for the highest prices.\n",
      "\n",
      "Don't do it. Don't be evil. Don't sell everyone out.\n",
      "\n",
      "DO NOT let my ISP control what i see.\n",
      "this is a terrible idea.\n",
      "\n",
      "Don't pass these laws, they are a horrible idea.\n",
      "\n",
      "It is outrageous that anyone would consider this.\n",
      "\n",
      "Why would you want to limit the internet freedom? It is terrible!\n",
      "\n"
     ]
    }
   ],
   "source": [
    "for t in fcc[fcc.sentiment == fcc.sentiment.min()].text_data[:10]:\n",
    "    print(t + '\\n')"
   ]
  },
  {
   "cell_type": "markdown",
   "metadata": {},
   "source": [
    "#### Most Positive Comments"
   ]
  },
  {
   "cell_type": "code",
   "execution_count": 37,
   "metadata": {},
   "outputs": [
    {
     "name": "stdout",
     "output_type": "stream",
     "text": [
      "The internet is for all of us, to do what we want with - don't take away the best of what we have\n",
      "\n",
      "I think the internet is perfect the way it is\n",
      "\n",
      "Consumers – not internet service providers – should pick which websites and apps are best.\n",
      "\n",
      "Make the internet the best for everyone!\n",
      "\n",
      "Keep access to the internet neutral. This is the best way to ensure the people of the United States stay informed, educated and competitive in the world.\n",
      "\n",
      "This act is against the best interest of the people of the united states and is in favor of businesses and there for is a violation of the edicts the FCC was founded on.\n",
      "\n",
      "Keep the greatest learning device ever created to flourish for all.\n",
      "\n",
      "Regulations on internet providers are needed to preclude  practices that are not in the consumers/constituents best interest such as those that limit competition.\n",
      "\n",
      "If the best features of the internet are no longer mine to choose, why would I want to stay in the computing world?\n",
      "\n",
      "Keep the playing field level and investments will follow the best not the biggest\n",
      "\n"
     ]
    }
   ],
   "source": [
    "for t in fcc[fcc.sentiment == fcc.sentiment.max()].text_data[:10]:\n",
    "    print(t + '\\n')"
   ]
  },
  {
   "cell_type": "markdown",
   "metadata": {},
   "source": [
    "#### Note that in this dataset - comments to the FCC about the repeal of net neutrality - there are many positive-sentiment comments directed at supporting the repeal.  As noted in the data wrangling notebook for this project, this dataset has been noted to be heavily weighted with fake/bot posts supporting a net neutrality repeal.  These results fit with the prior findings and demonstrate the need to further investigate the text beyond simple sentiment polarity in order to understand the position of the comments."
   ]
  }
 ],
 "metadata": {
  "kernelspec": {
   "display_name": "Python 3",
   "language": "python",
   "name": "python3"
  },
  "language_info": {
   "codemirror_mode": {
    "name": "ipython",
    "version": 3
   },
   "file_extension": ".py",
   "mimetype": "text/x-python",
   "name": "python",
   "nbconvert_exporter": "python",
   "pygments_lexer": "ipython3",
   "version": "3.6.1"
  }
 },
 "nbformat": 4,
 "nbformat_minor": 2
}
