{
 "cells": [
  {
   "cell_type": "markdown",
   "metadata": {},
   "source": [
    "Text analysis of the net neutrality tweets was performed in several ways. The text data was imported and processed for analysis including tokenizing and vectorizing the tweets.  Kmeans clustering was used to evaluate what clusters exist in the text.  Topic modeling was performed using two different algorithms, followed by sentiment analysis.\n",
    "\n",
    "* [Import of packages and data](#section1)\n",
    "* [Clean, Tokenize and Vectorize Text Data for Analysis](#section2)\n",
    "* [Clustering - What are the top text clusters?](#section3)\n",
    "* [Topic Modeling - Two Algorithmic Approaches](#section4)\n",
    "* [Sentiment Analysis](#section5)"
   ]
  },
  {
   "cell_type": "markdown",
   "metadata": {},
   "source": [
    "<a id='section1'></a>"
   ]
  },
  {
   "cell_type": "markdown",
   "metadata": {},
   "source": [
    "### Import of packages and data"
   ]
  },
  {
   "cell_type": "markdown",
   "metadata": {},
   "source": [
    "#### Import needed packages"
   ]
  },
  {
   "cell_type": "code",
   "execution_count": 1,
   "metadata": {},
   "outputs": [],
   "source": [
    "import json\n",
    "import numpy as np\n",
    "import pandas as pd\n",
    "import pylab as pl\n",
    "import seaborn as sns\n",
    "import re\n",
    "import string\n",
    "import nltk\n",
    "from collections import Counter\n",
    "stopwords = nltk.corpus.stopwords.words('english')\n",
    "from nltk.collocations import BigramCollocationFinder, BigramAssocMeasures\n",
    "from nltk.tokenize import TweetTokenizer\n",
    "from sklearn.cluster import KMeans\n",
    "from sklearn.feature_extraction.text import TfidfVectorizer\n",
    "import matplotlib.pyplot as plt\n",
    "from sklearn.decomposition import NMF\n",
    "from gensim import corpora, models\n",
    "from nltk.stem.wordnet import WordNetLemmatizer\n",
    "from textblob import TextBlob\n",
    "from textblob.sentiments import NaiveBayesAnalyzer\n",
    "from collections import OrderedDict\n",
    "from gensim import corpora, models, similarities"
   ]
  },
  {
   "cell_type": "markdown",
   "metadata": {},
   "source": [
    "#### Import and prepare tweet data"
   ]
  },
  {
   "cell_type": "code",
   "execution_count": 2,
   "metadata": {},
   "outputs": [],
   "source": [
    "tweet_files = ['#NetNeutrality/#NetNeutrality_2018-01-22.json', 'net/net_2018-01-22.json', '#NetNeutrality/#NetNeutrality_2018-01-23.json', 'net/net_2018-01-23.json', '#NetNeutrality/#NetNeutrality_2018-01-24.json', 'net/net_2018-01-24.json', '#NetNeutrality/#NetNeutrality_2018-01-25.json', 'net/net_2018-01-25.json', '#NetNeutrality/#NetNeutrality_2018-01-26.json', 'net/net_2018-01-26.json', '#NetNeutrality/#NetNeutrality_2018-01-27.json', 'net/net_2018-01-27.json', '#NetNeutrality/#NetNeutrality_2018-01-28.json', 'net/net_2018-01-28.json', '#NetNeutrality/#NetNeutrality_2018-01-29.json', 'net/net_2018-01-29.json', '#NetNeutrality/#NetNeutrality_2018-01-30.json', 'net/net_2018-01-30.json', '#NetNeutrality/#NetNeutrality_2018-01-31.json', 'net/net_2018-01-31.json', '#NetNeutrality/#NetNeutrality_2018-02-01.json', 'net/net_2018-02-01.json', '#NetNeutrality/#NetNeutrality_2018-02-02.json', 'net/net_2018-02-02.json', '#NetNeutrality/#NetNeutrality_2018-02-03.json', 'net/net_2018-02-03.json', '#NetNeutrality/#NetNeutrality_2018-02-04.json', 'net/net_2018-02-04.json', '#NetNeutrality/#NetNeutrality_2018-02-05.json', 'net/net_2018-02-05.json', '#NetNeutrality/#NetNeutrality_2018-02-06.json', 'net/net_2018-02-06.json', '#NetNeutrality/#NetNeutrality_2018-02-07.json', 'net/net_2018-02-07.json', '#NetNeutrality/#NetNeutrality_2018-02-08.json', 'net/net_2018-02-08.json', '#NetNeutrality/#NetNeutrality_2018-02-09.json', 'net/net_2018-02-09.json', '#NetNeutrality/#NetNeutrality_2018-02-10.json', 'net/net_2018-02-10.json', '#NetNeutrality/#NetNeutrality_2018-02-11.json', 'net/net_2018-02-11.json', '#NetNeutrality/#NetNeutrality_2018-02-12.json', 'net/net_2018-02-12.json', '#NetNeutrality/#NetNeutrality_2018-02-13.json', 'net/net_2018-02-13.json', '#NetNeutrality/#NetNeutrality_2018-02-14.json', 'net/net_2018-02-14.json', '#NetNeutrality/#NetNeutrality_2018-02-15.json', 'net/net_2018-02-15.json', '#NetNeutrality/#NetNeutrality_2018-02-16.json', 'net/net_2018-02-16.json', '#NetNeutrality/#NetNeutrality_2018-02-16_to_2018-02-17.json', '#NetNeutrality/#NetNeutrality_2018-02-17.json', 'net/net_2018-02-17.json', '#NetNeutrality/#NetNeutrality_2018-02-18.json', 'net/net_2018-02-18.json', '#NetNeutrality/#NetNeutrality_2018-02-19.json', 'net/net_2018-02-19.json', '#NetNeutrality/#NetNeutrality_2018-02-20.json', 'net/net_2018-02-20.json', '#NetNeutrality/#NetNeutrality_2018-02-21.json', 'net/net_2018-02-21.json', '#NetNeutrality/#NetNeutrality_2018-02-22.json', 'net/net_2018-02-22.json', '#NetNeutrality/#NetNeutrality_2018-02-23.json', 'net/net_2018-02-23.json', '#NetNeutrality/#NetNeutrality_2018-02-24.json', 'net/net_2018-02-24.json', '#NetNeutrality/#NetNeutrality_2018-02-25.json', 'net/net_2018-02-25.json', '#NetNeutrality/#NetNeutrality_2018-02-26.json', 'net/net_2018-02-26.json']\n",
    "tweets = []\n",
    "for file in tweet_files:\n",
    "    with open(file, 'r') as f:\n",
    "        for line in f.readlines():\n",
    "            tweets.append(json.loads(line))"
   ]
  },
  {
   "cell_type": "code",
   "execution_count": 3,
   "metadata": {},
   "outputs": [],
   "source": [
    "def populate_tweet_df(tweets):\n",
    "    df = pd.DataFrame()\n",
    "    df['tweet_id'] = list(map(lambda tweet: tweet['id'], tweets))                \n",
    "    df['tweet_date'] = list(map(lambda tweet: tweet['created_at'], tweets))\n",
    "    df['user_id'] = list(map(lambda tweet: tweet['user']['id'], tweets))                      \n",
    "    df['screen_name'] = list(map(lambda tweet: tweet['user']['screen_name'], tweets))                \n",
    "    df['name'] = list(map(lambda tweet: tweet['user']['name'], tweets))               \n",
    "    df['description'] = list(map(lambda tweet: tweet['user']['description'], tweets))                \n",
    "    df['text'] = list(map(lambda tweet: tweet['text'], tweets))\n",
    "    df['retweet_count'] = list(map(lambda tweet: tweet['retweet_count'], tweets))\n",
    "    df['favorite_count'] = list(map(lambda tweet: tweet['favorite_count'], tweets))               \n",
    "    df['user_location'] = list(map(lambda tweet: tweet['user']['location'] \n",
    "                        if tweet['place'] != None else '', tweets))\n",
    "    df['tweet_location'] = list(map(lambda tweet: tweet['place']['full_name'] \n",
    "                        if tweet['place'] != None else '', tweets))\n",
    "    df['long'] = list(map(lambda tweet: tweet['coordinates']['coordinates'][0]\n",
    "                        if tweet['coordinates'] != None else 'NaN', tweets))\n",
    "    df['latt'] = list(map(lambda tweet: tweet['coordinates']['coordinates'][1]\n",
    "                        if tweet['coordinates'] != None else 'NaN', tweets))\n",
    "    return df"
   ]
  },
  {
   "cell_type": "code",
   "execution_count": 4,
   "metadata": {},
   "outputs": [],
   "source": [
    "df = populate_tweet_df(tweets)"
   ]
  },
  {
   "cell_type": "code",
   "execution_count": 5,
   "metadata": {},
   "outputs": [],
   "source": [
    "df = df.drop_duplicates([\"tweet_id\"])"
   ]
  },
  {
   "cell_type": "code",
   "execution_count": 6,
   "metadata": {},
   "outputs": [],
   "source": [
    "def parse_location(string):\n",
    "    if (string.split(',')[-1] == ' USA'):\n",
    "        return string.split(',')[0]\n",
    "    else:\n",
    "        return string.split(', ')[-1]\n",
    "df['state'] = df['tweet_location'].map(parse_location)"
   ]
  },
  {
   "cell_type": "code",
   "execution_count": 7,
   "metadata": {},
   "outputs": [],
   "source": [
    "statedict = {\n",
    "        'AK': 'Alaska',\n",
    "        'AL': 'Alabama',\n",
    "        'AR': 'Arkansas',\n",
    "        'AS': 'American Samoa',\n",
    "        'AZ': 'Arizona',\n",
    "        'CA': 'California',\n",
    "        'CO': 'Colorado',\n",
    "        'CT': 'Connecticut',\n",
    "        'DC': 'District of Columbia',\n",
    "        'DE': 'Delaware',\n",
    "        'FL': 'Florida',\n",
    "        'GA': 'Georgia',\n",
    "        'GU': 'Guam',\n",
    "        'HI': 'Hawaii',\n",
    "        'IA': 'Iowa',\n",
    "        'ID': 'Idaho',\n",
    "        'IL': 'Illinois',\n",
    "        'IN': 'Indiana',\n",
    "        'KS': 'Kansas',\n",
    "        'KY': 'Kentucky',\n",
    "        'LA': 'Louisiana',\n",
    "        'MA': 'Massachusetts',\n",
    "        'MD': 'Maryland',\n",
    "        'ME': 'Maine',\n",
    "        'MI': 'Michigan',\n",
    "        'MN': 'Minnesota',\n",
    "        'MO': 'Missouri',\n",
    "        'MP': 'Northern Mariana Islands',\n",
    "        'MS': 'Mississippi',\n",
    "        'MT': 'Montana',\n",
    "        'NA': 'National',\n",
    "        'NC': 'North Carolina',\n",
    "        'ND': 'North Dakota',\n",
    "        'NE': 'Nebraska',\n",
    "        'NH': 'New Hampshire',\n",
    "        'NJ': 'New Jersey',\n",
    "        'NM': 'New Mexico',\n",
    "        'NV': 'Nevada',\n",
    "        'NY': 'New York',\n",
    "        'OH': 'Ohio',\n",
    "        'OK': 'Oklahoma',\n",
    "        'OR': 'Oregon',\n",
    "        'PA': 'Pennsylvania',\n",
    "        'PR': 'Puerto Rico',\n",
    "        'RI': 'Rhode Island',\n",
    "        'SC': 'South Carolina',\n",
    "        'SD': 'South Dakota',\n",
    "        'TN': 'Tennessee',\n",
    "        'TX': 'Texas',\n",
    "        'UT': 'Utah',\n",
    "        'VA': 'Virginia',\n",
    "        'VI': 'Virgin Islands',\n",
    "        'VT': 'Vermont',\n",
    "        'WA': 'Washington',\n",
    "        'WI': 'Wisconsin',\n",
    "        'WV': 'West Virginia',\n",
    "        'WY': 'Wyoming'\n",
    "}"
   ]
  },
  {
   "cell_type": "code",
   "execution_count": 8,
   "metadata": {},
   "outputs": [],
   "source": [
    "for key, value in statedict.items():\n",
    "    df['state'] = df['state'].replace(key, value)"
   ]
  },
  {
   "cell_type": "code",
   "execution_count": 51,
   "metadata": {},
   "outputs": [],
   "source": [
    "otherlocdict = {\n",
    "        'Alberta': 'Outside US',\n",
    "        'Algarrobos': 'Outside US',\n",
    "        'Amherst Regional Middle School': 'Massachusetts',\n",
    "        'Apulia': 'Outside US',\n",
    "        'Argentina': 'Outside US',\n",
    "        'Atlanta': 'Georgia',\n",
    "        'Austria': 'Outside US',\n",
    "        'Bahamas': 'Outside US',\n",
    "        'Baja California': 'Outside US',\n",
    "        'Bangladesh': 'Outside US',\n",
    "        'Barbados': 'Outside US',\n",
    "        'Barcelona': 'Outside US',\n",
    "        'Bavaria': 'Outside US',\n",
    "        'Bayamón': 'Outside US',\n",
    "        'Belgium': 'Outside US',\n",
    "        'België': 'Outside US',\n",
    "        'Berlin': 'Outside US',\n",
    "        'Brasil': 'Outside US',\n",
    "        'Brazil': 'Outside US',\n",
    "        'British Columbia': 'Outside US',\n",
    "        'California State Capitol Building': 'California',\n",
    "        'Campania': 'Outside US',\n",
    "        'Canada': 'Outside US',\n",
    "        'Carolina Bay': 'North Carolina',\n",
    "        'Caveat': 'Outside US',\n",
    "        'Changwat Chon Buri': 'Outside US',\n",
    "        'Channel Islands Harbor Green Navigation Light': 'California',\n",
    "        'Chicago': 'Illinois',\n",
    "        'Chihuahua': 'Outside US',\n",
    "        'Chile': 'Outside US',\n",
    "        'Colombia': 'Outside US',\n",
    "        'Costa Rica': 'Outside US',\n",
    "        'Cuba': 'Outside US',\n",
    "        'Czech Republic': 'Outside US',\n",
    "        'Davao Region': 'Outside US',\n",
    "        'Denmark': 'Outside US',\n",
    "        'Deutschland': 'Outside US',\n",
    "        'Distrito Federal': 'Outside US',\n",
    "        'Dovetail Brewing': 'Illinois',\n",
    "        'Duluth MN-Superior WI': 'Minnesota',\n",
    "        'East': 'Outside US',\n",
    "        'Ecuador': 'Outside US',\n",
    "        'El Salvador': 'Outside US',\n",
    "        'England': 'Outside US',\n",
    "        'Espanya': 'Outside US',\n",
    "        'España': 'Outside US',\n",
    "        'Finland': 'Outside US',\n",
    "        'France': 'Outside US',\n",
    "        'Frankfurt Airport': 'Outside US',\n",
    "        'Germany': 'Outside US',\n",
    "        'Greece': 'Outside US',\n",
    "        'Hato Rey Sur': 'Puerto Rico',\n",
    "        'Honduras': 'Outside US',\n",
    "        'Hong Kong': 'Outside US',\n",
    "        'Hungary': 'Outside US',\n",
    "        'Iceland': 'Outside US',\n",
    "        'India': 'Outside US',\n",
    "        'Indonesia': 'Outside US',\n",
    "        'Ireland': 'Outside US',\n",
    "        'Isle of Man': 'Outside US',\n",
    "        'Israel': 'Outside US',\n",
    "        'Jamaica': 'Outside US',\n",
    "        'Kenya': 'Outside US',\n",
    "        'Kingdom of Saudi Arabia': 'Outside US',\n",
    "        'Kuala Lumpur Federal Territory': 'Outside US',\n",
    "        'Lazio': 'Outside US',\n",
    "        'Liguria': 'Outside US',\n",
    "        'Lombardia': 'Outside US',\n",
    "        'Lombardy': 'Outside US',\n",
    "        'London': 'Outside US',\n",
    "        'Los Angeles': 'California',\n",
    "        'Luxembourg': 'Outside US',\n",
    "        'Maldives': 'Outside US',\n",
    "        'Manitoba': 'Outside US',\n",
    "        'Marche': 'Outside US',\n",
    "        'Massachusetts State House': 'Massachusetts',\n",
    "        'México': 'Outside US',\n",
    "        'Morocco': 'Outside US',\n",
    "        'Mordor': 'Outside US',\n",
    "        'München': 'Outside US',\n",
    "        'National Capital Region': 'District of Columbia',\n",
    "        'Nebraska State Capitol Building': 'Nebraska',\n",
    "        'Nederland': 'Colorado',\n",
    "        'Nepal': 'Outside US',\n",
    "        'New South Wales': 'Outside US',\n",
    "        'New Zealand': 'Outside US',\n",
    "        'Newfoundland and Labrador': 'Outside US',\n",
    "        'Newseum - Knight Conference Center': 'District of Columbia',\n",
    "        'Nigeria': 'Outside US',\n",
    "        'Norge': 'Outside US',\n",
    "        'Northern Essex Community College': 'Outside US',\n",
    "        'Northern Ireland': 'Outside US',\n",
    "        'Nova Scotia': 'Outside US',\n",
    "        'Nuevo León': 'Outside US',\n",
    "        'Nürnberg': 'Outside US',\n",
    "        'Odessa High School': 'Texas',\n",
    "        'Ontario': 'Outside US',\n",
    "        'Oregon State Capitol Building': 'Oregon',\n",
    "        'Osaka': 'Outside US',\n",
    "        'Pakistan': 'Outside US',\n",
    "        'Paradise': 'Outside US',\n",
    "        \"People's Republic of China\": 'Outside US',\n",
    "        'Perlis': 'Louisiana',\n",
    "        'Piedmont': 'Outside US',\n",
    "        'Playa': 'Outside US',\n",
    "        'Poland': 'Outside US',\n",
    "        'Portland': 'Oregon',\n",
    "        'Portugal': 'Outside US',\n",
    "        'Queens': 'New York',\n",
    "        'Queensland': 'Outside US',\n",
    "        'Quintana Roo': 'Outside US',\n",
    "        'Québec': 'Outside US',\n",
    "        'Republic of Korea': 'Outside US',\n",
    "        'Republic of Mauritius': 'Outside US',\n",
    "        'Rhode Island State House': 'Rhode Island',\n",
    "        'Rochester': 'New York',\n",
    "        'Romania': 'Outside US',\n",
    "        'Russia': 'Outside US',\n",
    "        'Sacramento State': 'California',\n",
    "        'Sarawak': 'Outside US',\n",
    "        'Saskatchewan': 'Outside US',\n",
    "        'Schleswig-Holstein': 'Outside US',\n",
    "        'Schweiz': 'Outside US',\n",
    "        'Scotland': 'Outside US',\n",
    "        'Seattle': 'Washington',\n",
    "        'Selangor': 'Outside US',\n",
    "        'Singapore': 'Outside US',\n",
    "        'South Africa': 'Outside US',\n",
    "        'Spain': 'Outside US',\n",
    "        'Sri Lanka': 'Outside US',\n",
    "        'Suomi': 'Outside US',\n",
    "        'Sverige': 'Outside US',\n",
    "        'Sweden': 'Outside US',\n",
    "        'Switzerland': 'Outside US',\n",
    "        'Taiwan': 'Outside US',\n",
    "        'Tasmania': 'Outside US',\n",
    "        'Thailand': 'Outside US',\n",
    "        'The Netherlands': 'Outside US',\n",
    "        'The Urban Hive': 'California',\n",
    "        'Tokyo': 'Outside US',\n",
    "        'Tokyo 23 ward': 'Outside US',\n",
    "        'Toronto': 'Outside US',\n",
    "        'Trinidad and Tobago': 'Outside US',\n",
    "        'United Arab Emirates': 'Outside US',\n",
    "        'United Kingdom': 'Outside US',\n",
    "        'University of Glasgow': 'Outside US',\n",
    "        'University of La Verne': 'California',\n",
    "        'VCU Pocahontas Building': 'Virginia',\n",
    "        'Veneto': 'Outside US',\n",
    "        'Victoria': 'Outside US',\n",
    "        'Vintage Marina C19': 'California',\n",
    "        'Wales': 'Outside US',\n",
    "        'Washington D.C.': 'District of Columbia',\n",
    "        'Yamaguchi': 'Outside US'\n",
    "}"
   ]
  },
  {
   "cell_type": "code",
   "execution_count": 52,
   "metadata": {},
   "outputs": [],
   "source": [
    "for key, value in otherlocdict.items():\n",
    "    df['state'] = df['state'].replace(key, value)"
   ]
  },
  {
   "cell_type": "code",
   "execution_count": 12,
   "metadata": {
    "scrolled": true
   },
   "outputs": [
    {
     "data": {
      "image/png": "[encoded data removed]",
      "text/plain": [
       "<matplotlib.figure.Figure at 0x10b453e10>"
      ]
     },
     "metadata": {},
     "output_type": "display_data"
    }
   ],
   "source": [
    "# Convert tweet date to a datetime object\n",
    "df['tweet_date'] = pd.to_datetime(df['tweet_date'],  errors='raise')\n",
    "df.groupby(df['tweet_date'].dt.date).size().plot()\n",
    "plt.title('Tweets over Time')\n",
    "plt.xlabel('Date')\n",
    "plt.ylabel('Number of Tweets')\n",
    "plt.show()"
   ]
  },
  {
   "cell_type": "code",
   "execution_count": 13,
   "metadata": {},
   "outputs": [
    {
     "data": {
      "text/plain": [
       "(421316, 14)"
      ]
     },
     "execution_count": 13,
     "metadata": {},
     "output_type": "execute_result"
    }
   ],
   "source": [
    "df.shape"
   ]
  },
  {
   "cell_type": "markdown",
   "metadata": {},
   "source": [
    "<a id='section2'></a>"
   ]
  },
  {
   "cell_type": "markdown",
   "metadata": {},
   "source": [
    "### Clean, Tokenize and Vectorize Text Data for Analysis"
   ]
  },
  {
   "cell_type": "code",
   "execution_count": 14,
   "metadata": {},
   "outputs": [],
   "source": [
    "tweettext = df.text.tolist()"
   ]
  },
  {
   "cell_type": "code",
   "execution_count": 114,
   "metadata": {},
   "outputs": [],
   "source": [
    "stopwords = nltk.corpus.stopwords.words('english')\n",
    "RE_stopwords = r'\\b(?:{})\\b'.format('|'.join(stopwords))\n",
    "\n",
    "def clean_tweet(tweet):\n",
    "    # Remove RT (retweet signal)\n",
    "    tweet = re.sub('RT @', '@', tweet)\n",
    "    # Remove tickers\n",
    "    tweet = re.sub(r'\\$\\w*','', tweet)\n",
    "    # Remove URLs\n",
    "    tweet = re.sub(r'https?:\\/\\/.*\\/\\w*','', tweet)\n",
    "    # Remove puncutation\n",
    "    tweet = re.sub(r'[' + string.punctuation + ']+', ' ', tweet)\n",
    "    # Remove stopwords\n",
    "    tweet = re.sub(RE_stopwords, ' ', tweet)\n",
    "    # Tokenize text\n",
    "    tokenizer = TweetTokenizer(strip_handles=True, reduce_len=True)\n",
    "    tokens = tokenizer.tokenize(tweet)\n",
    "    # Remove stopwords and single characters\n",
    "    tokens = [i.lower() for i in tokens if i not in stopwords and len(i) > 1]\n",
    "    return tokens"
   ]
  },
  {
   "cell_type": "code",
   "execution_count": 115,
   "metadata": {},
   "outputs": [],
   "source": [
    "cleaned_tweets = []\n",
    "for tweet in tweettext:\n",
    "    cleaned_tweets.append(clean_tweet(tweet))"
   ]
  },
  {
   "cell_type": "code",
   "execution_count": 116,
   "metadata": {},
   "outputs": [
    {
     "data": {
      "text/plain": [
       "(421316, 421316)"
      ]
     },
     "execution_count": 116,
     "metadata": {},
     "output_type": "execute_result"
    }
   ],
   "source": [
    "len(cleaned_tweets), len(df)"
   ]
  },
  {
   "cell_type": "code",
   "execution_count": 117,
   "metadata": {},
   "outputs": [],
   "source": [
    "df['cleaned_text'] = cleaned_tweets"
   ]
  },
  {
   "cell_type": "code",
   "execution_count": 118,
   "metadata": {},
   "outputs": [
    {
     "data": {
      "text/html": [
       "<div>\n",
       "<style scoped>\n",
       "    .dataframe tbody tr th:only-of-type {\n",
       "        vertical-align: middle;\n",
       "    }\n",
       "\n",
       "    .dataframe tbody tr th {\n",
       "        vertical-align: top;\n",
       "    }\n",
       "\n",
       "    .dataframe thead th {\n",
       "        text-align: right;\n",
       "    }\n",
       "</style>\n",
       "<table border=\"1\" class=\"dataframe\">\n",
       "  <thead>\n",
       "    <tr style=\"text-align: right;\">\n",
       "      <th></th>\n",
       "      <th>tweet_id</th>\n",
       "      <th>tweet_date</th>\n",
       "      <th>user_id</th>\n",
       "      <th>screen_name</th>\n",
       "      <th>name</th>\n",
       "      <th>description</th>\n",
       "      <th>text</th>\n",
       "      <th>retweet_count</th>\n",
       "      <th>favorite_count</th>\n",
       "      <th>user_location</th>\n",
       "      <th>tweet_location</th>\n",
       "      <th>long</th>\n",
       "      <th>latt</th>\n",
       "      <th>state</th>\n",
       "      <th>cleaned_text</th>\n",
       "      <th>cluster_id</th>\n",
       "      <th>cluster_id2</th>\n",
       "      <th>sentiment</th>\n",
       "    </tr>\n",
       "  </thead>\n",
       "  <tbody>\n",
       "    <tr>\n",
       "      <th>170202</th>\n",
       "      <td>957667089581568000</td>\n",
       "      <td>2018-01-28 17:30:01</td>\n",
       "      <td>820187383</td>\n",
       "      <td>Britpoptarts</td>\n",
       "      <td>🔹🔷Britpoptarts🔷🔹</td>\n",
       "      <td>❝Ah, it stinks, it sucks; it's anthropological...</td>\n",
       "      <td>RT @CriticalDragon1: The folks at @BurgerKing ...</td>\n",
       "      <td>13</td>\n",
       "      <td>0</td>\n",
       "      <td></td>\n",
       "      <td></td>\n",
       "      <td>NaN</td>\n",
       "      <td>NaN</td>\n",
       "      <td></td>\n",
       "      <td>[matthewbender, netneutrality, how, going, loo...</td>\n",
       "      <td>4</td>\n",
       "      <td>0</td>\n",
       "      <td>1.0</td>\n",
       "    </tr>\n",
       "    <tr>\n",
       "      <th>41866</th>\n",
       "      <td>956228970529243136</td>\n",
       "      <td>2018-01-24 18:15:27</td>\n",
       "      <td>34497954</td>\n",
       "      <td>shafithinks</td>\n",
       "      <td>shafi saxena</td>\n",
       "      <td>Wonders. Wanders. Lingers on occasion.</td>\n",
       "      <td>@BurgerKing This delicious take on #NetNeutral...</td>\n",
       "      <td>1</td>\n",
       "      <td>24</td>\n",
       "      <td></td>\n",
       "      <td></td>\n",
       "      <td>NaN</td>\n",
       "      <td>NaN</td>\n",
       "      <td></td>\n",
       "      <td>[deadpoolresists, montana, becomes, first, sta...</td>\n",
       "      <td>4</td>\n",
       "      <td>0</td>\n",
       "      <td>1.0</td>\n",
       "    </tr>\n",
       "    <tr>\n",
       "      <th>89858</th>\n",
       "      <td>956646912916062214</td>\n",
       "      <td>2018-01-25 21:56:12</td>\n",
       "      <td>379170406</td>\n",
       "      <td>k_morton9</td>\n",
       "      <td>Kyle Morton</td>\n",
       "      <td>raleigh kid. fordham alum. analytics, podcast,...</td>\n",
       "      <td>RT @bluthquotes: It’s a wonderful restaurant! ...</td>\n",
       "      <td>71</td>\n",
       "      <td>0</td>\n",
       "      <td></td>\n",
       "      <td></td>\n",
       "      <td>NaN</td>\n",
       "      <td>NaN</td>\n",
       "      <td></td>\n",
       "      <td>[fightfortheftr, we, one, vote, away, winning,...</td>\n",
       "      <td>4</td>\n",
       "      <td>0</td>\n",
       "      <td>1.0</td>\n",
       "    </tr>\n",
       "    <tr>\n",
       "      <th>81459</th>\n",
       "      <td>956410853338820609</td>\n",
       "      <td>2018-01-25 06:18:11</td>\n",
       "      <td>256169510</td>\n",
       "      <td>donmartin76</td>\n",
       "      <td>Martin Danielsson</td>\n",
       "      <td>Father, Husband, Developer, Architect and Gene...</td>\n",
       "      <td>This is awesome: @BurgerKing explains #NetNeut...</td>\n",
       "      <td>0</td>\n",
       "      <td>0</td>\n",
       "      <td></td>\n",
       "      <td></td>\n",
       "      <td>NaN</td>\n",
       "      <td>NaN</td>\n",
       "      <td></td>\n",
       "      <td>[freepress, don, fooled, your, activism, suppo...</td>\n",
       "      <td>4</td>\n",
       "      <td>0</td>\n",
       "      <td>1.0</td>\n",
       "    </tr>\n",
       "    <tr>\n",
       "      <th>327921</th>\n",
       "      <td>966161257702346752</td>\n",
       "      <td>2018-02-21 04:02:48</td>\n",
       "      <td>42681826</td>\n",
       "      <td>AndrewRostan</td>\n",
       "      <td>Andrew Rostan</td>\n",
       "      <td>I wrote An Elegy for Amelia Johnson, one of US...</td>\n",
       "      <td>Excellent thread on defending #NetNeutrality h...</td>\n",
       "      <td>0</td>\n",
       "      <td>0</td>\n",
       "      <td></td>\n",
       "      <td></td>\n",
       "      <td>NaN</td>\n",
       "      <td>NaN</td>\n",
       "      <td></td>\n",
       "      <td>[freepress, we, suing, fcc, save, netneutralit...</td>\n",
       "      <td>4</td>\n",
       "      <td>0</td>\n",
       "      <td>1.0</td>\n",
       "    </tr>\n",
       "  </tbody>\n",
       "</table>\n",
       "</div>"
      ],
      "text/plain": [
       "                  tweet_id          tweet_date    user_id   screen_name  \\\n",
       "170202  957667089581568000 2018-01-28 17:30:01  820187383  Britpoptarts   \n",
       "41866   956228970529243136 2018-01-24 18:15:27   34497954   shafithinks   \n",
       "89858   956646912916062214 2018-01-25 21:56:12  379170406     k_morton9   \n",
       "81459   956410853338820609 2018-01-25 06:18:11  256169510   donmartin76   \n",
       "327921  966161257702346752 2018-02-21 04:02:48   42681826  AndrewRostan   \n",
       "\n",
       "                     name                                        description  \\\n",
       "170202   🔹🔷Britpoptarts🔷🔹  ❝Ah, it stinks, it sucks; it's anthropological...   \n",
       "41866        shafi saxena             Wonders. Wanders. Lingers on occasion.   \n",
       "89858         Kyle Morton  raleigh kid. fordham alum. analytics, podcast,...   \n",
       "81459   Martin Danielsson  Father, Husband, Developer, Architect and Gene...   \n",
       "327921      Andrew Rostan  I wrote An Elegy for Amelia Johnson, one of US...   \n",
       "\n",
       "                                                     text  retweet_count  \\\n",
       "170202  RT @CriticalDragon1: The folks at @BurgerKing ...             13   \n",
       "41866   @BurgerKing This delicious take on #NetNeutral...              1   \n",
       "89858   RT @bluthquotes: It’s a wonderful restaurant! ...             71   \n",
       "81459   This is awesome: @BurgerKing explains #NetNeut...              0   \n",
       "327921  Excellent thread on defending #NetNeutrality h...              0   \n",
       "\n",
       "        favorite_count user_location tweet_location long latt state  \\\n",
       "170202               0                               NaN  NaN         \n",
       "41866               24                               NaN  NaN         \n",
       "89858                0                               NaN  NaN         \n",
       "81459                0                               NaN  NaN         \n",
       "327921               0                               NaN  NaN         \n",
       "\n",
       "                                             cleaned_text  cluster_id  \\\n",
       "170202  [matthewbender, netneutrality, how, going, loo...           4   \n",
       "41866   [deadpoolresists, montana, becomes, first, sta...           4   \n",
       "89858   [fightfortheftr, we, one, vote, away, winning,...           4   \n",
       "81459   [freepress, don, fooled, your, activism, suppo...           4   \n",
       "327921  [freepress, we, suing, fcc, save, netneutralit...           4   \n",
       "\n",
       "        cluster_id2  sentiment  \n",
       "170202            0        1.0  \n",
       "41866             0        1.0  \n",
       "89858             0        1.0  \n",
       "81459             0        1.0  \n",
       "327921            0        1.0  "
      ]
     },
     "execution_count": 118,
     "metadata": {},
     "output_type": "execute_result"
    }
   ],
   "source": [
    "df.head()"
   ]
  },
  {
   "cell_type": "code",
   "execution_count": 119,
   "metadata": {},
   "outputs": [],
   "source": [
    "cleaned_texts = df.cleaned_text.apply(lambda x: ' '.join(x))"
   ]
  },
  {
   "cell_type": "code",
   "execution_count": 120,
   "metadata": {},
   "outputs": [],
   "source": [
    "vectorizer = TfidfVectorizer(use_idf=True, ngram_range=(1, 2))  \n",
    "transformed = vectorizer.fit_transform(cleaned_texts.values)\n",
    "features = vectorizer.get_feature_names()"
   ]
  },
  {
   "cell_type": "code",
   "execution_count": 121,
   "metadata": {},
   "outputs": [
    {
     "data": {
      "text/plain": [
       "(421316, 430105)"
      ]
     },
     "execution_count": 121,
     "metadata": {},
     "output_type": "execute_result"
    }
   ],
   "source": [
    "transformed.shape"
   ]
  },
  {
   "cell_type": "code",
   "execution_count": 122,
   "metadata": {},
   "outputs": [],
   "source": [
    "vectorizer2 = TfidfVectorizer(use_idf=True, ngram_range=(3,4))  \n",
    "transformed2 = vectorizer2.fit_transform(cleaned_texts.values)\n",
    "features2 = vectorizer2.get_feature_names()"
   ]
  },
  {
   "cell_type": "code",
   "execution_count": 123,
   "metadata": {},
   "outputs": [
    {
     "data": {
      "text/plain": [
       "(421316, 943102)"
      ]
     },
     "execution_count": 123,
     "metadata": {},
     "output_type": "execute_result"
    }
   ],
   "source": [
    "transformed2.shape"
   ]
  },
  {
   "cell_type": "markdown",
   "metadata": {},
   "source": [
    "##### Clean user description text also"
   ]
  },
  {
   "cell_type": "code",
   "execution_count": 206,
   "metadata": {},
   "outputs": [],
   "source": [
    "descr_text = df.description.tolist()\n",
    "cleaned_description = []\n",
    "for tweet in descr_text:\n",
    "    cleaned_description.append(clean_tweet(tweet))"
   ]
  },
  {
   "cell_type": "code",
   "execution_count": 210,
   "metadata": {},
   "outputs": [],
   "source": [
    "df['cleaned_description'] = cleaned_description\n",
    "cleaned_description = df.cleaned_description.apply(lambda x: ' '.join(x))"
   ]
  },
  {
   "cell_type": "code",
   "execution_count": 211,
   "metadata": {},
   "outputs": [],
   "source": [
    "vectorizer3 = TfidfVectorizer(use_idf=True, ngram_range=(1, 2))  \n",
    "transformed3 = vectorizer3.fit_transform(cleaned_description.values)\n",
    "features3 = vectorizer3.get_feature_names()"
   ]
  },
  {
   "cell_type": "markdown",
   "metadata": {},
   "source": [
    "<a id='section3'></a>"
   ]
  },
  {
   "cell_type": "markdown",
   "metadata": {},
   "source": [
    "### Clustering - What are the top text clusters?"
   ]
  },
  {
   "cell_type": "markdown",
   "metadata": {},
   "source": [
    "Kmeans clustering was used to identify clusters in the transformed vectorized text data with an n-gram of 1-2."
   ]
  },
  {
   "cell_type": "code",
   "execution_count": 124,
   "metadata": {},
   "outputs": [
    {
     "data": {
      "text/plain": [
       "4    351834\n",
       "0     24301\n",
       "3     20524\n",
       "1     12602\n",
       "2     12055\n",
       "Name: cluster_id, dtype: int64"
      ]
     },
     "execution_count": 124,
     "metadata": {},
     "output_type": "execute_result"
    }
   ],
   "source": [
    "n_clusters = 5\n",
    "\n",
    "kmeans = KMeans(n_clusters=n_clusters, n_jobs=1)\n",
    "kmeans.fit(transformed)\n",
    "clusters = kmeans.labels_.tolist()\n",
    "df['cluster_id'] = clusters\n",
    "\n",
    "df.cluster_id.value_counts()"
   ]
  },
  {
   "cell_type": "code",
   "execution_count": 125,
   "metadata": {},
   "outputs": [
    {
     "name": "stdout",
     "output_type": "stream",
     "text": [
      "\n",
      "\n",
      "Top terms in cluster 0:\n",
      "\n",
      "\twe whopper\n",
      "\texplain repeal\n",
      "\thow would\n",
      "\twould explain\n",
      "\tburgerking how\n",
      "\twatch video\n",
      "\twhopper watch\n",
      "\tneutrality we\n",
      "\twatch\n",
      "\thow\n",
      "\n",
      "\n",
      "Top terms in cluster 1:\n",
      "\n",
      "\tpass\n",
      "\tneed\n",
      "\twe need\n",
      "\tresolution\n",
      "\twe\n",
      "\tpermanent\n",
      "\tsenate\n",
      "\tlaw\n",
      "\tsenate resolution\n",
      "\tresolution block\n",
      "\n",
      "\n",
      "Top terms in cluster 2:\n",
      "\n",
      "\tforget close\n",
      "\tcant forget\n",
      "\tlessened last\n",
      "\tmonths cant\n",
      "\tlessened\n",
      "\tcoverage lessened\n",
      "\tnetneutrality coverage\n",
      "\tlast couple\n",
      "\tthough netneutrality\n",
      "\tcouple months\n",
      "\n",
      "\n",
      "Top terms in cluster 3:\n",
      "\n",
      "\tnra\n",
      "\tnra position\n",
      "\tmattyglesias why\n",
      "\tposition net\n",
      "\tmattyglesias\n",
      "\twhy nra\n",
      "\tposition\n",
      "\tneutrality regulations\n",
      "\tregulations\n",
      "\twhy\n",
      "\n",
      "\n",
      "Top terms in cluster 4:\n",
      "\n",
      "\tnet\n",
      "\tneutrality\n",
      "\tnet neutrality\n",
      "\tnetneutrality\n",
      "\tfcc\n",
      "\tthe\n",
      "\tinternet\n",
      "\tstate\n",
      "\tmontana\n",
      "\trepeal\n"
     ]
    }
   ],
   "source": [
    "# sort cluster centers by proximity to centroid\n",
    "centroids_order = kmeans.cluster_centers_.argsort()[:, ::-1]\n",
    "\n",
    "for i in range(n_clusters):\n",
    "    print('\\n\\nTop terms in cluster {}:\\n'.format(i))\n",
    "    for idx in centroids_order[i, :10]:\n",
    "        print('\\t{}'.format(features[idx]))"
   ]
  },
  {
   "cell_type": "markdown",
   "metadata": {},
   "source": [
    "The clusters do appear to focus on slightly different issues around net neutrality.  Cluster 0 is about the Burger King commercial, Cluster 1 the need for permanent resolution to the net neutrality repeal via the Senate, Cluster 2 the risk of decreased coverage without net neutrality, Cluster 3 the NRA and government regulation, and Cluster 4 generally net neutrality and the Montana executive order protecting it."
   ]
  },
  {
   "cell_type": "markdown",
   "metadata": {},
   "source": [
    "#### Repeat clustering with different n-gram range in vectorizer"
   ]
  },
  {
   "cell_type": "markdown",
   "metadata": {},
   "source": [
    "Clustering was repeated with an n-gram range of 3-4."
   ]
  },
  {
   "cell_type": "code",
   "execution_count": 126,
   "metadata": {},
   "outputs": [
    {
     "data": {
      "text/plain": [
       "0    358061\n",
       "4     24285\n",
       "3     21883\n",
       "1     10694\n",
       "2      6393\n",
       "Name: cluster_id2, dtype: int64"
      ]
     },
     "execution_count": 126,
     "metadata": {},
     "output_type": "execute_result"
    }
   ],
   "source": [
    "n_clusters = 5\n",
    "\n",
    "kmeans2 = KMeans(n_clusters=n_clusters, n_jobs=1)\n",
    "kmeans2.fit(transformed2)\n",
    "clusters2 = kmeans2.labels_.tolist()\n",
    "df['cluster_id2'] = clusters2\n",
    "\n",
    "df.cluster_id2.value_counts()"
   ]
  },
  {
   "cell_type": "code",
   "execution_count": 127,
   "metadata": {},
   "outputs": [
    {
     "name": "stdout",
     "output_type": "stream",
     "text": [
      "\n",
      "\n",
      "Top terms in cluster 0:\n",
      "\n",
      "\tsigned executive order\n",
      "\tnet neutrality rules\n",
      "\tnet neutrality repeal\n",
      "\texecutive order mandating\n",
      "\tsigned executive order mandating\n",
      "\tinternet service providers\n",
      "\tcared net neutrality\n",
      "\tbecomes first state\n",
      "\tmontana becomes first\n",
      "\tmontana becomes first state\n",
      "\n",
      "\n",
      "Top terms in cluster 1:\n",
      "\n",
      "\ttouch overwhelming majority americans\n",
      "\ttouch overwhelming majority\n",
      "\tcould touch overwhelming\n",
      "\tcould touch overwhelming majority\n",
      "\toverwhelming majority americans turns\n",
      "\tnra could touch overwhelming\n",
      "\tmajority americans turns\n",
      "\tnra could touch\n",
      "\tthought nra could\n",
      "\tthought nra could touch\n",
      "\n",
      "\n",
      "Top terms in cluster 2:\n",
      "\n",
      "\tthe government take away\n",
      "\tthe government take\n",
      "\tgovernment take away\n",
      "\tgovernment take away net\n",
      "\tjackedyotweets the government\n",
      "\tjackedyotweets the government take\n",
      "\taway net neutrality guns\n",
      "\tnet neutrality guns\n",
      "\ttake away net neutrality\n",
      "\ttake away net\n",
      "\n",
      "\n",
      "Top terms in cluster 3:\n",
      "\n",
      "\twhy nra position net\n",
      "\twhy nra position\n",
      "\tmattyglesias why nra\n",
      "\tmattyglesias why nra position\n",
      "\tposition net neutrality regulations\n",
      "\tnra position net neutrality\n",
      "\tnra position net\n",
      "\tposition net neutrality\n",
      "\tnet neutrality regulations\n",
      "\tlessened last couple months\n",
      "\n",
      "\n",
      "Top terms in cluster 4:\n",
      "\n",
      "\twe whopper watch video\n",
      "\tneutrality we whopper watch\n",
      "\twe whopper watch\n",
      "\tnet neutrality we whopper\n",
      "\tneutrality we whopper\n",
      "\twhopper watch video\n",
      "\twould explain repeal net\n",
      "\texplain repeal net\n",
      "\texplain repeal net neutrality\n",
      "\trepeal net neutrality we\n"
     ]
    }
   ],
   "source": [
    "# sort cluster centers by proximity to centroid\n",
    "centroids_order2 = kmeans2.cluster_centers_.argsort()[:, ::-1]\n",
    "\n",
    "for i in range(n_clusters):\n",
    "    print('\\n\\nTop terms in cluster {}:\\n'.format(i))\n",
    "    for idx in centroids_order2[i, :10]:\n",
    "        print('\\t{}'.format(features2[idx]))"
   ]
  },
  {
   "cell_type": "markdown",
   "metadata": {},
   "source": [
    "With the larger n-grams, the clusters remain similar, if shifted in order.  Cluster 0 is about Montana being the first state to sign an executive order protecting net neutrality, Cluster 1 the NRA and the issue affecting the majority of Americans, Cluster 2 the government taking away rights/guns, Cluster 3 lessened coverage and regulations as well as the NRA's position on the topic (recently highlighted when the NRA gifted a rifle to the FCC chair as thanks for repealing net neutrality), and Cluster 4 the Burker King commercial.\n",
    "\n",
    "With a larger n-gram range the clusters are easier to understand the topics."
   ]
  },
  {
   "cell_type": "markdown",
   "metadata": {},
   "source": [
    "##### Perform same cluster analysis on tweet user descriptions"
   ]
  },
  {
   "cell_type": "code",
   "execution_count": 216,
   "metadata": {},
   "outputs": [
    {
     "data": {
      "text/plain": [
       "2    387886\n",
       "1     22673\n",
       "3      6526\n",
       "0      2236\n",
       "4      1995\n",
       "Name: cluster_id3, dtype: int64"
      ]
     },
     "execution_count": 216,
     "metadata": {},
     "output_type": "execute_result"
    }
   ],
   "source": [
    "n_clusters = 5\n",
    "\n",
    "kmeans3 = KMeans(n_clusters=n_clusters, n_jobs=1)\n",
    "kmeans3.fit(transformed3)\n",
    "clusters3 = kmeans3.labels_.tolist()\n",
    "df['cluster_id3'] = clusters3\n",
    "\n",
    "df.cluster_id3.value_counts()"
   ]
  },
  {
   "cell_type": "code",
   "execution_count": 217,
   "metadata": {},
   "outputs": [
    {
     "name": "stdout",
     "output_type": "stream",
     "text": [
      "\n",
      "\n",
      "Top terms in cluster 0:\n",
      "\n",
      "\teverywhere free\n",
      "\tbag hopped\n",
      "\tboudoir photographer\n",
      "\tfacts submitted\n",
      "\tagile givefirst\n",
      "\teverybodys instant\n",
      "\texperienced criminal\n",
      "\tconcerts second\n",
      "\tevery move\n",
      "\tboth bite\n",
      "\n",
      "\n",
      "Top terms in cluster 1:\n",
      "\n",
      "\tcrash new\n",
      "\tcolozones\n",
      "\teverything teamxsupport\n",
      "\tdelle veritànascoste\n",
      "\teverything imaginable\n",
      "\tcreepy things\n",
      "\tdifference part\n",
      "\tcats cute\n",
      "\tdifferent news\n",
      "\tdellemc survivor\n",
      "\n",
      "\n",
      "Top terms in cluster 2:\n",
      "\n",
      "\tbeer the\n",
      "\talexsmith\n",
      "\tcenter viewpoint\n",
      "\tcoach cyclist\n",
      "\tcenter uw\n",
      "\tanti ableism\n",
      "\tcomics nerds\n",
      "\tcatalyst agent\n",
      "\temail inquiries\n",
      "\tanswers plenty\n",
      "\n",
      "\n",
      "Top terms in cluster 3:\n",
      "\n",
      "\tconsultores derecho\n",
      "\tcontact 7506625808\n",
      "\tchuckle umkcathletics\n",
      "\tculture occasionally\n",
      "\tchubbyfur gaymer\n",
      "\texpert play\n",
      "\tculture musical\n",
      "\tcomputers jeeps\n",
      "\tde ses\n",
      "\texpert discipline\n",
      "\n",
      "\n",
      "Top terms in cluster 4:\n",
      "\n",
      "\tcome peace\n",
      "\tcommunity former\n",
      "\tcomeback rest\n",
      "\tcomenta 10\n",
      "\tbaseball british\n",
      "\teducated technically\n",
      "\tbsentrepreneurship student\n",
      "\tdpo\n",
      "\tcnn tlc\n",
      "\tdecibels average\n"
     ]
    }
   ],
   "source": [
    "# sort cluster centers by proximity to centroid\n",
    "centroids_order3 = kmeans3.cluster_centers_.argsort()[:, ::-1]\n",
    "\n",
    "for i in range(n_clusters):\n",
    "    print('\\n\\nTop terms in cluster {}:\\n'.format(i))\n",
    "    for idx in centroids_order[i, :10]:\n",
    "        print('\\t{}'.format(features3[idx]))"
   ]
  },
  {
   "cell_type": "markdown",
   "metadata": {},
   "source": [
    "The text clusters from Twitter user descriptions aren't especially helpful to analyze. They cluster as the random assortment they appear to be. "
   ]
  },
  {
   "cell_type": "markdown",
   "metadata": {},
   "source": [
    "<a id='section4'></a>"
   ]
  },
  {
   "cell_type": "markdown",
   "metadata": {},
   "source": [
    "### Topic Modeling - Two Algorithmic Approaches"
   ]
  },
  {
   "cell_type": "markdown",
   "metadata": {},
   "source": [
    "Topic modeling of the text was performed using two different algorithms - LDA and NMF.  The difference between the two has been described as, \"[LDA is based on probabilistic graphical modeling while NMF relies on linear algebra](https://medium.com/mlreview/topic-modeling-with-scikit-learn-e80d33668730).\" "
   ]
  },
  {
   "cell_type": "markdown",
   "metadata": {},
   "source": [
    "#### LDA (Latent Dirichlet Allocation) Models"
   ]
  },
  {
   "cell_type": "code",
   "execution_count": 128,
   "metadata": {},
   "outputs": [],
   "source": [
    "lemma = WordNetLemmatizer()\n",
    "\n",
    "def lemmatize(text):\n",
    "    return ' '.join(lemma.lemmatize(word) for word in text.split())\n",
    "\n",
    "texts = [text for text in cleaned_texts.values if len(text) > 1]\n",
    "lemmatized_texts = [lemmatize(text).split() for text in texts]"
   ]
  },
  {
   "cell_type": "code",
   "execution_count": 129,
   "metadata": {},
   "outputs": [],
   "source": [
    "dictionary = corpora.Dictionary(lemmatized_texts)\n",
    "terms_matrix = [dictionary.doc2bow(doc) for doc in lemmatized_texts]"
   ]
  },
  {
   "cell_type": "code",
   "execution_count": 130,
   "metadata": {},
   "outputs": [],
   "source": [
    "ldamodel = models.ldamodel.LdaModel(\n",
    "    terms_matrix, num_topics=10, id2word=dictionary, passes=5)"
   ]
  },
  {
   "cell_type": "code",
   "execution_count": 131,
   "metadata": {},
   "outputs": [
    {
     "name": "stdout",
     "output_type": "stream",
     "text": [
      "Top terms in topic 0: \n",
      "['netneutrality', 'why', 'we', 'need', 'mattyglesias', 'overwhelming', 'resolution', 'pas', 'not', 'one']\n",
      "Top terms in topic 1: \n",
      "['day', 'vote', 'netneutrality', 'protest', 'trump', 'askapache', '27', 'co', 'red', 'daca']\n",
      "Top terms in topic 2: \n",
      "['internet', 'the', 'amp', 'big', 'free', 'only', 'mandating', 'netneutrality', 'thing', 'community']\n",
      "Top terms in topic 3: \n",
      "['touch', 'award', 'officially', 'scott', 'would', 'netneutrality', 'mean', 'affect', 'live', 'started']\n",
      "Top terms in topic 4: \n",
      "['net', 'neutrality', 'ra', 'end', 'phil', 'do', 'neutra', 'get', 'see', 'week']\n",
      "Top terms in topic 5: \n",
      "['net', 'neutrality', 'fcc', 'repeal', 'just', 'majority', 'pai', 'courage', 'cable', 'the']\n",
      "Top terms in topic 6: \n",
      "['regulation', 'position', 'onemorevote', 'tedlieu', 'senate', 'turn', 'block', 'the', 'repealing', 'fire']\n",
      "Top terms in topic 7: \n",
      "['join', 'state', 'fcc', 'neutrality', 'net', 'order', 'rule', 'fight', 'governor', 'executive']\n",
      "Top terms in topic 8: \n",
      "['nra', 'could', 'rifle', 'online', 'chair', 'heston', 'charlton', 'handmade', 'overseeing', 'away']\n",
      "Top terms in topic 9: \n",
      "['american', 'thought', 'dead', 'yet', 'massive', 'chairman', 'receives', 'kylegriffin', 'give', 'that']\n"
     ]
    }
   ],
   "source": [
    "for topic in ldamodel.show_topics(num_topics=10, formatted=False, num_words=10):\n",
    "    print(\"Top terms in topic {}: \".format(topic[0]))\n",
    "    words = [w for (w, val) in topic[1]]\n",
    "    print(words)"
   ]
  },
  {
   "cell_type": "markdown",
   "metadata": {},
   "source": [
    "The terms can be mapped against each other on a heatmap to visualize overlap of terms and these topic clusters."
   ]
  },
  {
   "cell_type": "code",
   "execution_count": 132,
   "metadata": {},
   "outputs": [],
   "source": [
    "tfidf = models.TfidfModel(terms_matrix)\n",
    "corpus_tfidf = tfidf[terms_matrix]\n",
    "corpus_lda = ldamodel[corpus_tfidf]\n",
    "total_topics = 5"
   ]
  },
  {
   "cell_type": "code",
   "execution_count": 133,
   "metadata": {},
   "outputs": [],
   "source": [
    "data_lda = {i: OrderedDict(ldamodel.show_topic(i,15)) for i in range(total_topics)}"
   ]
  },
  {
   "cell_type": "code",
   "execution_count": 134,
   "metadata": {},
   "outputs": [
    {
     "name": "stdout",
     "output_type": "stream",
     "text": [
      "(71, 5)\n",
      "(5, 71)\n"
     ]
    }
   ],
   "source": [
    "df_lda = pd.DataFrame(data_lda)\n",
    "print(df_lda.shape)\n",
    "df_lda = df_lda.fillna(0).T\n",
    "print(df_lda.shape)"
   ]
  },
  {
   "cell_type": "code",
   "execution_count": 135,
   "metadata": {},
   "outputs": [
    {
     "name": "stderr",
     "output_type": "stream",
     "text": [
      "/Users/mollymcnamara/anaconda/lib/python3.6/site-packages/matplotlib/cbook/deprecation.py:106: MatplotlibDeprecationWarning: The axisbg attribute was deprecated in version 2.0. Use facecolor instead.\n",
      "  warnings.warn(message, mplDeprecation, stacklevel=1)\n",
      "/Users/mollymcnamara/anaconda/lib/python3.6/site-packages/seaborn/matrix.py:143: DeprecationWarning: elementwise == comparison failed; this will raise an error in the future.\n",
      "  if xticklabels == []:\n",
      "/Users/mollymcnamara/anaconda/lib/python3.6/site-packages/seaborn/matrix.py:151: DeprecationWarning: elementwise == comparison failed; this will raise an error in the future.\n",
      "  if yticklabels == []:\n"
     ]
    },
    {
     "data": {
      "image/png": "[encoded data removed]",
      "text/plain": [
       "<matplotlib.figure.Figure at 0x31b824f28>"
      ]
     },
     "metadata": {},
     "output_type": "display_data"
    }
   ],
   "source": [
    "g=sns.clustermap(df_lda.corr(), center=0, cmap=\"RdBu\", metric='cosine', linewidths=.75, figsize=(12, 12))\n",
    "plt.setp(g.ax_heatmap.yaxis.get_majorticklabels(), rotation=0)\n",
    "plt.show()"
   ]
  },
  {
   "cell_type": "markdown",
   "metadata": {},
   "source": [
    "Showing the top terms from the LDA model topics on a heatmap demonstrates how relatively contained each topic is to itself with little crossover."
   ]
  },
  {
   "cell_type": "markdown",
   "metadata": {},
   "source": [
    "#### NMF (Non-negative Matrix Factorization) Model"
   ]
  },
  {
   "cell_type": "code",
   "execution_count": 136,
   "metadata": {},
   "outputs": [],
   "source": [
    "def display_topics(model, feature_names, no_top_words):\n",
    "    for topic_idx, topic in enumerate(model.components_):\n",
    "        print(\"Topic %d:\" % (topic_idx))\n",
    "        print(\" \".join([feature_names[i]\n",
    "                        for i in topic.argsort()[:-no_top_words - 1:-1]]))\n",
    "no_features = 1000\n",
    "no_topics = 10\n",
    "no_top_words = 10"
   ]
  },
  {
   "cell_type": "markdown",
   "metadata": {},
   "source": [
    "##### NMF model using the 1, 2 ngrams transformed text"
   ]
  },
  {
   "cell_type": "code",
   "execution_count": 137,
   "metadata": {},
   "outputs": [],
   "source": [
    "nmf = NMF(n_components=no_topics, random_state=1, alpha=.1, l1_ratio=.5, init='nndsvd').fit(transformed)"
   ]
  },
  {
   "cell_type": "code",
   "execution_count": 138,
   "metadata": {},
   "outputs": [
    {
     "name": "stdout",
     "output_type": "stream",
     "text": [
      "Topic 0:\n",
      "how would would explain explain repeal we whopper burgerking how watch video whopper watch neutrality we watch how\n",
      "Topic 1:\n",
      "forget close months cant lessened last cant forget coverage lessened lessened netneutrality coverage last couple though netneutrality couple months\n",
      "Topic 2:\n",
      "nra touch overwhelming americans turns could touch nra could tedlieu just nra ra turns nra just thought thought nra\n",
      "Topic 3:\n",
      "nra position mattyglesias why position net mattyglesias why nra position neutrality regulations regulations why nra\n",
      "Topic 4:\n",
      "government take jackedyotweets the jackedyotweets neutrality guns away net the government guns take away away government\n",
      "Topic 5:\n",
      "executive order signed executive executive signed order mandating mandating order kylegriffin montana democratic service providers\n",
      "Topic 6:\n",
      "neutrality net neutrality net fcc thehill state first state first montana montana becomes\n",
      "Topic 7:\n",
      "pass we need need resolution netneutrality we senate resolution onemorevote pass need onemorevote pass senate\n",
      "Topic 8:\n",
      "charlton heston charlton heston chairman ajit fire award handmade rifle nra charlton courage under handmade fcc chairman\n",
      "Topic 9:\n",
      "cared net cared everyone cared blessedzvy remember blessedzvy remember everyone remember everyone net neutrality neutrality\n"
     ]
    }
   ],
   "source": [
    "display_topics(nmf, features, no_top_words)"
   ]
  },
  {
   "cell_type": "markdown",
   "metadata": {},
   "source": [
    "##### NMF model using the 3, 4 ngrams transformed text"
   ]
  },
  {
   "cell_type": "code",
   "execution_count": 186,
   "metadata": {},
   "outputs": [],
   "source": [
    "nmf2 = NMF(n_components=no_topics, random_state=1, alpha=.1, l1_ratio=.5, init='nndsvd').fit(transformed2)"
   ]
  },
  {
   "cell_type": "code",
   "execution_count": 188,
   "metadata": {},
   "outputs": [
    {
     "name": "stdout",
     "output_type": "stream",
     "text": [
      "Topic 0:\n",
      "neutrality we whopper watch we whopper watch video we whopper watch net neutrality we whopper neutrality we whopper would explain repeal net explain repeal net explain repeal net neutrality whopper watch video repeal net neutrality we\n",
      "Topic 1:\n",
      "though netneutrality coverage cant forget close months cant forget though netneutrality coverage lessened lessened last couple months lessened last couple couple months cant couple months cant forget coverage lessened last coverage lessened last couple\n",
      "Topic 2:\n",
      "touch overwhelming majority americans touch overwhelming majority could touch overwhelming could touch overwhelming majority overwhelming majority americans turns nra could touch overwhelming majority americans turns nra could touch thought nra could thought nra could touch\n",
      "Topic 3:\n",
      "why nra position why nra position net mattyglesias why nra position mattyglesias why nra position net neutrality regulations nra position net neutrality nra position net position net neutrality net neutrality regulations enacts net neutrality regulations\n",
      "Topic 4:\n",
      "the government take away the government take government take away net government take away jackedyotweets the government jackedyotweets the government take away net neutrality guns net neutrality guns take away net take away net neutrality\n",
      "Topic 5:\n",
      "order mandating internet executive order mandating internet montana democratic gov montana democratic gov steve order mandating internet service mandating internet service mandating internet service providers democratic gov steve bullock democratic gov steve gov steve bullock signed\n",
      "Topic 6:\n",
      "onemorevote pass senate resolution need onemorevote pass senate we need onemorevote pass pass senate resolution onemorevote pass senate pass senate resolution block dead yet we need yet we need onemorevote yet we need not dead yet we\n",
      "Topic 7:\n",
      "handmade rifle nra charlton rifle nra charlton receives handmade rifle nra rifle nra charlton heston ajit pai receives handmade pai receives handmade rifle pai receives handmade handmade rifle nra receives handmade rifle chairman ajit pai receives\n",
      "Topic 8:\n",
      "scott signed executive scott signed executive order phil scott signed executive governor phil scott signed vermont governor phil vermont governor phil scott executive order mandating net phil scott signed governor phil scott mandating net neutrality state\n",
      "Topic 9:\n",
      "blessedzvy remember everyone blessedzvy remember everyone cared everyone cared net remember everyone cared net everyone cared net neutrality remember everyone cared cared net neutrality remember cared net neutrality remember cared net aintrob remember cared\n"
     ]
    }
   ],
   "source": [
    "display_topics(nmf2, features2, no_top_words)"
   ]
  },
  {
   "cell_type": "markdown",
   "metadata": {},
   "source": [
    "These two topic modeling algorithms produce somewhat different topic clusters.  The NMF topics seem easier to classify: Topic 0 relates to the Burger King commercial, Topic 1 to decreased coverage, Topics 2 and 3 to the NRA, Topic 4 to the government taking away rights, and so on.  The LDA model does not seem to define the topics as cleanly."
   ]
  },
  {
   "cell_type": "markdown",
   "metadata": {},
   "source": [
    "##### NMF Topic Modeling of Twitter User Descriptions"
   ]
  },
  {
   "cell_type": "code",
   "execution_count": 218,
   "metadata": {},
   "outputs": [],
   "source": [
    "nmf3 = NMF(n_components=no_topics, random_state=1, alpha=.1, l1_ratio=.5, init='nndsvd').fit(transformed3)"
   ]
  },
  {
   "cell_type": "code",
   "execution_count": 219,
   "metadata": {},
   "outputs": [
    {
     "name": "stdout",
     "output_type": "stream",
     "text": [
      "Topic 0:\n",
      "click listen fresh electronic listen tunein music 24x7 24x7 click tunein electronic music 24x7 click electronic\n",
      "Topic 1:\n",
      "net neutrality neutrality net save net support net bandwidthboys supported supremekame supremekame bandwidthboys supremekame dbfalco\n",
      "Topic 2:\n",
      "long trumps trumps office shows long counter shows the counter counter trumps office shows long\n",
      "Topic 3:\n",
      "concerned citizen concerned citizen citizen world world mom fan concerned citizen retweeting educator disney always educator\n",
      "Topic 4:\n",
      "we truth we stand us stand change seek chooselovetoday truth saves united belief chooselovetoday change\n",
      "Topic 5:\n",
      "cencership officialalekpierce gmail cencership officialalekpierce oppose cencership officialalekpierce internet oppose illustrator supporter supporter open freelance illustrator open free\n",
      "Topic 6:\n",
      "resist theresistance fbr resist fbr resistance notmypresident bluewave theresistance resist resist theresistance 2018\n",
      "Topic 7:\n",
      "geek stuff comics science stuff politics books comics movies books science geek music movies stuff comics movies\n",
      "Topic 8:\n",
      "news love life tech world lover technology the media social\n",
      "Topic 9:\n",
      "your your worst worst nightmare proclaimed genius nightmare makes fun even recently self even recently genius well friend your\n"
     ]
    }
   ],
   "source": [
    "display_topics(nmf3, features3, no_top_words)"
   ]
  },
  {
   "cell_type": "markdown",
   "metadata": {},
   "source": [
    "Topic modeling of the user descriptions seems to produce some idea of topic clusters: music fans, users focused on net neutrality, ones that mention Trump, concerned citizens, etc."
   ]
  },
  {
   "cell_type": "markdown",
   "metadata": {},
   "source": [
    "<a id='section5'></a>"
   ]
  },
  {
   "cell_type": "markdown",
   "metadata": {},
   "source": [
    "### Sentiment Analysis"
   ]
  },
  {
   "cell_type": "markdown",
   "metadata": {},
   "source": [
    "Sentiment analysis was performed using the TextBlob pattern analyzer.  Textblob is an API that utilizes NLTK and pattern for processing textual data."
   ]
  },
  {
   "cell_type": "code",
   "execution_count": 139,
   "metadata": {},
   "outputs": [],
   "source": [
    "def get_tweet_sentiment(tweet):\n",
    "    return TextBlob(tweet).sentiment.polarity"
   ]
  },
  {
   "cell_type": "code",
   "execution_count": 140,
   "metadata": {},
   "outputs": [],
   "source": [
    "df['sentiment'] = df.cleaned_text.apply(lambda x: get_tweet_sentiment(' '.join(x)))"
   ]
  },
  {
   "cell_type": "code",
   "execution_count": 163,
   "metadata": {
    "scrolled": false
   },
   "outputs": [
    {
     "data": {
      "image/png": "[encoded data removed]",
      "text/plain": [
       "<matplotlib.figure.Figure at 0x32e767710>"
      ]
     },
     "metadata": {},
     "output_type": "display_data"
    }
   ],
   "source": [
    "from scipy.stats import norm\n",
    "hist, edges = np.histogram(df.sentiment.values, bins=np.arange(-1, 1, 0.1))\n",
    "fig, ax = pl.subplots(figsize=(10,4))\n",
    "df.sentiment.hist(ax=ax, bins=20, color='k', alpha=0.5)\n",
    "ax.set_xticks(range(-1, 2))\n",
    "ax.set_xticklabels(['negative', 'neutral', 'positive'], fontsize=15)\n",
    "ax.set_ylabel('# tweets', fontsize=12)\n",
    "x = np.arange(-1, 1, 0.01)\n",
    "ax.plot(x, norm.pdf(x, 0, 0.35) * 300000, '--', linewidth=4, alpha=0.8)\n",
    "ax.vlines(0, 0, 100000, color='r', linewidth=4, linestyle='-', alpha=0.8)\n",
    "pl.tight_layout()\n",
    "pl.show()"
   ]
  },
  {
   "cell_type": "markdown",
   "metadata": {},
   "source": [
    "#### Most Negative Tweets"
   ]
  },
  {
   "cell_type": "code",
   "execution_count": 162,
   "metadata": {},
   "outputs": [
    {
     "name": "stdout",
     "output_type": "stream",
     "text": [
      "RT @RepSeanMaloney: #BREAKING: The @FCC has announced they’ll officially kill #NetNeutrality in April. I’m a proud cosponsor of legislation…\n",
      "\n",
      "RT @IndivisibleTeam: 👇Great thread on #NetNeutrality from @jiggy_ca👇 https://t.co/C02RL1RD0e\n",
      "\n",
      "For the MASSES of non-tech folks... such a great explanation of what #NetNeutrality is and how it works. Folks get… https://t.co/ji3MYUdSFP\n",
      "\n",
      "RT @tedlieu: Just when you thought @NRA could not be more out of touch with the overwhelming majority of Americans, it turns out the NRA ra…\n",
      "\n",
      "Excellent piece to supplement your reading on the potential consequences of messing with #NetNeutrality from… https://t.co/yhyBcleR3A\n",
      "\n",
      "RT @tedlieu: Just when you thought @NRA could not be more out of touch with the overwhelming majority of Americans, it turns out the NRA ra…\n",
      "\n",
      "RT @tedlieu: Just when you thought @NRA could not be more out of touch with the overwhelming majority of Americans, it turns out the NRA ra…\n",
      "\n",
      "RT @tedlieu: Just when you thought @NRA could not be more out of touch with the overwhelming majority of Americans, it turns out the NRA ra…\n",
      "\n",
      "RT @tedlieu: Just when you thought @NRA could not be more out of touch with the overwhelming majority of Americans, it turns out the NRA ra…\n",
      "\n",
      "RT @tedlieu: Just when you thought @NRA could not be more out of touch with the overwhelming majority of Americans, it turns out the NRA ra…\n",
      "\n"
     ]
    }
   ],
   "source": [
    "for t in df[df.sentiment == df.sentiment.min()].text[:10]:\n",
    "    print(t + '\\n')"
   ]
  },
  {
   "cell_type": "markdown",
   "metadata": {},
   "source": [
    "#### Most Positive Tweets"
   ]
  },
  {
   "cell_type": "code",
   "execution_count": 143,
   "metadata": {
    "scrolled": false
   },
   "outputs": [
    {
     "name": "stdout",
     "output_type": "stream",
     "text": [
      "@coindesk Perfect time to #buy!\n",
      "\n",
      "#BTC #LTC #ETH #ETC #XMR #ZEC #DOGE #DASHPAY #DASH #NEM #VTC #TailsOS… https://t.co/eH7cTQ4hSs\n",
      "\n",
      "Excellent modification of the #Gadsen flag to serve the point. Also great example of how #StatesRights goes both wa… https://t.co/NFFwWjhsNd\n",
      "\n",
      "RT @fightfortheftr: We can still stop the FCC from killing #NetNeutrality, and we need just #OneMoreVote to win in the Senate. Join the onl…\n",
      "\n",
      "RT @EFF: We're extremely proud of the seventh graders who testified in front of Oregon's legislature this week to promote #NetNeutrality, t…\n",
      "\n",
      "RT @OpenMediaOrg: We can still stop the FCC from killing #NetNeutrality, and we need just #OneMoreVote to win in the Senate. Join the onlin…\n",
      "\n",
      "RT @EFF: We're extremely proud of the seventh graders who testified in front of Oregon's legislature this week to promote #NetNeutrality, t…\n",
      "\n",
      "Says the spider to the fly. . . .\n",
      "\n",
      "#caveatemptor growth by extraction. . . . \n",
      "\n",
      "If it is free, you are the product.… https://t.co/pWW0D9huo7\n",
      "\n",
      "RT @tedlieu: Just when you thought @NRA could not be more out of touch with the overwhelming majority of Americans, it turns out the NRA ra…\n",
      "\n",
      "RT @tedlieu: Just when you thought @NRA could not be more out of touch with the overwhelming majority of Americans, it turns out the NRA ra…\n",
      "\n",
      "RT @tedlieu: Just when you thought @NRA could not be more out of touch with the overwhelming majority of Americans, it turns out the NRA ra…\n",
      "\n"
     ]
    }
   ],
   "source": [
    "for t in df[df.sentiment == df.sentiment.max()].text[:10]:\n",
    "    print(t + '\\n')"
   ]
  },
  {
   "cell_type": "markdown",
   "metadata": {},
   "source": [
    "##### In this dataset, the sentiment seems to be strongly in favor of preservation of net neutrality and negative toward the FCC and the repeal.  The most positive sentiment tweets are focused on actions to block the repeal, as well as the inherent positive feeling towards net neutrality, and the most negative sentiment tweets are against the repeal and NRA and politicians supporting it."
   ]
  },
  {
   "cell_type": "markdown",
   "metadata": {},
   "source": [
    "#### Do the sentiment results differ by state?"
   ]
  },
  {
   "cell_type": "code",
   "execution_count": 164,
   "metadata": {},
   "outputs": [
    {
     "data": {
      "text/html": [
       "<div>\n",
       "<style scoped>\n",
       "    .dataframe tbody tr th:only-of-type {\n",
       "        vertical-align: middle;\n",
       "    }\n",
       "\n",
       "    .dataframe tbody tr th {\n",
       "        vertical-align: top;\n",
       "    }\n",
       "\n",
       "    .dataframe thead th {\n",
       "        text-align: right;\n",
       "    }\n",
       "</style>\n",
       "<table border=\"1\" class=\"dataframe\">\n",
       "  <thead>\n",
       "    <tr style=\"text-align: right;\">\n",
       "      <th></th>\n",
       "      <th>sentiment</th>\n",
       "    </tr>\n",
       "    <tr>\n",
       "      <th>state</th>\n",
       "      <th></th>\n",
       "    </tr>\n",
       "  </thead>\n",
       "  <tbody>\n",
       "    <tr>\n",
       "      <th>Alabama</th>\n",
       "      <td>0.062900</td>\n",
       "    </tr>\n",
       "    <tr>\n",
       "      <th>Alaska</th>\n",
       "      <td>0.043706</td>\n",
       "    </tr>\n",
       "    <tr>\n",
       "      <th>Arizona</th>\n",
       "      <td>0.012821</td>\n",
       "    </tr>\n",
       "    <tr>\n",
       "      <th>Arkansas</th>\n",
       "      <td>0.004261</td>\n",
       "    </tr>\n",
       "    <tr>\n",
       "      <th>California</th>\n",
       "      <td>0.059467</td>\n",
       "    </tr>\n",
       "    <tr>\n",
       "      <th>Colorado</th>\n",
       "      <td>0.013644</td>\n",
       "    </tr>\n",
       "    <tr>\n",
       "      <th>Connecticut</th>\n",
       "      <td>0.055880</td>\n",
       "    </tr>\n",
       "    <tr>\n",
       "      <th>Delaware</th>\n",
       "      <td>0.007723</td>\n",
       "    </tr>\n",
       "    <tr>\n",
       "      <th>District of Columbia</th>\n",
       "      <td>0.075344</td>\n",
       "    </tr>\n",
       "    <tr>\n",
       "      <th>Florida</th>\n",
       "      <td>0.054057</td>\n",
       "    </tr>\n",
       "    <tr>\n",
       "      <th>Georgia</th>\n",
       "      <td>0.049904</td>\n",
       "    </tr>\n",
       "    <tr>\n",
       "      <th>Hawaii</th>\n",
       "      <td>0.078549</td>\n",
       "    </tr>\n",
       "    <tr>\n",
       "      <th>Idaho</th>\n",
       "      <td>0.028205</td>\n",
       "    </tr>\n",
       "    <tr>\n",
       "      <th>Illinois</th>\n",
       "      <td>0.035758</td>\n",
       "    </tr>\n",
       "    <tr>\n",
       "      <th>Indiana</th>\n",
       "      <td>0.074537</td>\n",
       "    </tr>\n",
       "    <tr>\n",
       "      <th>Iowa</th>\n",
       "      <td>0.148889</td>\n",
       "    </tr>\n",
       "    <tr>\n",
       "      <th>Kansas</th>\n",
       "      <td>0.024547</td>\n",
       "    </tr>\n",
       "    <tr>\n",
       "      <th>Kentucky</th>\n",
       "      <td>0.024271</td>\n",
       "    </tr>\n",
       "    <tr>\n",
       "      <th>Louisiana</th>\n",
       "      <td>0.100227</td>\n",
       "    </tr>\n",
       "    <tr>\n",
       "      <th>Maine</th>\n",
       "      <td>0.116667</td>\n",
       "    </tr>\n",
       "    <tr>\n",
       "      <th>Maryland</th>\n",
       "      <td>0.023507</td>\n",
       "    </tr>\n",
       "    <tr>\n",
       "      <th>Massachusetts</th>\n",
       "      <td>0.064831</td>\n",
       "    </tr>\n",
       "    <tr>\n",
       "      <th>Michigan</th>\n",
       "      <td>0.042857</td>\n",
       "    </tr>\n",
       "    <tr>\n",
       "      <th>Minnesota</th>\n",
       "      <td>0.067681</td>\n",
       "    </tr>\n",
       "    <tr>\n",
       "      <th>Mississippi</th>\n",
       "      <td>-0.006970</td>\n",
       "    </tr>\n",
       "    <tr>\n",
       "      <th>Missouri</th>\n",
       "      <td>0.065870</td>\n",
       "    </tr>\n",
       "    <tr>\n",
       "      <th>Montana</th>\n",
       "      <td>0.114063</td>\n",
       "    </tr>\n",
       "    <tr>\n",
       "      <th>Nebraska</th>\n",
       "      <td>0.105934</td>\n",
       "    </tr>\n",
       "    <tr>\n",
       "      <th>Nevada</th>\n",
       "      <td>-0.007264</td>\n",
       "    </tr>\n",
       "    <tr>\n",
       "      <th>New Hampshire</th>\n",
       "      <td>0.104318</td>\n",
       "    </tr>\n",
       "    <tr>\n",
       "      <th>New Jersey</th>\n",
       "      <td>0.030715</td>\n",
       "    </tr>\n",
       "    <tr>\n",
       "      <th>New Mexico</th>\n",
       "      <td>0.103319</td>\n",
       "    </tr>\n",
       "    <tr>\n",
       "      <th>New York</th>\n",
       "      <td>0.069790</td>\n",
       "    </tr>\n",
       "    <tr>\n",
       "      <th>North Carolina</th>\n",
       "      <td>0.063781</td>\n",
       "    </tr>\n",
       "    <tr>\n",
       "      <th>North Dakota</th>\n",
       "      <td>0.065278</td>\n",
       "    </tr>\n",
       "    <tr>\n",
       "      <th>Ohio</th>\n",
       "      <td>0.034657</td>\n",
       "    </tr>\n",
       "    <tr>\n",
       "      <th>Oklahoma</th>\n",
       "      <td>0.041321</td>\n",
       "    </tr>\n",
       "    <tr>\n",
       "      <th>Oregon</th>\n",
       "      <td>0.121839</td>\n",
       "    </tr>\n",
       "    <tr>\n",
       "      <th>Outside US</th>\n",
       "      <td>0.034657</td>\n",
       "    </tr>\n",
       "    <tr>\n",
       "      <th>Pennsylvania</th>\n",
       "      <td>0.044132</td>\n",
       "    </tr>\n",
       "    <tr>\n",
       "      <th>Puerto Rico</th>\n",
       "      <td>0.010882</td>\n",
       "    </tr>\n",
       "    <tr>\n",
       "      <th>Rhode Island</th>\n",
       "      <td>0.021667</td>\n",
       "    </tr>\n",
       "    <tr>\n",
       "      <th>South Carolina</th>\n",
       "      <td>0.096460</td>\n",
       "    </tr>\n",
       "    <tr>\n",
       "      <th>South Dakota</th>\n",
       "      <td>0.017045</td>\n",
       "    </tr>\n",
       "    <tr>\n",
       "      <th>Tennessee</th>\n",
       "      <td>0.043273</td>\n",
       "    </tr>\n",
       "    <tr>\n",
       "      <th>Texas</th>\n",
       "      <td>0.069530</td>\n",
       "    </tr>\n",
       "    <tr>\n",
       "      <th>Utah</th>\n",
       "      <td>0.090909</td>\n",
       "    </tr>\n",
       "    <tr>\n",
       "      <th>Vermont</th>\n",
       "      <td>0.086364</td>\n",
       "    </tr>\n",
       "    <tr>\n",
       "      <th>Virginia</th>\n",
       "      <td>0.048560</td>\n",
       "    </tr>\n",
       "    <tr>\n",
       "      <th>Washington</th>\n",
       "      <td>0.056254</td>\n",
       "    </tr>\n",
       "    <tr>\n",
       "      <th>West Virginia</th>\n",
       "      <td>0.055303</td>\n",
       "    </tr>\n",
       "    <tr>\n",
       "      <th>Wisconsin</th>\n",
       "      <td>0.038183</td>\n",
       "    </tr>\n",
       "    <tr>\n",
       "      <th>Wyoming</th>\n",
       "      <td>0.500000</td>\n",
       "    </tr>\n",
       "  </tbody>\n",
       "</table>\n",
       "</div>"
      ],
      "text/plain": [
       "                      sentiment\n",
       "state                          \n",
       "Alabama                0.062900\n",
       "Alaska                 0.043706\n",
       "Arizona                0.012821\n",
       "Arkansas               0.004261\n",
       "California             0.059467\n",
       "Colorado               0.013644\n",
       "Connecticut            0.055880\n",
       "Delaware               0.007723\n",
       "District of Columbia   0.075344\n",
       "Florida                0.054057\n",
       "Georgia                0.049904\n",
       "Hawaii                 0.078549\n",
       "Idaho                  0.028205\n",
       "Illinois               0.035758\n",
       "Indiana                0.074537\n",
       "Iowa                   0.148889\n",
       "Kansas                 0.024547\n",
       "Kentucky               0.024271\n",
       "Louisiana              0.100227\n",
       "Maine                  0.116667\n",
       "Maryland               0.023507\n",
       "Massachusetts          0.064831\n",
       "Michigan               0.042857\n",
       "Minnesota              0.067681\n",
       "Mississippi           -0.006970\n",
       "Missouri               0.065870\n",
       "Montana                0.114063\n",
       "Nebraska               0.105934\n",
       "Nevada                -0.007264\n",
       "New Hampshire          0.104318\n",
       "New Jersey             0.030715\n",
       "New Mexico             0.103319\n",
       "New York               0.069790\n",
       "North Carolina         0.063781\n",
       "North Dakota           0.065278\n",
       "Ohio                   0.034657\n",
       "Oklahoma               0.041321\n",
       "Oregon                 0.121839\n",
       "Outside US             0.034657\n",
       "Pennsylvania           0.044132\n",
       "Puerto Rico            0.010882\n",
       "Rhode Island           0.021667\n",
       "South Carolina         0.096460\n",
       "South Dakota           0.017045\n",
       "Tennessee              0.043273\n",
       "Texas                  0.069530\n",
       "Utah                   0.090909\n",
       "Vermont                0.086364\n",
       "Virginia               0.048560\n",
       "Washington             0.056254\n",
       "West Virginia          0.055303\n",
       "Wisconsin              0.038183\n",
       "Wyoming                0.500000"
      ]
     },
     "execution_count": 164,
     "metadata": {},
     "output_type": "execute_result"
    }
   ],
   "source": [
    "df2 = df[['sentiment', 'state']]\n",
    "df3 = df2.pivot_table(index='state', aggfunc='mean')\n",
    "df3 = df3.drop(['', 'Burger King', 'IHOP', 'United States', 'Yogurtland'])\n",
    "pd.set_option(\"display.max_rows\", 500)\n",
    "df3"
   ]
  },
  {
   "cell_type": "markdown",
   "metadata": {},
   "source": [
    "#### How does sentiment by state compare with the current Senate votes by state for or against net neutrality?"
   ]
  },
  {
   "cell_type": "markdown",
   "metadata": {},
   "source": [
    "Each US state has 2 Senators - a state with 2 Senators that will vote for continued net neutrality scores a sentiment of 1, a state with a split vote gets 0 (neutral) and a state with 2 votes to support the repeal gets a sentiment of -1."
   ]
  },
  {
   "cell_type": "code",
   "execution_count": 145,
   "metadata": {},
   "outputs": [],
   "source": [
    "Senate = pd.read_csv('~/Desktop/Senate.csv', index_col='state')"
   ]
  },
  {
   "cell_type": "code",
   "execution_count": 146,
   "metadata": {},
   "outputs": [],
   "source": [
    "df5 = pd.concat([df3, Senate], axis=1, join='inner')\n",
    "df5.columns = ['tweet_sentiment', 'Senate_sentiment']"
   ]
  },
  {
   "cell_type": "code",
   "execution_count": 205,
   "metadata": {},
   "outputs": [
    {
     "name": "stderr",
     "output_type": "stream",
     "text": [
      "/Users/mollymcnamara/anaconda/lib/python3.6/site-packages/seaborn/categorical.py:342: DeprecationWarning:\n",
      "\n",
      "pandas.core.common.is_categorical_dtype is deprecated. import from the public API: pandas.api.types.is_categorical_dtype instead\n",
      "\n"
     ]
    },
    {
     "data": {
      "image/png": "[encoded data removed]",
      "text/plain": [
       "<matplotlib.figure.Figure at 0x33d8e8048>"
      ]
     },
     "metadata": {},
     "output_type": "display_data"
    }
   ],
   "source": [
    "sns.swarmplot(x='Senate_sentiment', y=\"tweet_sentiment\", data=df5)\n",
    "plt.title('Tweet Sentiment by State Compared to Senate Sentiment by State')\n",
    "plt.ylim(-0.05, 0.2)\n",
    "plt.show()"
   ]
  },
  {
   "cell_type": "markdown",
   "metadata": {},
   "source": [
    "The Senate vote is split primarily along political party lines, despite the fact that most states seem to have a positive sentiment towards net neutrality.  "
   ]
  }
 ],
 "metadata": {
  "kernelspec": {
   "display_name": "Python 3",
   "language": "python",
   "name": "python3"
  },
  "language_info": {
   "codemirror_mode": {
    "name": "ipython",
    "version": 3
   },
   "file_extension": ".py",
   "mimetype": "text/x-python",
   "name": "python",
   "nbconvert_exporter": "python",
   "pygments_lexer": "ipython3",
   "version": "3.6.1"
  }
 },
 "nbformat": 4,
 "nbformat_minor": 2
}
