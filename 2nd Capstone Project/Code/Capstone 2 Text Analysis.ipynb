{
 "cells": [
  {
   "cell_type": "markdown",
   "metadata": {},
   "source": [
    "#### Import needed packages"
   ]
  },
  {
   "cell_type": "code",
   "execution_count": 1,
   "metadata": {},
   "outputs": [],
   "source": [
    "import json\n",
    "import numpy as np\n",
    "import pandas as pd\n",
    "import pylab as pl\n",
    "import re\n",
    "import string\n",
    "import nltk\n",
    "from collections import Counter\n",
    "stopwords = nltk.corpus.stopwords.words('english')\n",
    "from nltk.collocations import BigramCollocationFinder, BigramAssocMeasures\n",
    "from nltk.tokenize import TweetTokenizer\n",
    "from sklearn.cluster import KMeans\n",
    "from sklearn.feature_extraction.text import TfidfVectorizer\n",
    "import matplotlib.pyplot as plt\n",
    "from sklearn.decomposition import NMF\n",
    "from gensim import corpora, models\n",
    "from nltk.stem.wordnet import WordNetLemmatizer\n",
    "from textblob import TextBlob"
   ]
  },
  {
   "cell_type": "markdown",
   "metadata": {},
   "source": [
    "#### Import and prepare tweet data"
   ]
  },
  {
   "cell_type": "code",
   "execution_count": 2,
   "metadata": {},
   "outputs": [],
   "source": [
    "tweet_files = ['#NetNeutrality/#NetNeutrality_2018-01-22.json', 'net/net_2018-01-22.json', '#NetNeutrality/#NetNeutrality_2018-01-23.json', 'net/net_2018-01-23.json', '#NetNeutrality/#NetNeutrality_2018-01-24.json', 'net/net_2018-01-24.json', '#NetNeutrality/#NetNeutrality_2018-01-25.json', 'net/net_2018-01-25.json', '#NetNeutrality/#NetNeutrality_2018-01-26.json', 'net/net_2018-01-26.json', '#NetNeutrality/#NetNeutrality_2018-01-27.json', 'net/net_2018-01-27.json', '#NetNeutrality/#NetNeutrality_2018-01-28.json', 'net/net_2018-01-28.json', '#NetNeutrality/#NetNeutrality_2018-01-29.json', 'net/net_2018-01-29.json', '#NetNeutrality/#NetNeutrality_2018-01-30.json', 'net/net_2018-01-30.json', '#NetNeutrality/#NetNeutrality_2018-01-31.json', 'net/net_2018-01-31.json', '#NetNeutrality/#NetNeutrality_2018-02-01.json', 'net/net_2018-02-01.json', '#NetNeutrality/#NetNeutrality_2018-02-02.json', 'net/net_2018-02-02.json', '#NetNeutrality/#NetNeutrality_2018-02-03.json', 'net/net_2018-02-03.json', '#NetNeutrality/#NetNeutrality_2018-02-04.json', 'net/net_2018-02-04.json', '#NetNeutrality/#NetNeutrality_2018-02-05.json', 'net/net_2018-02-05.json', '#NetNeutrality/#NetNeutrality_2018-02-06.json', 'net/net_2018-02-06.json', '#NetNeutrality/#NetNeutrality_2018-02-07.json', 'net/net_2018-02-07.json', '#NetNeutrality/#NetNeutrality_2018-02-08.json', 'net/net_2018-02-08.json', '#NetNeutrality/#NetNeutrality_2018-02-09.json', 'net/net_2018-02-09.json', '#NetNeutrality/#NetNeutrality_2018-02-10.json', 'net/net_2018-02-10.json', '#NetNeutrality/#NetNeutrality_2018-02-11.json', 'net/net_2018-02-11.json', '#NetNeutrality/#NetNeutrality_2018-02-12.json', 'net/net_2018-02-12.json', '#NetNeutrality/#NetNeutrality_2018-02-13.json', 'net/net_2018-02-13.json', '#NetNeutrality/#NetNeutrality_2018-02-14.json', 'net/net_2018-02-14.json', '#NetNeutrality/#NetNeutrality_2018-02-15.json', 'net/net_2018-02-15.json', '#NetNeutrality/#NetNeutrality_2018-02-16.json', 'net/net_2018-02-16.json', '#NetNeutrality/#NetNeutrality_2018-02-17.json', 'net/net_2018-02-17.json', '#NetNeutrality/#NetNeutrality_2018-02-18.json', 'net/net_2018-02-18.json', '#NetNeutrality/#NetNeutrality_2018-02-19.json', 'net/net_2018-02-19.json', '#NetNeutrality/#NetNeutrality_2018-02-20.json', 'net/net_2018-02-20.json']\n",
    "tweets = []\n",
    "for file in tweet_files:\n",
    "    with open(file, 'r') as f:\n",
    "        for line in f.readlines():\n",
    "            tweets.append(json.loads(line))"
   ]
  },
  {
   "cell_type": "code",
   "execution_count": 3,
   "metadata": {},
   "outputs": [],
   "source": [
    "def populate_tweet_df(tweets):\n",
    "    df = pd.DataFrame()\n",
    "    df['tweet_id'] = list(map(lambda tweet: tweet['id'], tweets))                \n",
    "    df['tweet_date'] = list(map(lambda tweet: tweet['created_at'], tweets))\n",
    "    df['user_id'] = list(map(lambda tweet: tweet['user']['id'], tweets))                      \n",
    "    df['screen_name'] = list(map(lambda tweet: tweet['user']['screen_name'], tweets))                \n",
    "    df['name'] = list(map(lambda tweet: tweet['user']['name'], tweets))               \n",
    "    df['description'] = list(map(lambda tweet: tweet['user']['description'], tweets))                \n",
    "    df['text'] = list(map(lambda tweet: tweet['text'], tweets))\n",
    "    df['retweet_count'] = list(map(lambda tweet: tweet['retweet_count'], tweets))\n",
    "    df['favorite_count'] = list(map(lambda tweet: tweet['favorite_count'], tweets))               \n",
    "    df['user_location'] = list(map(lambda tweet: tweet['user']['location'] \n",
    "                        if tweet['place'] != None else '', tweets))\n",
    "    df['tweet_location'] = list(map(lambda tweet: tweet['place']['full_name'] \n",
    "                        if tweet['place'] != None else '', tweets))\n",
    "    df['long'] = list(map(lambda tweet: tweet['coordinates']['coordinates'][0]\n",
    "                        if tweet['coordinates'] != None else 'NaN', tweets))\n",
    "    df['latt'] = list(map(lambda tweet: tweet['coordinates']['coordinates'][1]\n",
    "                        if tweet['coordinates'] != None else 'NaN', tweets))\n",
    "    return df"
   ]
  },
  {
   "cell_type": "code",
   "execution_count": 4,
   "metadata": {},
   "outputs": [],
   "source": [
    "df = populate_tweet_df(tweets)"
   ]
  },
  {
   "cell_type": "code",
   "execution_count": 5,
   "metadata": {},
   "outputs": [],
   "source": [
    "df = df.drop_duplicates([\"tweet_id\"])"
   ]
  },
  {
   "cell_type": "code",
   "execution_count": 6,
   "metadata": {},
   "outputs": [],
   "source": [
    "def parse_location(string):\n",
    "    if (string.split(',')[-1] == ' USA'):\n",
    "        return string.split(',')[0]\n",
    "    else:\n",
    "        return string.split(', ')[-1]\n",
    "df['state'] = df['tweet_location'].map(parse_location)"
   ]
  },
  {
   "cell_type": "code",
   "execution_count": 7,
   "metadata": {},
   "outputs": [],
   "source": [
    "statedict = {\n",
    "        'AK': 'Alaska',\n",
    "        'AL': 'Alabama',\n",
    "        'AR': 'Arkansas',\n",
    "        'AS': 'American Samoa',\n",
    "        'AZ': 'Arizona',\n",
    "        'CA': 'California',\n",
    "        'CO': 'Colorado',\n",
    "        'CT': 'Connecticut',\n",
    "        'DC': 'District of Columbia',\n",
    "        'DE': 'Delaware',\n",
    "        'FL': 'Florida',\n",
    "        'GA': 'Georgia',\n",
    "        'GU': 'Guam',\n",
    "        'HI': 'Hawaii',\n",
    "        'IA': 'Iowa',\n",
    "        'ID': 'Idaho',\n",
    "        'IL': 'Illinois',\n",
    "        'IN': 'Indiana',\n",
    "        'KS': 'Kansas',\n",
    "        'KY': 'Kentucky',\n",
    "        'LA': 'Louisiana',\n",
    "        'MA': 'Massachusetts',\n",
    "        'MD': 'Maryland',\n",
    "        'ME': 'Maine',\n",
    "        'MI': 'Michigan',\n",
    "        'MN': 'Minnesota',\n",
    "        'MO': 'Missouri',\n",
    "        'MP': 'Northern Mariana Islands',\n",
    "        'MS': 'Mississippi',\n",
    "        'MT': 'Montana',\n",
    "        'NA': 'National',\n",
    "        'NC': 'North Carolina',\n",
    "        'ND': 'North Dakota',\n",
    "        'NE': 'Nebraska',\n",
    "        'NH': 'New Hampshire',\n",
    "        'NJ': 'New Jersey',\n",
    "        'NM': 'New Mexico',\n",
    "        'NV': 'Nevada',\n",
    "        'NY': 'New York',\n",
    "        'OH': 'Ohio',\n",
    "        'OK': 'Oklahoma',\n",
    "        'OR': 'Oregon',\n",
    "        'PA': 'Pennsylvania',\n",
    "        'PR': 'Puerto Rico',\n",
    "        'RI': 'Rhode Island',\n",
    "        'SC': 'South Carolina',\n",
    "        'SD': 'South Dakota',\n",
    "        'TN': 'Tennessee',\n",
    "        'TX': 'Texas',\n",
    "        'UT': 'Utah',\n",
    "        'VA': 'Virginia',\n",
    "        'VI': 'Virgin Islands',\n",
    "        'VT': 'Vermont',\n",
    "        'WA': 'Washington',\n",
    "        'WI': 'Wisconsin',\n",
    "        'WV': 'West Virginia',\n",
    "        'WY': 'Wyoming'\n",
    "}"
   ]
  },
  {
   "cell_type": "code",
   "execution_count": 8,
   "metadata": {},
   "outputs": [],
   "source": [
    "for key, value in statedict.items():\n",
    "    df['state'] = df['state'].replace(key, value)"
   ]
  },
  {
   "cell_type": "code",
   "execution_count": 57,
   "metadata": {},
   "outputs": [],
   "source": [
    "otherlocdict = {\n",
    "        'Alberta': 'Outside US',\n",
    "        'Algarrobos': 'Outside US',\n",
    "        'Amherst Regional Middle School': 'Massachusetts',\n",
    "        'Apulia': 'Outside US',\n",
    "        'Argentina': 'Outside US',\n",
    "        'Austria': 'Outside US',\n",
    "        'Bahamas': 'Outside US',\n",
    "        'Baja California': 'Outside US',\n",
    "        'Barbados': 'Outside US',\n",
    "        'Barcelona': 'Outside US',\n",
    "        'Bavaria': 'Outside US',\n",
    "        'Bayamón': 'Outside US',\n",
    "        'Belgium': 'Outside US',\n",
    "        'België': 'Outside US',\n",
    "        'Berlin': 'Outside US',\n",
    "        'Brasil': 'Outside US',\n",
    "        'Brazil': 'Outside US',\n",
    "        'British Columbia': 'Outside US',\n",
    "        'California State Capitol Building': 'California',\n",
    "        'Campania': 'Outside US',\n",
    "        'Canada': 'Outside US',\n",
    "        'Carolina Bay': 'North Carolina',\n",
    "        'Caveat': 'Outside US',\n",
    "        'Changwat Chon Buri': 'Outside US',\n",
    "        'Channel Islands Harbor Green Navigation Light': 'California',\n",
    "        'Chicago': 'Illinois',\n",
    "        'Chihuahua': 'Outside US',\n",
    "        'Chile': 'Outside US',\n",
    "        'Colombia': 'Outside US',\n",
    "        'Costa Rica': 'Outside US',\n",
    "        'Cuba': 'Outside US',\n",
    "        'Czech Republic': 'Outside US',\n",
    "        'Davao Region': 'Outside US',\n",
    "        'Denmark': 'Outside US',\n",
    "        'Deutschland': 'Outside US',\n",
    "        'Distrito Federal': 'Outside US',\n",
    "        'Dovetail Brewing': 'Illinois',\n",
    "        'Duluth MN-Superior WI': 'Minnesota',\n",
    "        'East': 'Outside US',\n",
    "        'Ecuador': 'Outside US',\n",
    "        'El Salvador': 'Outside US',\n",
    "        'England': 'Outside US',\n",
    "        'Espanya': 'Outside US',\n",
    "        'España': 'Outside US',\n",
    "        'Finland': 'Outside US',\n",
    "        'France': 'Outside US',\n",
    "        'Frankfurt Airport': 'Outside US',\n",
    "        'Germany': 'Outside US',\n",
    "        'Hato Rey Sur': 'Puerto Rico',\n",
    "        'Honduras': 'Outside US',\n",
    "        'Hong Kong': 'Outside US',\n",
    "        'Hungary': 'Outside US',\n",
    "        'Iceland': 'Outside US',\n",
    "        'India': 'Outside US',\n",
    "        'Indonesia': 'Outside US',\n",
    "        'Ireland': 'Outside US',\n",
    "        'Isle of Man': 'Outside US',\n",
    "        'Israel': 'Outside US',\n",
    "        'Jamaica': 'Outside US',\n",
    "        'Kingdom of Saudi Arabia': 'Outside US',\n",
    "        'Kuala Lumpur Federal Territory': 'Outside US',\n",
    "        'Lazio': 'Outside US',\n",
    "        'Liguria': 'Outside US',\n",
    "        'Lombardia': 'Outside US',\n",
    "        'Lombardy': 'Outside US',\n",
    "        'London': 'Outside US',\n",
    "        'Los Angeles': 'California',\n",
    "        'Luxembourg': 'Outside US',\n",
    "        'Maldives': 'Outside US',\n",
    "        'Manitoba': 'Outside US',\n",
    "        'Marche': 'Outside US',\n",
    "        'Massachusetts State House': 'Massachusetts',\n",
    "        'Mordor': 'Outside US',\n",
    "        'München': 'Outside US',\n",
    "        'National Capital Region': 'District of Columbia',\n",
    "        'Nederland': 'Colorado',\n",
    "        'Nepal': 'Outside US',\n",
    "        'New South Wales': 'Outside US',\n",
    "        'New Zealand': 'Outside US',\n",
    "        'Newfoundland and Labrador': 'Outside US',\n",
    "        'Newseum - Knight Conference Center': 'District of Columbia',\n",
    "        'Nigeria': 'Outside US',\n",
    "        'Norge': 'Outside US',\n",
    "        'Northern Essex Community College': 'Outside US',\n",
    "        'Northern Ireland': 'Outside US',\n",
    "        'Nova Scotia': 'Outside US',\n",
    "        'Nuevo León': 'Outside US',\n",
    "        'Nürnberg': 'Outside US',\n",
    "        'Odessa High School': 'Texas',\n",
    "        'Ontario': 'Outside US',\n",
    "        'Osaka': 'Outside US',\n",
    "        'Paradise': 'Outside US',\n",
    "        \"People's Republic of China\": 'Outside US',\n",
    "        'Perlis': 'Louisiana',\n",
    "        'Piedmont': 'Outside US',\n",
    "        'Playa': 'Outside US',\n",
    "        'Poland': 'Outside US',\n",
    "        'Portland': 'Oregon',\n",
    "        'Queens': 'New York',\n",
    "        'Queensland': 'Outside US',\n",
    "        'Quintana Roo': 'Outside US',\n",
    "        'Québec': 'Outside US',\n",
    "        'Republic of Korea': 'Outside US',\n",
    "        'Rhode Island State House': 'Rhode Island',\n",
    "        'Rochester': 'New York',\n",
    "        'Romania': 'Outside US',\n",
    "        'Russia': 'Outside US',\n",
    "        'Sacramento State': 'California',\n",
    "        'Sarawak': 'Outside US',\n",
    "        'Saskatchewan': 'Outside US',\n",
    "        'Schleswig-Holstein': 'Outside US',\n",
    "        'Scotland': 'Outside US',\n",
    "        'Seattle': 'Washington',\n",
    "        'Singapore': 'Outside US',\n",
    "        'South Africa': 'Outside US',\n",
    "        'Spain': 'Outside US',\n",
    "        'Sri Lanka': 'Outside US',\n",
    "        'Suomi': 'Outside US',\n",
    "        'Sweden': 'Outside US',\n",
    "        'Switzerland': 'Outside US',\n",
    "        'Taiwan': 'Outside US',\n",
    "        'Tasmania': 'Outside US',\n",
    "        'Thailand': 'Outside US',\n",
    "        'The Netherlands': 'Outside US',\n",
    "        'The Urban Hive': 'California',\n",
    "        'Tokyo': 'Outside US',\n",
    "        'Tokyo 23 ward': 'Outside US',\n",
    "        'Toronto': 'Outside US',\n",
    "        'Trinidad and Tobago': 'Outside US',\n",
    "        'United Arab Emirates': 'Outside US',\n",
    "        'United Kingdom': 'Outside US',\n",
    "        'University of Glasgow': 'Outside US',\n",
    "        'University of La Verne': 'California',\n",
    "        'VCU Pocahontas Building': 'Virginia',\n",
    "        'Veneto': 'Outside US',\n",
    "        'Victoria': 'Outside US',\n",
    "        'Vintage Marina C19': 'California',\n",
    "        'Wales': 'Outside US',\n",
    "        'Washington D.C.': 'District of Columbia',\n",
    "        'Yamaguchi': 'Outside US'\n",
    "}"
   ]
  },
  {
   "cell_type": "code",
   "execution_count": 58,
   "metadata": {},
   "outputs": [],
   "source": [
    "for key, value in otherlocdict.items():\n",
    "    df['state'] = df['state'].replace(key, value)"
   ]
  },
  {
   "cell_type": "code",
   "execution_count": 11,
   "metadata": {},
   "outputs": [
    {
     "data": {
      "image/png": "[encoded data removed]",
      "text/plain": [
       "<matplotlib.figure.Figure at 0x10aed2a20>"
      ]
     },
     "metadata": {},
     "output_type": "display_data"
    }
   ],
   "source": [
    "# Convert tweet date to a datetime object\n",
    "df['tweet_date'] = pd.to_datetime(df['tweet_date'],  errors='raise')\n",
    "df.groupby(df['tweet_date'].dt.date).size().plot()\n",
    "plt.title('Tweets over Time')\n",
    "plt.xlabel('Date')\n",
    "plt.ylabel('Number of Tweets')\n",
    "plt.show()"
   ]
  },
  {
   "cell_type": "markdown",
   "metadata": {},
   "source": [
    "### Clean, Tokenize and Vectorize Text Data for Analysis"
   ]
  },
  {
   "cell_type": "code",
   "execution_count": 12,
   "metadata": {},
   "outputs": [],
   "source": [
    "tweettext = df.text.tolist()"
   ]
  },
  {
   "cell_type": "code",
   "execution_count": 13,
   "metadata": {},
   "outputs": [],
   "source": [
    "def clean_tweet(tweet):\n",
    "    # Remove RT (retweet signal)\n",
    "    tweet = re.sub('RT @', '@', tweet)\n",
    "    # Remove tickers\n",
    "    tweet = re.sub(r'\\$\\w*','', tweet)\n",
    "    # Remove URLs\n",
    "    tweet = re.sub(r'https?:\\/\\/.*\\/\\w*','', tweet)\n",
    "    # Remove puncutation\n",
    "    tweet = re.sub(r'[' + string.punctuation + ']+', ' ', tweet)\n",
    "    # Tokenize text\n",
    "    tokenizer = TweetTokenizer(strip_handles=True, reduce_len=True)\n",
    "    tokens = tokenizer.tokenize(tweet)\n",
    "    # Remove stopwords and single characters\n",
    "    tokens = [i.lower() for i in tokens if i not in stopwords and len(i) > 1]\n",
    "    return tokens"
   ]
  },
  {
   "cell_type": "code",
   "execution_count": 14,
   "metadata": {},
   "outputs": [],
   "source": [
    "cleaned_tweets = []\n",
    "for tweet in tweettext:\n",
    "    cleaned_tweets.append(clean_tweet(tweet))"
   ]
  },
  {
   "cell_type": "code",
   "execution_count": 15,
   "metadata": {},
   "outputs": [
    {
     "data": {
      "text/plain": [
       "(291445, 291445)"
      ]
     },
     "execution_count": 15,
     "metadata": {},
     "output_type": "execute_result"
    }
   ],
   "source": [
    "len(cleaned_tweets), len(df)"
   ]
  },
  {
   "cell_type": "code",
   "execution_count": 16,
   "metadata": {},
   "outputs": [],
   "source": [
    "df['cleaned_text'] = cleaned_tweets"
   ]
  },
  {
   "cell_type": "code",
   "execution_count": 17,
   "metadata": {},
   "outputs": [
    {
     "data": {
      "text/html": [
       "<div>\n",
       "<style scoped>\n",
       "    .dataframe tbody tr th:only-of-type {\n",
       "        vertical-align: middle;\n",
       "    }\n",
       "\n",
       "    .dataframe tbody tr th {\n",
       "        vertical-align: top;\n",
       "    }\n",
       "\n",
       "    .dataframe thead th {\n",
       "        text-align: right;\n",
       "    }\n",
       "</style>\n",
       "<table border=\"1\" class=\"dataframe\">\n",
       "  <thead>\n",
       "    <tr style=\"text-align: right;\">\n",
       "      <th></th>\n",
       "      <th>tweet_id</th>\n",
       "      <th>tweet_date</th>\n",
       "      <th>user_id</th>\n",
       "      <th>screen_name</th>\n",
       "      <th>name</th>\n",
       "      <th>description</th>\n",
       "      <th>text</th>\n",
       "      <th>retweet_count</th>\n",
       "      <th>favorite_count</th>\n",
       "      <th>user_location</th>\n",
       "      <th>tweet_location</th>\n",
       "      <th>long</th>\n",
       "      <th>latt</th>\n",
       "      <th>state</th>\n",
       "      <th>cleaned_text</th>\n",
       "    </tr>\n",
       "  </thead>\n",
       "  <tbody>\n",
       "    <tr>\n",
       "      <th>0</th>\n",
       "      <td>955590854734958592</td>\n",
       "      <td>2018-01-22 23:59:48</td>\n",
       "      <td>813084079180709888</td>\n",
       "      <td>SamanthaRblxYT</td>\n",
       "      <td>sam🦄</td>\n",
       "      <td>I LOVE MA GURPS!! @YourLilPotato &amp; @Little_Sno...</td>\n",
       "      <td>RT @MatthewBender9: #NetNeutrality How it’s go...</td>\n",
       "      <td>1291</td>\n",
       "      <td>0</td>\n",
       "      <td></td>\n",
       "      <td></td>\n",
       "      <td>NaN</td>\n",
       "      <td>NaN</td>\n",
       "      <td></td>\n",
       "      <td>[matthewbender, netneutrality, how, going, loo...</td>\n",
       "    </tr>\n",
       "    <tr>\n",
       "      <th>1</th>\n",
       "      <td>955590762271526912</td>\n",
       "      <td>2018-01-22 23:59:26</td>\n",
       "      <td>830465545275371521</td>\n",
       "      <td>margeholmes6162</td>\n",
       "      <td>Marj</td>\n",
       "      <td></td>\n",
       "      <td>RT @DeadpoolResists: Montana becomes first sta...</td>\n",
       "      <td>475</td>\n",
       "      <td>0</td>\n",
       "      <td></td>\n",
       "      <td></td>\n",
       "      <td>NaN</td>\n",
       "      <td>NaN</td>\n",
       "      <td></td>\n",
       "      <td>[deadpoolresists, montana, becomes, first, sta...</td>\n",
       "    </tr>\n",
       "    <tr>\n",
       "      <th>2</th>\n",
       "      <td>955590754033946634</td>\n",
       "      <td>2018-01-22 23:59:24</td>\n",
       "      <td>3246707126</td>\n",
       "      <td>AllMghtyLantern</td>\n",
       "      <td>AllMightyLantern</td>\n",
       "      <td>Lover of all things comics, games, animation, ...</td>\n",
       "      <td>RT @fightfortheftr: We are ONE VOTE AWAY from ...</td>\n",
       "      <td>839</td>\n",
       "      <td>0</td>\n",
       "      <td></td>\n",
       "      <td></td>\n",
       "      <td>NaN</td>\n",
       "      <td>NaN</td>\n",
       "      <td></td>\n",
       "      <td>[fightfortheftr, we, one, vote, away, winning,...</td>\n",
       "    </tr>\n",
       "    <tr>\n",
       "      <th>3</th>\n",
       "      <td>955590534789124096</td>\n",
       "      <td>2018-01-22 23:58:32</td>\n",
       "      <td>786420072730333184</td>\n",
       "      <td>pyrrpro55</td>\n",
       "      <td>Pyrrhis Productions</td>\n",
       "      <td>Formerly Simulation Studios!</td>\n",
       "      <td>RT @freepress: Don't be fooled: Your activism ...</td>\n",
       "      <td>35</td>\n",
       "      <td>0</td>\n",
       "      <td></td>\n",
       "      <td></td>\n",
       "      <td>NaN</td>\n",
       "      <td>NaN</td>\n",
       "      <td></td>\n",
       "      <td>[freepress, don, fooled, your, activism, suppo...</td>\n",
       "    </tr>\n",
       "    <tr>\n",
       "      <th>4</th>\n",
       "      <td>955590495950041088</td>\n",
       "      <td>2018-01-22 23:58:22</td>\n",
       "      <td>1603164476</td>\n",
       "      <td>bzaenglein</td>\n",
       "      <td>Barbara Zaenglein</td>\n",
       "      <td>#Resist #Notmypresident. #NetNeutrality #Pence...</td>\n",
       "      <td>RT @freepress: We're suing the FCC to save #Ne...</td>\n",
       "      <td>36</td>\n",
       "      <td>0</td>\n",
       "      <td></td>\n",
       "      <td></td>\n",
       "      <td>NaN</td>\n",
       "      <td>NaN</td>\n",
       "      <td></td>\n",
       "      <td>[freepress, we, suing, fcc, save, netneutralit...</td>\n",
       "    </tr>\n",
       "  </tbody>\n",
       "</table>\n",
       "</div>"
      ],
      "text/plain": [
       "             tweet_id          tweet_date             user_id  \\\n",
       "0  955590854734958592 2018-01-22 23:59:48  813084079180709888   \n",
       "1  955590762271526912 2018-01-22 23:59:26  830465545275371521   \n",
       "2  955590754033946634 2018-01-22 23:59:24          3246707126   \n",
       "3  955590534789124096 2018-01-22 23:58:32  786420072730333184   \n",
       "4  955590495950041088 2018-01-22 23:58:22          1603164476   \n",
       "\n",
       "       screen_name                 name  \\\n",
       "0   SamanthaRblxYT                 sam🦄   \n",
       "1  margeholmes6162                 Marj   \n",
       "2  AllMghtyLantern     AllMightyLantern   \n",
       "3        pyrrpro55  Pyrrhis Productions   \n",
       "4       bzaenglein    Barbara Zaenglein   \n",
       "\n",
       "                                         description  \\\n",
       "0  I LOVE MA GURPS!! @YourLilPotato & @Little_Sno...   \n",
       "1                                                      \n",
       "2  Lover of all things comics, games, animation, ...   \n",
       "3                       Formerly Simulation Studios!   \n",
       "4  #Resist #Notmypresident. #NetNeutrality #Pence...   \n",
       "\n",
       "                                                text  retweet_count  \\\n",
       "0  RT @MatthewBender9: #NetNeutrality How it’s go...           1291   \n",
       "1  RT @DeadpoolResists: Montana becomes first sta...            475   \n",
       "2  RT @fightfortheftr: We are ONE VOTE AWAY from ...            839   \n",
       "3  RT @freepress: Don't be fooled: Your activism ...             35   \n",
       "4  RT @freepress: We're suing the FCC to save #Ne...             36   \n",
       "\n",
       "   favorite_count user_location tweet_location long latt state  \\\n",
       "0               0                               NaN  NaN         \n",
       "1               0                               NaN  NaN         \n",
       "2               0                               NaN  NaN         \n",
       "3               0                               NaN  NaN         \n",
       "4               0                               NaN  NaN         \n",
       "\n",
       "                                        cleaned_text  \n",
       "0  [matthewbender, netneutrality, how, going, loo...  \n",
       "1  [deadpoolresists, montana, becomes, first, sta...  \n",
       "2  [fightfortheftr, we, one, vote, away, winning,...  \n",
       "3  [freepress, don, fooled, your, activism, suppo...  \n",
       "4  [freepress, we, suing, fcc, save, netneutralit...  "
      ]
     },
     "execution_count": 17,
     "metadata": {},
     "output_type": "execute_result"
    }
   ],
   "source": [
    "df.head()"
   ]
  },
  {
   "cell_type": "code",
   "execution_count": 18,
   "metadata": {},
   "outputs": [],
   "source": [
    "cleaned_texts = df.cleaned_text.apply(lambda x: ' '.join(x))"
   ]
  },
  {
   "cell_type": "code",
   "execution_count": 19,
   "metadata": {},
   "outputs": [],
   "source": [
    "vectorizer = TfidfVectorizer(use_idf=True, ngram_range=(1, 2))  \n",
    "transformed = vectorizer.fit_transform(cleaned_texts.values)\n",
    "features = vectorizer.get_feature_names()"
   ]
  },
  {
   "cell_type": "code",
   "execution_count": 20,
   "metadata": {},
   "outputs": [
    {
     "data": {
      "text/plain": [
       "(291445, 345471)"
      ]
     },
     "execution_count": 20,
     "metadata": {},
     "output_type": "execute_result"
    }
   ],
   "source": [
    "transformed.shape"
   ]
  },
  {
   "cell_type": "markdown",
   "metadata": {},
   "source": [
    "### Clustering - What are the top text clusters?"
   ]
  },
  {
   "cell_type": "code",
   "execution_count": 21,
   "metadata": {},
   "outputs": [
    {
     "data": {
      "text/plain": [
       "0    243787\n",
       "1     24264\n",
       "3     11778\n",
       "2      6393\n",
       "4      5223\n",
       "Name: cluster_id, dtype: int64"
      ]
     },
     "execution_count": 21,
     "metadata": {},
     "output_type": "execute_result"
    }
   ],
   "source": [
    "n_clusters = 5\n",
    "\n",
    "kmeans = KMeans(n_clusters=n_clusters, n_jobs=-1)\n",
    "kmeans.fit(transformed)\n",
    "clusters = kmeans.labels_.tolist()\n",
    "df['cluster_id'] = clusters\n",
    "\n",
    "df.cluster_id.value_counts()"
   ]
  },
  {
   "cell_type": "code",
   "execution_count": 22,
   "metadata": {},
   "outputs": [
    {
     "name": "stdout",
     "output_type": "stream",
     "text": [
      "\n",
      "\n",
      "Top terms in cluster 0:\n",
      "\n",
      "\tneutrality\n",
      "\tnet\n",
      "\tnet neutrality\n",
      "\tnetneutrality\n",
      "\tfcc\n",
      "\tking\n",
      "\tburger\n",
      "\tstate\n",
      "\tburger king\n",
      "\tmontana\n",
      "\n",
      "\n",
      "Top terms in cluster 1:\n",
      "\n",
      "\twe whopper\n",
      "\texplain repeal\n",
      "\thow would\n",
      "\twould explain\n",
      "\tburgerking how\n",
      "\twatch video\n",
      "\twhopper watch\n",
      "\tneutrality we\n",
      "\thow\n",
      "\twatch\n",
      "\n",
      "\n",
      "Top terms in cluster 2:\n",
      "\n",
      "\tjackedyotweets the\n",
      "\tgovernment take\n",
      "\tjackedyotweets\n",
      "\tneutrality guns\n",
      "\tguns\n",
      "\tthe government\n",
      "\taway net\n",
      "\ttake away\n",
      "\taway\n",
      "\tgovernment\n",
      "\n",
      "\n",
      "Top terms in cluster 3:\n",
      "\n",
      "\tlessened last\n",
      "\tcant forget\n",
      "\tmonths cant\n",
      "\tforget close\n",
      "\tlessened\n",
      "\tcoverage lessened\n",
      "\tnetneutrality coverage\n",
      "\tlast couple\n",
      "\tthough netneutrality\n",
      "\tcouple months\n",
      "\n",
      "\n",
      "Top terms in cluster 4:\n",
      "\n",
      "\tmontana democratic\n",
      "\tservice providers\n",
      "\tdemocratic\n",
      "\tinternet service\n",
      "\tservice\n",
      "\tproviders\n",
      "\tsigned executive\n",
      "\torder mandating\n",
      "\tmandating internet\n",
      "\tmandating\n"
     ]
    }
   ],
   "source": [
    "# sort cluster centers by proximity to centroid\n",
    "centroids_order = kmeans.cluster_centers_.argsort()[:, ::-1]\n",
    "\n",
    "for i in range(n_clusters):\n",
    "    print('\\n\\nTop terms in cluster {}:\\n'.format(i))\n",
    "    for idx in centroids_order[i, :10]:\n",
    "        print('\\t{}'.format(features[idx]))"
   ]
  },
  {
   "cell_type": "markdown",
   "metadata": {},
   "source": [
    "### Topic Modeling - Two Algorithmic Approaches"
   ]
  },
  {
   "cell_type": "markdown",
   "metadata": {},
   "source": [
    "#### LDA (Latent Dirichlet Allocation) Models"
   ]
  },
  {
   "cell_type": "code",
   "execution_count": 23,
   "metadata": {},
   "outputs": [],
   "source": [
    "lemma = WordNetLemmatizer()\n",
    "\n",
    "def lemmatize(text):\n",
    "    return ' '.join(lemma.lemmatize(word) for word in text.split())\n",
    "\n",
    "texts = [text for text in cleaned_texts.values if len(text) > 1]\n",
    "lemmatized_texts = [lemmatize(text).split() for text in texts]"
   ]
  },
  {
   "cell_type": "code",
   "execution_count": 24,
   "metadata": {},
   "outputs": [],
   "source": [
    "dictionary = corpora.Dictionary(lemmatized_texts)\n",
    "terms_matrix = [dictionary.doc2bow(doc) for doc in lemmatized_texts]"
   ]
  },
  {
   "cell_type": "code",
   "execution_count": 25,
   "metadata": {},
   "outputs": [],
   "source": [
    "ldamodel = models.ldamodel.LdaModel(\n",
    "    terms_matrix, num_topics=20, id2word=dictionary, passes=5)"
   ]
  },
  {
   "cell_type": "code",
   "execution_count": 26,
   "metadata": {},
   "outputs": [
    {
     "name": "stdout",
     "output_type": "stream",
     "text": [
      "Top terms in topic 10: \n",
      "['colesprouse', 'healthcare', 'if', 'business', 'want', 'collusion', 'still', 'netneutrality', 'hey', 'you']\n",
      "Top terms in topic 14: \n",
      "['government', 'ajitpaifcc', 'netneutrality', 'support', 'without', 'legislature', 'can', 'february', 'passed', 'smug']\n",
      "Top terms in topic 6: \n",
      "['netneutrality', 'this', 'to', 'back', 'thank', 'the', 'way', 'leading', 'issue', 'yet']\n",
      "Top terms in topic 11: \n",
      "['netneutrality', 'fightfortheftr', 'need', 'one', 'save', 'onemorevote', 'senate', 'vote', 'cra', 'we']\n",
      "Top terms in topic 17: \n",
      "['state', 'net', 'neutrality', 'new', 'via', 'order', 'fcc', 'eff', 'regulator', 'governor']\n",
      "Top terms in topic 15: \n",
      "['the', 'netneutrality', 'fight', 'open', 'feb', 'join', 'rt', 'change', 'state', 'community']\n",
      "Top terms in topic 13: \n",
      "['though', 'coverage', 'rule', 'fcc', 'killing', 'repealed', 'first', 'add', 'common', 'after']\n",
      "Top terms in topic 7: \n",
      "['away', 'cable', 'take', 'netneutrality', 'love', 'co', 'joining', 'show', 'petition', 'medium']\n",
      "Top terms in topic 12: \n",
      "['net', 'neutrality', 'repeal', 'control', 'fuck', 'blocking', 'jersey', 'your', 'not', 'effect']\n",
      "Top terms in topic 18: \n",
      "['couple', 'online', 'blood', 'device', 'killiantrill', 'almost', 'netneutrality', 'look', 'king', 'no']\n"
     ]
    }
   ],
   "source": [
    "for topic in ldamodel.show_topics(num_topics=10, formatted=False, num_words=10):\n",
    "    print(\"Top terms in topic {}: \".format(topic[0]))\n",
    "    words = [w for (w, val) in topic[1]]\n",
    "    print(words)"
   ]
  },
  {
   "cell_type": "markdown",
   "metadata": {},
   "source": [
    "#### NMF (Non-negative Matrix Factorization) Model"
   ]
  },
  {
   "cell_type": "code",
   "execution_count": 27,
   "metadata": {},
   "outputs": [],
   "source": [
    "def display_topics(model, feature_names, no_top_words):\n",
    "    for topic_idx, topic in enumerate(model.components_):\n",
    "        print(\"Topic %d:\" % (topic_idx))\n",
    "        print(\" \".join([feature_names[i]\n",
    "                        for i in topic.argsort()[:-no_top_words - 1:-1]]))\n",
    "no_features = 1000\n",
    "no_topics = 10\n",
    "no_top_words = 10"
   ]
  },
  {
   "cell_type": "code",
   "execution_count": 28,
   "metadata": {},
   "outputs": [],
   "source": [
    "nmf = NMF(n_components=no_topics, random_state=1, alpha=.1, l1_ratio=.5, init='nndsvd').fit(transformed)"
   ]
  },
  {
   "cell_type": "code",
   "execution_count": 29,
   "metadata": {},
   "outputs": [
    {
     "name": "stdout",
     "output_type": "stream",
     "text": [
      "Topic 0:\n",
      "we whopper how would explain repeal would explain burgerking how watch video whopper watch neutrality we watch how\n",
      "Topic 1:\n",
      "cant forget forget close months cant lessened last netneutrality coverage coverage lessened lessened last couple though netneutrality couple months\n",
      "Topic 2:\n",
      "jackedyotweets the government take jackedyotweets neutrality guns guns away net the government take away away government\n",
      "Topic 3:\n",
      "montana democratic signed executive service providers internet service order mandating democratic gov mandating internet mandating gov steve bullock signed\n",
      "Topic 4:\n",
      "first state first montana becomes becomes first becomes state montana fcc repeal neutrality rules state add\n",
      "Topic 5:\n",
      "cared net cared everyone cared blessedzvy remember blessedzvy remember everyone remember everyone net neutrality neutrality\n",
      "Topic 6:\n",
      "pass we need permanent need law we permanent netneutrality need permanent law congressional resolution even\n",
      "Topic 7:\n",
      "needs netneutrality music needs music needs stand stand defend defend internet falloutboy music netneutrality take take stand\n",
      "Topic 8:\n",
      "neutrality net neutrality net king burger burger king new fcc ad york\n",
      "Topic 9:\n",
      "what orange paper common ordinance net land ordinance ordinance gst land common they braille paper braille neutrality braille\n"
     ]
    }
   ],
   "source": [
    "display_topics(nmf, features, no_top_words)"
   ]
  },
  {
   "cell_type": "markdown",
   "metadata": {},
   "source": [
    "### Sentiment Analysis"
   ]
  },
  {
   "cell_type": "markdown",
   "metadata": {},
   "source": [
    "#### Sentiment Analysis using TextBlob Pattern Analyzer"
   ]
  },
  {
   "cell_type": "code",
   "execution_count": 30,
   "metadata": {},
   "outputs": [],
   "source": [
    "def get_tweet_sentiment(tweet):\n",
    "    return TextBlob(tweet).sentiment.polarity"
   ]
  },
  {
   "cell_type": "code",
   "execution_count": 31,
   "metadata": {},
   "outputs": [],
   "source": [
    "df['sentiment'] = df.cleaned_text.apply(lambda x: get_tweet_sentiment(' '.join(x)))"
   ]
  },
  {
   "cell_type": "code",
   "execution_count": 32,
   "metadata": {},
   "outputs": [],
   "source": [
    "hist, edges = np.histogram(df.sentiment.values, bins=np.arange(-1, 1, 0.1))"
   ]
  },
  {
   "cell_type": "code",
   "execution_count": 33,
   "metadata": {},
   "outputs": [
    {
     "data": {
      "image/png": "[encoded data removed]",
      "text/plain": [
       "<matplotlib.figure.Figure at 0x2685bc0b8>"
      ]
     },
     "metadata": {},
     "output_type": "display_data"
    }
   ],
   "source": [
    "from scipy.stats import norm\n",
    "\n",
    "fig, ax = pl.subplots(figsize=(16, 9))\n",
    "df.sentiment.hist(ax=ax, bins=20, color='k', alpha=0.5)\n",
    "# ax.bar(edges, hist, width=width, color='k', alpha=0.5)\n",
    "ax.set_xticks(range(-1, 2))\n",
    "ax.set_xticklabels(['negative', 'neutral', 'positive'], fontsize=24)\n",
    "ax.set_ylabel('# tweets', fontsize=24)\n",
    "x = np.arange(-1, 1, 0.001)\n",
    "ax.plot(x, norm.pdf(x, 0, 0.35) * 500000, '--', linewidth=4, alpha=0.8)\n",
    "ax.vlines(0, 0, 1140000, color='r', linewidth=4, linestyle='-', alpha=0.8)\n",
    "pl.tight_layout()\n",
    "pl.show()"
   ]
  },
  {
   "cell_type": "code",
   "execution_count": 34,
   "metadata": {},
   "outputs": [],
   "source": [
    "THR = 0.2\n",
    "neg = df[df.sentiment < -THR]\n",
    "pos = df[df.sentiment > THR]\n",
    "neg_text = ' '.join(neg.cleaned_text.apply(lambda x: ' '.join(x))).replace('iot', '')\n",
    "pos_text = ' '.join(pos.cleaned_text.apply(lambda x: ' '.join(x))).replace('iot', '')"
   ]
  },
  {
   "cell_type": "code",
   "execution_count": 35,
   "metadata": {},
   "outputs": [
    {
     "data": {
      "text/plain": [
       "[('neutrality', 4201),\n",
       " ('netneutrality', 4061),\n",
       " ('fake', 1811),\n",
       " ('fcc', 1791),\n",
       " ('amp', 1306),\n",
       " ('repeal', 1213),\n",
       " ('internet', 1120),\n",
       " ('comments', 1099),\n",
       " ('at', 1050)]"
      ]
     },
     "execution_count": 35,
     "metadata": {},
     "output_type": "execute_result"
    }
   ],
   "source": [
    "Counter(neg_text.split(' ')).most_common()[1:10]"
   ]
  },
  {
   "cell_type": "code",
   "execution_count": 36,
   "metadata": {},
   "outputs": [
    {
     "data": {
      "text/plain": [
       "[('neutrality', 15099),\n",
       " ('net', 14481),\n",
       " ('burger', 6053),\n",
       " ('king', 5971),\n",
       " ('fcc', 4724),\n",
       " ('repeal', 4283),\n",
       " ('good', 3921),\n",
       " ('fightfortheftr', 3648),\n",
       " ('we', 2997)]"
      ]
     },
     "execution_count": 36,
     "metadata": {},
     "output_type": "execute_result"
    }
   ],
   "source": [
    "Counter(pos_text.split(' ')).most_common()[1:10]"
   ]
  },
  {
   "cell_type": "code",
   "execution_count": 37,
   "metadata": {},
   "outputs": [
    {
     "name": "stdout",
     "output_type": "stream",
     "text": [
      "RT @miketimmons: @AjitPaiFCC You are a terrible person #NetNeutrality\n",
      "\n",
      "@AjitPaiFCC You are a terrible person #NetNeutrality\n",
      "\n",
      "Curbing #netneutrality would be the worst thing for internet.   #simulatedworld  https://t.co/qty1abHt20\n",
      "\n",
      "RT @Nasty_Woman1: When almost all People want this done it should be done IF we had Politicians in DC who did what we elected them to do, w…\n",
      "\n",
      "RT @Nasty_Woman1: When almost all People want this done it should be done IF we had Politicians in DC who did what we elected them to do, w…\n",
      "\n"
     ]
    }
   ],
   "source": [
    "for t in df[df.sentiment == df.sentiment.min()].text[:5]:\n",
    "    print(t + '\\n')"
   ]
  },
  {
   "cell_type": "code",
   "execution_count": 38,
   "metadata": {},
   "outputs": [
    {
     "name": "stdout",
     "output_type": "stream",
     "text": [
      "This. Is. AWESOME!\n",
      "\n",
      "#NetNeutrality https://t.co/3wQXB9UvAp\n",
      "\n",
      "Between @SenatorTester's no vote on the CR this AM, and @GovernorBullock's excellent #NetNeutrality executive order… https://t.co/sh5TDb5ls0\n",
      "\n",
      "@GovernorBullock is leading the nation and doing what is obviously best for Montanans, thank you!! Hopefully other… https://t.co/09CzwBFcNv\n",
      "\n",
      "R/T Are there #Geminis that are seeking an awesome 📖to read.  Download or Order the Print Copy, Now, of the mystery… https://t.co/DBPR8bPK6p\n",
      "\n",
      "Excellent stuff from @Cablefax's resident columnist @SteveEffros. re: #NetNeutrality . https://t.co/FNSwOlwP0D\n",
      "\n"
     ]
    }
   ],
   "source": [
    "for t in df[df.sentiment == df.sentiment.max()].text[:5]:\n",
    "    print(t + '\\n')"
   ]
  },
  {
   "cell_type": "markdown",
   "metadata": {},
   "source": [
    "#### Sentiment Analysis using TextBlob Naive Bayes Analyzer"
   ]
  },
  {
   "cell_type": "code",
   "execution_count": 39,
   "metadata": {},
   "outputs": [],
   "source": [
    "from textblob.sentiments import NaiveBayesAnalyzer\n",
    "\n",
    "def get_nbtweet_sentiment(tweet):\n",
    "    return TextBlob(tweet, analyzer=NaiveBayesAnalyzer()).sentiment.polarity"
   ]
  },
  {
   "cell_type": "code",
   "execution_count": 40,
   "metadata": {},
   "outputs": [],
   "source": [
    "df['nbsentiment'] = df.cleaned_text.apply(lambda x: get_tweet_sentiment(' '.join(x)))"
   ]
  },
  {
   "cell_type": "code",
   "execution_count": 41,
   "metadata": {},
   "outputs": [
    {
     "data": {
      "image/png": "[encoded data removed]",
      "text/plain": [
       "<matplotlib.figure.Figure at 0x26d1c4b38>"
      ]
     },
     "metadata": {},
     "output_type": "display_data"
    }
   ],
   "source": [
    "hist, edges = np.histogram(df.nbsentiment.values, bins=np.arange(-1, 1, 0.1))\n",
    "fig, ax = pl.subplots(figsize=(16, 9))\n",
    "df.nbsentiment.hist(ax=ax, bins=20, color='k', alpha=0.5)\n",
    "# ax.bar(edges, hist, width=width, color='k', alpha=0.5)\n",
    "ax.set_xticks(range(-1, 2))\n",
    "ax.set_xticklabels(['negative', 'neutral', 'positive'], fontsize=24)\n",
    "ax.set_ylabel('# tweets', fontsize=24)\n",
    "x = np.arange(-1, 1, 0.001)\n",
    "ax.plot(x, norm.pdf(x, 0, 0.35) * 500000, '--', linewidth=4, alpha=0.8)\n",
    "ax.vlines(0, 0, 1140000, color='r', linewidth=4, linestyle='-', alpha=0.8)\n",
    "pl.tight_layout()\n",
    "pl.show()"
   ]
  },
  {
   "cell_type": "code",
   "execution_count": 42,
   "metadata": {},
   "outputs": [],
   "source": [
    "nbneg = df[df.nbsentiment < -THR]\n",
    "nbpos = df[df.nbsentiment > THR]\n",
    "nbneg_text = ' '.join(nbneg.cleaned_text.apply(lambda x: ' '.join(x))).replace('iot', '')\n",
    "nbpos_text = ' '.join(nbpos.cleaned_text.apply(lambda x: ' '.join(x))).replace('iot', '')"
   ]
  },
  {
   "cell_type": "code",
   "execution_count": 43,
   "metadata": {},
   "outputs": [
    {
     "data": {
      "text/plain": [
       "[('neutrality', 4201),\n",
       " ('netneutrality', 4061),\n",
       " ('fake', 1811),\n",
       " ('fcc', 1791),\n",
       " ('amp', 1306),\n",
       " ('repeal', 1213),\n",
       " ('internet', 1120),\n",
       " ('comments', 1099),\n",
       " ('at', 1050)]"
      ]
     },
     "execution_count": 43,
     "metadata": {},
     "output_type": "execute_result"
    }
   ],
   "source": [
    "Counter(nbneg_text.split(' ')).most_common()[1:10]"
   ]
  },
  {
   "cell_type": "code",
   "execution_count": 44,
   "metadata": {},
   "outputs": [
    {
     "data": {
      "text/plain": [
       "[('neutrality', 15099),\n",
       " ('net', 14481),\n",
       " ('burger', 6053),\n",
       " ('king', 5971),\n",
       " ('fcc', 4724),\n",
       " ('repeal', 4283),\n",
       " ('good', 3921),\n",
       " ('fightfortheftr', 3648),\n",
       " ('we', 2997)]"
      ]
     },
     "execution_count": 44,
     "metadata": {},
     "output_type": "execute_result"
    }
   ],
   "source": [
    "Counter(nbpos_text.split(' ')).most_common()[1:10]"
   ]
  },
  {
   "cell_type": "code",
   "execution_count": 45,
   "metadata": {},
   "outputs": [
    {
     "name": "stdout",
     "output_type": "stream",
     "text": [
      "RT @miketimmons: @AjitPaiFCC You are a terrible person #NetNeutrality\n",
      "\n",
      "@AjitPaiFCC You are a terrible person #NetNeutrality\n",
      "\n",
      "Curbing #netneutrality would be the worst thing for internet.   #simulatedworld  https://t.co/qty1abHt20\n",
      "\n",
      "RT @Nasty_Woman1: When almost all People want this done it should be done IF we had Politicians in DC who did what we elected them to do, w…\n",
      "\n",
      "RT @Nasty_Woman1: When almost all People want this done it should be done IF we had Politicians in DC who did what we elected them to do, w…\n",
      "\n"
     ]
    }
   ],
   "source": [
    "for t in df[df.nbsentiment == df.nbsentiment.min()].text[:5]:\n",
    "    print(t + '\\n')"
   ]
  },
  {
   "cell_type": "code",
   "execution_count": 46,
   "metadata": {},
   "outputs": [
    {
     "name": "stdout",
     "output_type": "stream",
     "text": [
      "This. Is. AWESOME!\n",
      "\n",
      "#NetNeutrality https://t.co/3wQXB9UvAp\n",
      "\n",
      "Between @SenatorTester's no vote on the CR this AM, and @GovernorBullock's excellent #NetNeutrality executive order… https://t.co/sh5TDb5ls0\n",
      "\n",
      "@GovernorBullock is leading the nation and doing what is obviously best for Montanans, thank you!! Hopefully other… https://t.co/09CzwBFcNv\n",
      "\n",
      "R/T Are there #Geminis that are seeking an awesome 📖to read.  Download or Order the Print Copy, Now, of the mystery… https://t.co/DBPR8bPK6p\n",
      "\n",
      "Excellent stuff from @Cablefax's resident columnist @SteveEffros. re: #NetNeutrality . https://t.co/FNSwOlwP0D\n",
      "\n"
     ]
    }
   ],
   "source": [
    "for t in df[df.nbsentiment == df.nbsentiment.max()].text[:5]:\n",
    "    print(t + '\\n')"
   ]
  },
  {
   "cell_type": "markdown",
   "metadata": {},
   "source": [
    "#### Compare sentiments by state"
   ]
  },
  {
   "cell_type": "code",
   "execution_count": 59,
   "metadata": {},
   "outputs": [],
   "source": [
    "df2 = df[['sentiment', 'state']]\n",
    "df3 = df2.pivot_table(index='state', aggfunc='mean')\n",
    "df3 = df3.drop(['', 'Burger King', 'IHOP', 'United States', 'Yogurtland'])"
   ]
  },
  {
   "cell_type": "code",
   "execution_count": 60,
   "metadata": {},
   "outputs": [
    {
     "data": {
      "text/html": [
       "<div>\n",
       "<style scoped>\n",
       "    .dataframe tbody tr th:only-of-type {\n",
       "        vertical-align: middle;\n",
       "    }\n",
       "\n",
       "    .dataframe tbody tr th {\n",
       "        vertical-align: top;\n",
       "    }\n",
       "\n",
       "    .dataframe thead th {\n",
       "        text-align: right;\n",
       "    }\n",
       "</style>\n",
       "<table border=\"1\" class=\"dataframe\">\n",
       "  <thead>\n",
       "    <tr style=\"text-align: right;\">\n",
       "      <th></th>\n",
       "      <th>sentiment</th>\n",
       "    </tr>\n",
       "    <tr>\n",
       "      <th>state</th>\n",
       "      <th></th>\n",
       "    </tr>\n",
       "  </thead>\n",
       "  <tbody>\n",
       "    <tr>\n",
       "      <th>Alabama</th>\n",
       "      <td>0.080655</td>\n",
       "    </tr>\n",
       "    <tr>\n",
       "      <th>Alaska</th>\n",
       "      <td>0.056374</td>\n",
       "    </tr>\n",
       "    <tr>\n",
       "      <th>Arizona</th>\n",
       "      <td>0.017437</td>\n",
       "    </tr>\n",
       "    <tr>\n",
       "      <th>Arkansas</th>\n",
       "      <td>0.018033</td>\n",
       "    </tr>\n",
       "    <tr>\n",
       "      <th>California</th>\n",
       "      <td>0.069014</td>\n",
       "    </tr>\n",
       "    <tr>\n",
       "      <th>Colorado</th>\n",
       "      <td>0.073561</td>\n",
       "    </tr>\n",
       "    <tr>\n",
       "      <th>Connecticut</th>\n",
       "      <td>-0.001046</td>\n",
       "    </tr>\n",
       "    <tr>\n",
       "      <th>Delaware</th>\n",
       "      <td>0.050606</td>\n",
       "    </tr>\n",
       "    <tr>\n",
       "      <th>District of Columbia</th>\n",
       "      <td>0.092378</td>\n",
       "    </tr>\n",
       "    <tr>\n",
       "      <th>Florida</th>\n",
       "      <td>0.029513</td>\n",
       "    </tr>\n",
       "    <tr>\n",
       "      <th>Georgia</th>\n",
       "      <td>0.091607</td>\n",
       "    </tr>\n",
       "    <tr>\n",
       "      <th>Hawaii</th>\n",
       "      <td>0.017308</td>\n",
       "    </tr>\n",
       "    <tr>\n",
       "      <th>Idaho</th>\n",
       "      <td>-0.014782</td>\n",
       "    </tr>\n",
       "    <tr>\n",
       "      <th>Illinois</th>\n",
       "      <td>0.131488</td>\n",
       "    </tr>\n",
       "    <tr>\n",
       "      <th>Indiana</th>\n",
       "      <td>0.055238</td>\n",
       "    </tr>\n",
       "    <tr>\n",
       "      <th>Iowa</th>\n",
       "      <td>0.061682</td>\n",
       "    </tr>\n",
       "    <tr>\n",
       "      <th>Kansas</th>\n",
       "      <td>0.024206</td>\n",
       "    </tr>\n",
       "    <tr>\n",
       "      <th>Kentucky</th>\n",
       "      <td>0.082400</td>\n",
       "    </tr>\n",
       "    <tr>\n",
       "      <th>Louisiana</th>\n",
       "      <td>0.044059</td>\n",
       "    </tr>\n",
       "    <tr>\n",
       "      <th>Maine</th>\n",
       "      <td>0.008333</td>\n",
       "    </tr>\n",
       "    <tr>\n",
       "      <th>Maryland</th>\n",
       "      <td>0.044245</td>\n",
       "    </tr>\n",
       "    <tr>\n",
       "      <th>Massachusetts</th>\n",
       "      <td>0.172293</td>\n",
       "    </tr>\n",
       "    <tr>\n",
       "      <th>Michigan</th>\n",
       "      <td>0.035751</td>\n",
       "    </tr>\n",
       "    <tr>\n",
       "      <th>Minnesota</th>\n",
       "      <td>0.027438</td>\n",
       "    </tr>\n",
       "    <tr>\n",
       "      <th>Mississippi</th>\n",
       "      <td>0.032051</td>\n",
       "    </tr>\n",
       "    <tr>\n",
       "      <th>Missouri</th>\n",
       "      <td>0.093755</td>\n",
       "    </tr>\n",
       "    <tr>\n",
       "      <th>Montana</th>\n",
       "      <td>0.076449</td>\n",
       "    </tr>\n",
       "    <tr>\n",
       "      <th>Nebraska</th>\n",
       "      <td>0.100439</td>\n",
       "    </tr>\n",
       "    <tr>\n",
       "      <th>Nevada</th>\n",
       "      <td>0.126483</td>\n",
       "    </tr>\n",
       "    <tr>\n",
       "      <th>New Hampshire</th>\n",
       "      <td>0.203125</td>\n",
       "    </tr>\n",
       "    <tr>\n",
       "      <th>New Jersey</th>\n",
       "      <td>0.044099</td>\n",
       "    </tr>\n",
       "    <tr>\n",
       "      <th>New Mexico</th>\n",
       "      <td>0.101794</td>\n",
       "    </tr>\n",
       "    <tr>\n",
       "      <th>New York</th>\n",
       "      <td>0.082538</td>\n",
       "    </tr>\n",
       "    <tr>\n",
       "      <th>North Carolina</th>\n",
       "      <td>0.079970</td>\n",
       "    </tr>\n",
       "    <tr>\n",
       "      <th>North Dakota</th>\n",
       "      <td>0.034091</td>\n",
       "    </tr>\n",
       "    <tr>\n",
       "      <th>Ohio</th>\n",
       "      <td>0.044859</td>\n",
       "    </tr>\n",
       "    <tr>\n",
       "      <th>Oklahoma</th>\n",
       "      <td>0.036553</td>\n",
       "    </tr>\n",
       "    <tr>\n",
       "      <th>Oregon</th>\n",
       "      <td>0.118573</td>\n",
       "    </tr>\n",
       "    <tr>\n",
       "      <th>Outside US</th>\n",
       "      <td>0.086332</td>\n",
       "    </tr>\n",
       "    <tr>\n",
       "      <th>Pennsylvania</th>\n",
       "      <td>0.056691</td>\n",
       "    </tr>\n",
       "    <tr>\n",
       "      <th>Puerto Rico</th>\n",
       "      <td>0.035354</td>\n",
       "    </tr>\n",
       "    <tr>\n",
       "      <th>Rhode Island</th>\n",
       "      <td>0.099134</td>\n",
       "    </tr>\n",
       "    <tr>\n",
       "      <th>South Carolina</th>\n",
       "      <td>0.002735</td>\n",
       "    </tr>\n",
       "    <tr>\n",
       "      <th>South Dakota</th>\n",
       "      <td>0.267172</td>\n",
       "    </tr>\n",
       "    <tr>\n",
       "      <th>Tennessee</th>\n",
       "      <td>0.047829</td>\n",
       "    </tr>\n",
       "    <tr>\n",
       "      <th>Texas</th>\n",
       "      <td>0.075723</td>\n",
       "    </tr>\n",
       "    <tr>\n",
       "      <th>Utah</th>\n",
       "      <td>0.045637</td>\n",
       "    </tr>\n",
       "    <tr>\n",
       "      <th>Vermont</th>\n",
       "      <td>-0.025926</td>\n",
       "    </tr>\n",
       "    <tr>\n",
       "      <th>Virginia</th>\n",
       "      <td>0.039356</td>\n",
       "    </tr>\n",
       "    <tr>\n",
       "      <th>Washington</th>\n",
       "      <td>0.060679</td>\n",
       "    </tr>\n",
       "    <tr>\n",
       "      <th>West Virginia</th>\n",
       "      <td>0.101791</td>\n",
       "    </tr>\n",
       "    <tr>\n",
       "      <th>Wisconsin</th>\n",
       "      <td>0.074466</td>\n",
       "    </tr>\n",
       "    <tr>\n",
       "      <th>Wyoming</th>\n",
       "      <td>0.000000</td>\n",
       "    </tr>\n",
       "  </tbody>\n",
       "</table>\n",
       "</div>"
      ],
      "text/plain": [
       "                      sentiment\n",
       "state                          \n",
       "Alabama                0.080655\n",
       "Alaska                 0.056374\n",
       "Arizona                0.017437\n",
       "Arkansas               0.018033\n",
       "California             0.069014\n",
       "Colorado               0.073561\n",
       "Connecticut           -0.001046\n",
       "Delaware               0.050606\n",
       "District of Columbia   0.092378\n",
       "Florida                0.029513\n",
       "Georgia                0.091607\n",
       "Hawaii                 0.017308\n",
       "Idaho                 -0.014782\n",
       "Illinois               0.131488\n",
       "Indiana                0.055238\n",
       "Iowa                   0.061682\n",
       "Kansas                 0.024206\n",
       "Kentucky               0.082400\n",
       "Louisiana              0.044059\n",
       "Maine                  0.008333\n",
       "Maryland               0.044245\n",
       "Massachusetts          0.172293\n",
       "Michigan               0.035751\n",
       "Minnesota              0.027438\n",
       "Mississippi            0.032051\n",
       "Missouri               0.093755\n",
       "Montana                0.076449\n",
       "Nebraska               0.100439\n",
       "Nevada                 0.126483\n",
       "New Hampshire          0.203125\n",
       "New Jersey             0.044099\n",
       "New Mexico             0.101794\n",
       "New York               0.082538\n",
       "North Carolina         0.079970\n",
       "North Dakota           0.034091\n",
       "Ohio                   0.044859\n",
       "Oklahoma               0.036553\n",
       "Oregon                 0.118573\n",
       "Outside US             0.086332\n",
       "Pennsylvania           0.056691\n",
       "Puerto Rico            0.035354\n",
       "Rhode Island           0.099134\n",
       "South Carolina         0.002735\n",
       "South Dakota           0.267172\n",
       "Tennessee              0.047829\n",
       "Texas                  0.075723\n",
       "Utah                   0.045637\n",
       "Vermont               -0.025926\n",
       "Virginia               0.039356\n",
       "Washington             0.060679\n",
       "West Virginia          0.101791\n",
       "Wisconsin              0.074466\n",
       "Wyoming                0.000000"
      ]
     },
     "execution_count": 60,
     "metadata": {},
     "output_type": "execute_result"
    }
   ],
   "source": [
    "df3"
   ]
  },
  {
   "cell_type": "code",
   "execution_count": null,
   "metadata": {},
   "outputs": [],
   "source": []
  }
 ],
 "metadata": {
  "kernelspec": {
   "display_name": "Python 3",
   "language": "python",
   "name": "python3"
  },
  "language_info": {
   "codemirror_mode": {
    "name": "ipython",
    "version": 3
   },
   "file_extension": ".py",
   "mimetype": "text/x-python",
   "name": "python",
   "nbconvert_exporter": "python",
   "pygments_lexer": "ipython3",
   "version": "3.6.1"
  }
 },
 "nbformat": 4,
 "nbformat_minor": 2
}
